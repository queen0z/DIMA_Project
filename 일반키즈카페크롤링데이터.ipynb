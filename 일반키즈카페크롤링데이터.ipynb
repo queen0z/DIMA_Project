{
 "cells": [
  {
   "cell_type": "markdown",
   "id": "edac48dc",
   "metadata": {},
   "source": [
    "# 일반 키즈카페 데이터 "
   ]
  },
  {
   "cell_type": "code",
   "execution_count": null,
   "id": "7db6d93b",
   "metadata": {},
   "outputs": [],
   "source": [
    "import requests\n",
    "import pandas as pd\n",
    "import time\n",
    "\n",
    "# 1. 행정동 리스트 불러오기\n",
    "dong_df = pd.read_excel('./서울시_법정동_행정동_매핑.xlsx')\n",
    "\n",
    "# '행정동명' 컬럼에서 중복 없이 추출\n",
    "dong_list = dong_df['행정동명'].dropna().unique().tolist()\n",
    "\n",
    "# 2. 카카오맵 API 설정\n",
    "KAKAO_API_KEY = 'e32c09e7d6b15e3397f974fd6e87238a'  # REST API KEY 입력\n",
    "headers = {\"Authorization\": f\"KakaoAK {KAKAO_API_KEY}\"}\n",
    "\n",
    "# 3. 크롤링 실행\n",
    "results = []\n",
    "\n",
    "for dong in dong_list:\n",
    "    for page in range(1, 4):  \n",
    "        query = f\"{dong} 키즈카페\"\n",
    "        url = \"https://dapi.kakao.com/v2/local/search/keyword.json\"\n",
    "        params = {\"query\": query, \"page\": page, \"size\": 15}\n",
    "        \n",
    "        response = requests.get(url, headers=headers, params=params)\n",
    "        if response.status_code != 200:\n",
    "            print(f\"[ERROR] {dong} page {page} 요청 실패: {response.text}\")\n",
    "            continue\n",
    "\n",
    "        data = response.json()\n",
    "        documents = data.get('documents', [])\n",
    "        if not documents:\n",
    "            break \n",
    "\n",
    "        for doc in documents:\n",
    "            results.append({\n",
    "                '검색동': dong,\n",
    "                '시설명': doc.get('place_name'),\n",
    "                '카테고리': doc.get('category_group_name', ''),\n",
    "                '도로명주소': doc.get('road_address_name', ''),\n",
    "                '지번주소': doc.get('address_name', ''),\n",
    "                '위도': doc.get('y'),\n",
    "                '경도': doc.get('x'),\n",
    "                '전화번호': doc.get('phone', ''),\n",
    "                '링크': doc.get('place_url', ''),\n",
    "            })\n",
    "\n",
    "        time.sleep(0.3)  \n",
    "\n",
    "# 4. 데이터 저장\n",
    "df = pd.DataFrame(results)\n",
    "df = df.drop_duplicates(subset=['시설명', '위도', '경도'])  # 중복 제거\n",
    "df.to_csv('서울시_일반_키즈카페_정제최종.csv', index=False, encoding='utf-8-sig')\n",
    "\n",
    "print(\"저장된 행 개수:\", len(df))\n"
   ]
  }
 ],
 "metadata": {
  "language_info": {
   "name": "python"
  }
 },
 "nbformat": 4,
 "nbformat_minor": 5
}
