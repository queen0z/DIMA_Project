{
 "cells": [
  {
   "cell_type": "markdown",
   "id": "2abf330e-210f-42ec-9c3c-d1b96504cb17",
   "metadata": {},
   "source": [
    "# 로지스틱 회귀 상관성 분석"
   ]
  },
  {
   "cell_type": "code",
   "execution_count": 16,
   "id": "c98dd515-3267-4b62-8beb-b7b45e224fb7",
   "metadata": {},
   "outputs": [
    {
     "name": "stdout",
     "output_type": "stream",
     "text": [
      "            변수명      회귀계수      표준오차         z   p-value    신뢰구간_하     신뢰구간_상\n",
      "0         const  8.532795  7.624361  1.119149  0.263077 -6.410678  23.476267\n",
      "1  총생활인구_평균_log  0.254848  0.402694  0.632856  0.526827 -0.534418   1.044114\n",
      "2   아동인구_평균_log  0.368570  0.368735  0.999552  0.317528 -0.354138   1.091277\n",
      "3     소득_평균_log -1.032627  0.482264 -2.141209  0.032257 -1.977846  -0.087408\n",
      "4        대중교통_수 -0.000858  0.004784 -0.179289  0.857711 -0.010234   0.008518\n",
      "5        보육시설_수 -0.028785  0.034601 -0.831915  0.405457 -0.096603   0.039032\n",
      "6        초등학교_수  0.173876  0.128035  1.358031  0.174454 -0.077069   0.424820\n",
      "7       키움센터_개수  0.004534  0.003471  1.306001  0.191552 -0.002270   0.011337\n",
      "8        유흥시설_수 -0.004583  0.004166 -1.100052  0.271309 -0.012749   0.003583\n",
      "9     일반키즈카페_개수  0.040121  0.118810  0.337694  0.735594 -0.192741   0.272984\n"
     ]
    }
   ],
   "source": [
    "import pandas as pd\n",
    "import numpy as np\n",
    "import statsmodels.api as sm\n",
    "\n",
    "# 1. CSV 파일 불러오기\n",
    "df = pd.read_csv(\"분석용데이터_소득생활인구_아동인구_보간완료.csv\")\n",
    "\n",
    "# 2. 평균값 변수 생성\n",
    "df['총생활인구_평균'] = df[['총생활인구_2024Q1', '총생활인구_2024Q2', '총생활인구_2024Q3', '총생활인구_2024Q4']].mean(axis=1)\n",
    "df['소득_평균'] = df[['소득_2024Q1', '소득_2024Q2', '소득_2024Q3', '소득_2024Q4']].mean(axis=1)\n",
    "df['아동인구_평균'] = df[\n",
    "    ['아동인구_0_4세_2024Q1', '아동인구_0_4세_2024Q2', '아동인구_0_4세_2024Q3', '아동인구_0_4세_2024Q4',\n",
    "     '아동인구_5_9세_2024Q1', '아동인구_5_9세_2024Q2', '아동인구_5_9세_2024Q3', '아동인구_5_9세_2024Q4']\n",
    "].mean(axis=1)\n",
    "\n",
    "# 3. 로그변환 컬럼 생성\n",
    "df['총생활인구_평균_log'] = np.log1p(df['총생활인구_평균'])\n",
    "df['소득_평균_log'] = np.log1p(df['소득_평균'])\n",
    "df['아동인구_평균_log'] = np.log1p(df['아동인구_평균'])\n",
    "\n",
    "# 교통, 보육 통합 변수\n",
    "df[\"대중교통_수\"] = df[\"버스정류장_수\"] + df[\"지하철역_수\"]\n",
    "df[\"보육시설_수\"] = df[\"유치원_수\"] + df[\"어린이집_수\"]\n",
    "\n",
    "# 4. 회귀 분석용 변수 정의\n",
    "cols_logit = [\n",
    "    \"총생활인구_평균_log\", \"아동인구_평균_log\", \"소득_평균_log\", \"대중교통_수\",\n",
    "    \"보육시설_수\", \"초등학교_수\", \"키움센터_개수\", \"유흥시설_수\", \"일반키즈카페_개수\"\n",
    "]\n",
    "\n",
    "X = df[cols_logit]\n",
    "X = sm.add_constant(X)  # 절편항 추가\n",
    "y = (df[\"서울형키즈카페_개수\"] > 0).astype(int)  # 서울형 키즈카페 유무 (0 또는 1)\n",
    "\n",
    "# 5. 로지스틱 회귀 모델 적합\n",
    "logit_model = sm.Logit(y, X)\n",
    "result = logit_model.fit(disp=0)\n",
    "\n",
    "# 6. 결과 요약 출력\n",
    "summary_df = result.summary2().tables[1].reset_index()\n",
    "summary_df.columns = [\"변수명\", \"회귀계수\", \"표준오차\", \"z\", \"p-value\", \"신뢰구간_하\", \"신뢰구간_상\"]\n",
    "\n",
    "# 7. 출력\n",
    "print(summary_df)"
   ]
  },
  {
   "cell_type": "markdown",
   "id": "344b81a8-6dc0-47d8-bfda-70d09f402cd5",
   "metadata": {},
   "source": [
    "# 라쏘 회귀 분석"
   ]
  },
  {
   "cell_type": "code",
   "execution_count": 24,
   "id": "f31cb4cb-d547-4c3e-8f2b-f1e1850bd56e",
   "metadata": {},
   "outputs": [
    {
     "name": "stdout",
     "output_type": "stream",
     "text": [
      "LASSO 회귀 계수 (alpha=0.01):\n",
      "총생활인구_평균_log    0.023837\n",
      "아동인구_평균_log     0.000490\n",
      "소득_평균_log      -0.050434\n",
      "대중교통_수         -0.005461\n",
      "보육시설_수          0.000000\n",
      "초등학교_수          0.011513\n",
      "키움센터_개수         0.018582\n",
      "유흥시설_수         -0.043345\n",
      "일반키즈카페_개수       0.086469\n",
      "dtype: float64\n"
     ]
    }
   ],
   "source": [
    "import pandas as pd\n",
    "import numpy as np\n",
    "from sklearn.linear_model import Lasso\n",
    "from sklearn.preprocessing import StandardScaler\n",
    "\n",
    "# 1. 데이터 불러오기\n",
    "df = pd.read_csv(\"분석용데이터_소득생활인구_아동인구_보간완료.csv\")\n",
    "\n",
    "# 2. 파생변수 생성\n",
    "df[\"대중교통_수\"] = df[\"버스정류장_수\"] + df[\"지하철역_수\"]\n",
    "df[\"보육시설_수\"] = df[\"어린이집_수\"] + df[\"유치원_수\"]\n",
    "\n",
    "# 3. 평균 컬럼 생성 (2024Q1~Q4 기준)\n",
    "df[\"총생활인구_평균\"] = df[[f\"총생활인구_2024Q{i}\" for i in range(1, 5)]].mean(axis=1)\n",
    "df[\"소득_평균\"] = df[[f\"소득_2024Q{i}\" for i in range(1, 5)]].mean(axis=1)\n",
    "df[\"아동인구_평균\"] = df[[f\"아동인구_0_4세_2024Q{i}\" for i in range(1, 5)] + \n",
    "                       [f\"아동인구_5_9세_2024Q{i}\" for i in range(1, 5)]].mean(axis=1)\n",
    "\n",
    "# 4. 로그변환\n",
    "df[\"총생활인구_평균_log\"] = np.log1p(df[\"총생활인구_평균\"])\n",
    "df[\"소득_평균_log\"] = np.log1p(df[\"소득_평균\"])\n",
    "df[\"아동인구_평균_log\"] = np.log1p(df[\"아동인구_평균\"])\n",
    "\n",
    "# 5. 회귀용 변수 선택\n",
    "cols_lasso = [\n",
    "    \"총생활인구_평균_log\", \"아동인구_평균_log\", \"소득_평균_log\", \"대중교통_수\",\n",
    "    \"보육시설_수\", \"초등학교_수\", \"키움센터_개수\", \"유흥시설_수\", \"일반키즈카페_개수\"\n",
    "]\n",
    "\n",
    "X = df[cols_lasso]\n",
    "y = df[\"서울형키즈카페_개수\"]\n",
    "\n",
    "# 6. 표준화 (Z-score)\n",
    "scaler = StandardScaler()\n",
    "X_scaled = scaler.fit_transform(X)\n",
    "\n",
    "# 7. LASSO 회귀 모델 적합\n",
    "lasso = Lasso(alpha=0.01)\n",
    "lasso.fit(X_scaled, y)\n",
    "\n",
    "# 8. 결과 출력\n",
    "coefficients = pd.Series(lasso.coef_, index=cols_lasso)\n",
    "print(\"LASSO 회귀 계수 (alpha=0.01):\")\n",
    "print(coefficients)"
   ]
  },
  {
   "cell_type": "markdown",
   "id": "bd44e1ab-23ce-49e8-ab46-01a418d5eee6",
   "metadata": {},
   "source": [
    "# 정준상관분석"
   ]
  },
  {
   "cell_type": "code",
   "execution_count": 28,
   "id": "d9c6b2bd-674d-4256-8f08-21a33ecc41ec",
   "metadata": {},
   "outputs": [
    {
     "name": "stdout",
     "output_type": "stream",
     "text": [
      "[서울형 키즈카페] 정준상관계수: 0.2447\n",
      "변수별 기여계수:\n",
      " - 총생활인구_log: 0.2773\n",
      " - 소득_log: -0.4767\n",
      " - 아동인구_평균_log: 0.0010\n",
      " - 보육시설_수: -0.0251\n",
      " - 초등학교_수: 0.1183\n",
      " - 대중교통_수: -0.1337\n",
      " - 유흥시설_수: -0.3416\n",
      " - 키움센터_개수: 0.2292\n",
      " - 일반키즈카페_개수: 0.7029\n",
      "\n",
      "[공공형 키즈카페] 정준상관계수: 0.61\n",
      "변수별 기여계수:\n",
      " - 총생활인구_log: 0.0174\n",
      " - 소득_log: -0.1611\n",
      " - 아동인구_평균_log: -0.0764\n",
      " - 보육시설_수: 0.0597\n",
      " - 초등학교_수: 0.1397\n",
      " - 대중교통_수: 0.0515\n",
      " - 유흥시설_수: -0.1029\n",
      " - 키움센터_개수: 0.0486\n",
      " - 일반키즈카페_개수: 0.9640\n"
     ]
    }
   ],
   "source": [
    "import pandas as pd\n",
    "import numpy as np\n",
    "from sklearn.preprocessing import StandardScaler\n",
    "from sklearn.cross_decomposition import CCA\n",
    "\n",
    "# 독립변수 (입지 요인 그룹)\n",
    "X = df[[\n",
    "    \"총생활인구_log\", \"소득_log\", \"아동인구_평균_log\", \"보육시설_수\",\n",
    "    \"초등학교_수\", \"대중교통_수\", \"유흥시설_수\", \"키움센터_개수\", \"일반키즈카페_개수\"\n",
    "]]\n",
    "\n",
    "# 결과변수 그룹 정의\n",
    "Y_서울형 = df[[\"서울형키즈카페_개수\"]]\n",
    "Y_공공형 = df[[\"서울형키즈카페_개수\", \"민간인증제키즈카페_개수\"]].sum(axis=1).to_frame(name=\"공공형키즈카페_개수\")\n",
    "\n",
    "# 정규화\n",
    "scaler_x = StandardScaler()\n",
    "X_scaled = scaler_x.fit_transform(X)\n",
    "\n",
    "# (1) 서울형 모델\n",
    "scaler_y1 = StandardScaler()\n",
    "Y1_scaled = scaler_y1.fit_transform(Y_서울형)\n",
    "\n",
    "cca1 = CCA(n_components=1)\n",
    "cca1.fit(X_scaled, Y1_scaled)\n",
    "U1, V1 = cca1.transform(X_scaled, Y1_scaled)\n",
    "\n",
    "# (2) 공공형 모델\n",
    "scaler_y2 = StandardScaler()\n",
    "Y2_scaled = scaler_y2.fit_transform(Y_공공형)\n",
    "\n",
    "cca2 = CCA(n_components=1)\n",
    "cca2.fit(X_scaled, Y2_scaled)\n",
    "U2, V2 = cca2.transform(X_scaled, Y2_scaled)\n",
    "\n",
    "# 7. 결과 출력\n",
    "from scipy.stats import pearsonr\n",
    "\n",
    "corr1 = pearsonr(U1.ravel(), V1.ravel())[0]\n",
    "corr2 = pearsonr(U2.ravel(), V2.ravel())[0]\n",
    "\n",
    "print(\"[서울형 키즈카페] 정준상관계수:\", round(corr1, 4))\n",
    "print(\"변수별 기여계수:\")\n",
    "for var, coef in zip(X.columns, cca1.x_weights_.ravel()):\n",
    "    print(f\" - {var}: {coef:.4f}\")\n",
    "\n",
    "print(\"\\n[공공형 키즈카페] 정준상관계수:\", round(corr2, 4))\n",
    "print(\"변수별 기여계수:\")\n",
    "for var, coef in zip(X.columns, cca2.x_weights_.ravel()):\n",
    "    print(f\" - {var}: {coef:.4f}\")"
   ]
  },
  {
   "cell_type": "markdown",
   "id": "f52e7aef-485d-41dc-94c6-dcc2977ccc35",
   "metadata": {},
   "source": [
    "# "
   ]
  }
 ],
 "metadata": {
  "kernelspec": {
   "display_name": "Python [conda env:base] *",
   "language": "python",
   "name": "conda-base-py"
  },
  "language_info": {
   "codemirror_mode": {
    "name": "ipython",
    "version": 3
   },
   "file_extension": ".py",
   "mimetype": "text/x-python",
   "name": "python",
   "nbconvert_exporter": "python",
   "pygments_lexer": "ipython3",
   "version": "3.12.7"
  }
 },
 "nbformat": 4,
 "nbformat_minor": 5
}
