{
 "cells": [
  {
   "cell_type": "code",
   "execution_count": 90,
   "id": "56fd4ddb-7c9e-404b-963f-d624ff6a1e33",
   "metadata": {},
   "outputs": [],
   "source": [
    "import pandas as pd\n",
    "\n",
    "# 파일 경로\n",
    "file_school = \"./merge/유치원_초등학교_행정동코드_매핑완료.csv\"\n",
    "file_nursery = \"./merge/서울시_어린이집_행정동코드_최종완료.csv\"\n",
    "\n",
    "# 파일 불러오기\n",
    "df_school = pd.read_csv(file_school)\n",
    "df_nursery = pd.read_csv(file_nursery)\n",
    "\n",
    "# 초등학교/유치원 분리\n",
    "df_elem = df_school[df_school['시설유형'] == '초등학교'].copy()\n",
    "df_kinder = df_school[df_school['시설유형'] == '유치원'].copy()\n",
    "\n",
    "# 초등학교: 위도, 경도 컬럼 유지\n",
    "df_elem_full = df_school[df_school['시설유형'] == '초등학교'].copy()\n",
    "df_elem_full = df_elem_full.rename(columns={\n",
    "    '시설명': '시설명',\n",
    "    '도로명 주소': '시설주소',\n",
    "    '행자부행정동코드': '행자부행정동코드',\n",
    "    '위도': '위도',\n",
    "    '경도': '경도'\n",
    "})[['시설명', '시설주소', '행자부행정동코드', '위도', '경도']]\n",
    "\n",
    "# 유치원: 위도, 경도 컬럼 유지\n",
    "df_kinder_fixed = df_school[df_school['시설유형'].str.contains('유치원')].copy()\n",
    "\n",
    "df_kinder_fixed = df_kinder_fixed.rename(columns={\n",
    "    '시설명': '시설명',\n",
    "    '도로명 주소': '시설주소',\n",
    "    '행자부행정동코드': '행자부행정동코드',\n",
    "    '위도': '위도',\n",
    "    '경도': '경도'\n",
    "})[['시설명', '시설주소', '행자부행정동코드', '위도', '경도']]\n",
    "\n",
    "# 어린이집: 위도, 경도 컬럼도 변경\n",
    "df_nursery_full = df_nursery.copy()\n",
    "df_nursery_full = df_nursery.rename(columns={\n",
    "    '어린이집명': '시설명',\n",
    "    '상세주소': '시설주소',\n",
    "    '행자부행정동코드': '행자부행정동코드',\n",
    "    '시설 위도(좌표값)_수정': '위도',\n",
    "    '시설 경도(좌표값)_수정': '경도'\n",
    "})[['시설명', '시설주소', '행자부행정동코드', '위도', '경도']]\n",
    "\n",
    "# 유치원 중 어린이집과 중복 제거\n",
    "df_kinder_filtered = df_kinder_fixed.merge(\n",
    "    df_nursery_full, on=['시설명', '행자부행정동코드'], how='left', indicator=True\n",
    ")\n",
    "df_kinder_filtered = df_kinder_filtered[df_kinder_filtered['_merge'] == 'left_only']\n",
    "df_kinder_filtered = df_kinder_filtered.drop(columns=['_merge', '시설주소_y', '위도_y', '경도_y']).rename(columns={\n",
    "    '시설주소_x': '시설주소',\n",
    "    '위도_x': '위도',\n",
    "    '경도_x': '경도'\n",
    "})\n",
    "\n",
    "# 최종 병합\n",
    "df_merged_with_kinder = pd.merge(df_elem_full, df_kinder_filtered, how='outer')\n",
    "df_merged_with_kinder = pd.merge(df_merged_with_kinder, df_nursery_full, how='outer')"
   ]
  },
  {
   "cell_type": "markdown",
   "id": "259b5a5f-7eaa-48f9-95e0-5cd3519cc82f",
   "metadata": {},
   "source": [
    "### 없는거 채우기"
   ]
  },
  {
   "cell_type": "code",
   "execution_count": 94,
   "id": "abc39dad-1bbd-4efa-a521-0865ed619aec",
   "metadata": {},
   "outputs": [
    {
     "name": "stdout",
     "output_type": "stream",
     "text": [
      "                 시설명        시설주소  행자부행정동코드         위도          경도\n",
      "141          강동유정유치원   상일로10길 41       NaN  37.550562  127.174954\n",
      "194            고덕유치원    구천면로 645       NaN  37.551112  127.169246\n",
      "2420        서울강명초등학교    상일로 74-1       NaN  37.554706  127.173374\n",
      "2458        서울고일초등학교  구천면로93길 20       NaN  37.551543  127.169410\n",
      "2461        서울고현초등학교  상일로11길 110       NaN  37.553804  127.166050\n",
      "2561        서울대진초등학교  개포로109길 74       NaN  37.497028  127.077861\n",
      "2629        서울면중초등학교  용마산로70길 43       NaN  37.582442  127.096551\n",
      "2728        서울상일초등학교   천호대로 1477       NaN  37.547572  127.172663\n",
      "3160        서울항동초등학교     연동로 178       NaN  37.477092  126.824190\n",
      "3297           선아유치원    구천면로 650       NaN  37.550319  127.169808\n",
      "3924            연유치원   명지대길 39-4       NaN  37.581879  126.924076\n",
      "4398           이화유치원   개포로109길 5       NaN  37.492322  127.074601\n",
      "4729           충암유치원     가좌로5길 5       NaN  37.584640  126.921809\n",
      "5110  한영중고등학교병설한영유치원     동남로 832       NaN  37.549084  127.156928\n",
      "Empty DataFrame\n",
      "Columns: [시설명, 시설주소, 행자부행정동코드, 위도, 경도]\n",
      "Index: []\n"
     ]
    }
   ],
   "source": [
    "import numpy as np\n",
    "\n",
    "print(df_merged_with_kinder[df_merged_with_kinder['행자부행정동코드'].isna()==True])\n",
    "\n",
    "mapping = {'강동유정유치원':1174052600,\n",
    "           '고덕유치원':1174052500,\n",
    "           '선아유치원':1174052500,\n",
    "           '연유치원':1141070000,\n",
    "           '이화유치원':1168067500,\n",
    "           '충암유치원':1138060000,\n",
    "           '한영중고등학교병설한영유치원':1174052500,\n",
    "           '서울강명초등학교':1174052600,\n",
    "'서울고일초등학교':1174052500,\n",
    "'서울고현초등학교':1174052500,\n",
    "'서울대진초등학교':1168067500,\n",
    "'서울면중초등학교':1126057500,\n",
    "'서울상일초등학교':1174052500,\n",
    "'서울항동초등학교':1153080000}\n",
    "\n",
    "df_merged_with_kinder['행자부행정동코드'] = df_merged_with_kinder.apply(\n",
    "    lambda row: mapping[row['시설명']] if pd.isna(row['행자부행정동코드']) and row['시설명'] in mapping else row['행자부행정동코드'],\n",
    "    axis=1\n",
    ")\n",
    "\n",
    "print(df_merged_with_kinder[df_merged_with_kinder['행자부행정동코드'].isna()==True])"
   ]
  },
  {
   "cell_type": "code",
   "execution_count": 98,
   "id": "dd06accc-3bd6-4806-9c09-f266c115d3bf",
   "metadata": {},
   "outputs": [
    {
     "data": {
      "text/plain": [
       "(5409, 5)"
      ]
     },
     "execution_count": 98,
     "metadata": {},
     "output_type": "execute_result"
    }
   ],
   "source": [
    "df_merged_with_kinder.isna().sum()\n",
    "df_merged_with_kinder.shape"
   ]
  },
  {
   "cell_type": "code",
   "execution_count": 100,
   "id": "b36002e0-ffdc-41e6-814b-3e8c9d9bc3c9",
   "metadata": {},
   "outputs": [
    {
     "data": {
      "text/plain": [
       "1"
      ]
     },
     "execution_count": 100,
     "metadata": {},
     "output_type": "execute_result"
    }
   ],
   "source": [
    "df_merged_with_kinder.duplicated(['시설명', '행자부행정동코드']).sum()"
   ]
  },
  {
   "cell_type": "code",
   "execution_count": 102,
   "id": "64599990-cc5b-45c5-b5c9-f3f9cca576c0",
   "metadata": {},
   "outputs": [],
   "source": [
    "df_merged_full_cleaned = df_merged_with_kinder.drop_duplicates(subset=['시설명', '행자부행정동코드'])"
   ]
  },
  {
   "cell_type": "code",
   "execution_count": 104,
   "id": "82dae2b4-d001-4c07-8357-80a26955e420",
   "metadata": {},
   "outputs": [
    {
     "data": {
      "text/plain": [
       "0"
      ]
     },
     "execution_count": 104,
     "metadata": {},
     "output_type": "execute_result"
    }
   ],
   "source": [
    "df_merged_full_cleaned.duplicated(['시설명', '행자부행정동코드']).sum()"
   ]
  },
  {
   "cell_type": "code",
   "execution_count": 116,
   "id": "5620a70a-67f3-41d0-b17e-eccd8c2ff64c",
   "metadata": {},
   "outputs": [
    {
     "data": {
      "text/plain": [
       "1018"
      ]
     },
     "execution_count": 116,
     "metadata": {},
     "output_type": "execute_result"
    }
   ],
   "source": [
    "df_merged_full_cleaned.duplicated(['위도', '경도']).sum()"
   ]
  },
  {
   "cell_type": "code",
   "execution_count": 108,
   "id": "b0ae6201-9664-41e0-af64-a5f9c76feff2",
   "metadata": {},
   "outputs": [
    {
     "name": "stderr",
     "output_type": "stream",
     "text": [
      "C:\\Users\\user\\AppData\\Local\\Temp\\ipykernel_10776\\296533711.py:2: SettingWithCopyWarning: \n",
      "A value is trying to be set on a copy of a slice from a DataFrame\n",
      "\n",
      "See the caveats in the documentation: https://pandas.pydata.org/pandas-docs/stable/user_guide/indexing.html#returning-a-view-versus-a-copy\n",
      "  duplicate_latlng_rows.sort_values(by=['위도', '경도'], inplace=True)\n"
     ]
    }
   ],
   "source": [
    "duplicate_latlng_rows = df_merged_full_cleaned[df_merged_full_cleaned.duplicated(['위도', '경도'], keep=False)]\n",
    "duplicate_latlng_rows.sort_values(by=['위도', '경도'], inplace=True)\n",
    "duplicate_latlng_rows\n",
    "\n",
    "duplicate_latlng_rows.to_csv(\"./중복_위경도_시설목록.csv\", index=False, encoding='utf-8-sig')"
   ]
  },
  {
   "cell_type": "markdown",
   "id": "aa3a7d16-cfc5-4e28-8c7f-94b92dc6c6b1",
   "metadata": {},
   "source": [
    "### 신사동이 중복되어 분리해주기"
   ]
  },
  {
   "cell_type": "code",
   "execution_count": 114,
   "id": "3a93777b-90ba-470d-b044-625fb9dc9110",
   "metadata": {},
   "outputs": [],
   "source": [
    "duplicated_names = df_merged_full_cleaned[\n",
    "    df_merged_full_cleaned['행자부행정동코드'].isin([11680510, 11620685])\n",
    "]\n",
    "\n",
    "# 중복된 시설명 중복 여부 확인\n",
    "duplicated_facility_names = duplicated_names['시설명'].value_counts()\n",
    "duplicated_facility_names = duplicated_facility_names[duplicated_facility_names > 1].index.tolist()\n",
    "\n",
    "# 필터링\n",
    "target_rows = df_merged_full_cleaned[\n",
    "    (df_merged_full_cleaned['시설명'].isin(duplicated_facility_names)) &\n",
    "    (df_merged_full_cleaned['행자부행정동코드'].isin([11680510, 11620685]))\n",
    "].copy()\n",
    "\n",
    "# 조건 적용: 주소에 '관악구'가 들어가면 -> 11620685만 남김\n",
    "#            주소에 '강남구'나 '압구정동'이 들어가면 -> 11680510만 남김\n",
    "#            그 외는 유지\n",
    "mask_관악구 = (target_rows['시설주소'].str.contains('관악구')) & (target_rows['행자부행정동코드'] == 11680510)\n",
    "mask_강남구압구정 = (target_rows['시설주소'].str.contains('강남구|압구정동')) & (target_rows['행자부행정동코드'] == 11620685)\n",
    "\n",
    "# 삭제 대상 인덱스 모으기\n",
    "drop_index = target_rows[mask_관악구 | mask_강남구압구정].index\n",
    "\n",
    "# 원본 데이터에서 삭제\n",
    "df_final_filtered = df_merged_full_cleaned.drop(index=drop_index)"
   ]
  },
  {
   "cell_type": "code",
   "execution_count": 118,
   "id": "450bea4b-372a-464b-8712-509599ffdd1b",
   "metadata": {},
   "outputs": [
    {
     "data": {
      "text/plain": [
       "1007"
      ]
     },
     "execution_count": 118,
     "metadata": {},
     "output_type": "execute_result"
    }
   ],
   "source": [
    "df_final_filtered.duplicated(['위도', '경도']).sum()"
   ]
  },
  {
   "cell_type": "code",
   "execution_count": 120,
   "id": "f456aed1-e484-4899-87c5-f7e7b3849cd2",
   "metadata": {},
   "outputs": [],
   "source": [
    "df_final_filtered.to_csv('./초등학교_유치원_어린이집_머지데이터.csv', index=False, encoding='utf-8=sig')"
   ]
  },
  {
   "cell_type": "markdown",
   "id": "1809bdc6-b6bb-4492-93c4-eaa40cf8cb7d",
   "metadata": {},
   "source": [
    "### 재배열"
   ]
  },
  {
   "cell_type": "code",
   "execution_count": 132,
   "id": "bfdb9859-58e5-4f74-b94d-04f2c22554d8",
   "metadata": {},
   "outputs": [
    {
     "data": {
      "text/html": [
       "<div>\n",
       "<style scoped>\n",
       "    .dataframe tbody tr th:only-of-type {\n",
       "        vertical-align: middle;\n",
       "    }\n",
       "\n",
       "    .dataframe tbody tr th {\n",
       "        vertical-align: top;\n",
       "    }\n",
       "\n",
       "    .dataframe thead th {\n",
       "        text-align: right;\n",
       "    }\n",
       "</style>\n",
       "<table border=\"1\" class=\"dataframe\">\n",
       "  <thead>\n",
       "    <tr style=\"text-align: right;\">\n",
       "      <th></th>\n",
       "      <th>행자부행정동코드</th>\n",
       "      <th>시설명_초등학교</th>\n",
       "      <th>시설주소_초등학교</th>\n",
       "      <th>위도_초등학교</th>\n",
       "      <th>경도_초등학교</th>\n",
       "      <th>시설명_어린이집</th>\n",
       "      <th>시설주소_어린이집</th>\n",
       "      <th>위도_어린이집</th>\n",
       "      <th>경도_어린이집</th>\n",
       "      <th>시설명_유치원</th>\n",
       "      <th>시설주소_유치원</th>\n",
       "      <th>위도_유치원</th>\n",
       "      <th>경도_유치원</th>\n",
       "    </tr>\n",
       "  </thead>\n",
       "  <tbody>\n",
       "    <tr>\n",
       "      <th>0</th>\n",
       "      <td>11110515</td>\n",
       "      <td>서울청운초등학교</td>\n",
       "      <td>자하문로 105</td>\n",
       "      <td>37.585806</td>\n",
       "      <td>126.969295</td>\n",
       "      <td>누상어린이집</td>\n",
       "      <td>서울특별시 종로구 옥인길 23-4 (누상동)</td>\n",
       "      <td>37.580793</td>\n",
       "      <td>126.967194</td>\n",
       "      <td>배화여자대학교 부속 배화유치원</td>\n",
       "      <td>필운대로1길 34</td>\n",
       "      <td>37.579544</td>\n",
       "      <td>126.967292</td>\n",
       "    </tr>\n",
       "    <tr>\n",
       "      <th>1</th>\n",
       "      <td>11110515</td>\n",
       "      <td>서울청운초등학교</td>\n",
       "      <td>자하문로 105</td>\n",
       "      <td>37.585806</td>\n",
       "      <td>126.969295</td>\n",
       "      <td>누상어린이집</td>\n",
       "      <td>서울특별시 종로구 옥인길 23-4 (누상동)</td>\n",
       "      <td>37.580793</td>\n",
       "      <td>126.967194</td>\n",
       "      <td>옥인유치원</td>\n",
       "      <td>자하문로 69</td>\n",
       "      <td>37.582222</td>\n",
       "      <td>126.970343</td>\n",
       "    </tr>\n",
       "    <tr>\n",
       "      <th>2</th>\n",
       "      <td>11110515</td>\n",
       "      <td>서울청운초등학교</td>\n",
       "      <td>자하문로 105</td>\n",
       "      <td>37.585806</td>\n",
       "      <td>126.969295</td>\n",
       "      <td>무궁화어린이집</td>\n",
       "      <td>서울특별시 종로구 자하문로28길 8 외 1 (궁정동)</td>\n",
       "      <td>37.584797</td>\n",
       "      <td>126.971101</td>\n",
       "      <td>배화여자대학교 부속 배화유치원</td>\n",
       "      <td>필운대로1길 34</td>\n",
       "      <td>37.579544</td>\n",
       "      <td>126.967292</td>\n",
       "    </tr>\n",
       "    <tr>\n",
       "      <th>3</th>\n",
       "      <td>11110515</td>\n",
       "      <td>서울청운초등학교</td>\n",
       "      <td>자하문로 105</td>\n",
       "      <td>37.585806</td>\n",
       "      <td>126.969295</td>\n",
       "      <td>무궁화어린이집</td>\n",
       "      <td>서울특별시 종로구 자하문로28길 8 외 1 (궁정동)</td>\n",
       "      <td>37.584797</td>\n",
       "      <td>126.971101</td>\n",
       "      <td>옥인유치원</td>\n",
       "      <td>자하문로 69</td>\n",
       "      <td>37.582222</td>\n",
       "      <td>126.970343</td>\n",
       "    </tr>\n",
       "    <tr>\n",
       "      <th>4</th>\n",
       "      <td>11110515</td>\n",
       "      <td>서울청운초등학교</td>\n",
       "      <td>자하문로 105</td>\n",
       "      <td>37.585806</td>\n",
       "      <td>126.969295</td>\n",
       "      <td>세종마을어린이집</td>\n",
       "      <td>서울특별시 종로구 옥인길 89 (옥인동)</td>\n",
       "      <td>37.581968</td>\n",
       "      <td>126.963941</td>\n",
       "      <td>배화여자대학교 부속 배화유치원</td>\n",
       "      <td>필운대로1길 34</td>\n",
       "      <td>37.579544</td>\n",
       "      <td>126.967292</td>\n",
       "    </tr>\n",
       "  </tbody>\n",
       "</table>\n",
       "</div>"
      ],
      "text/plain": [
       "   행자부행정동코드  시설명_초등학교 시설주소_초등학교    위도_초등학교     경도_초등학교  시설명_어린이집  \\\n",
       "0  11110515  서울청운초등학교  자하문로 105  37.585806  126.969295    누상어린이집   \n",
       "1  11110515  서울청운초등학교  자하문로 105  37.585806  126.969295    누상어린이집   \n",
       "2  11110515  서울청운초등학교  자하문로 105  37.585806  126.969295   무궁화어린이집   \n",
       "3  11110515  서울청운초등학교  자하문로 105  37.585806  126.969295   무궁화어린이집   \n",
       "4  11110515  서울청운초등학교  자하문로 105  37.585806  126.969295  세종마을어린이집   \n",
       "\n",
       "                       시설주소_어린이집    위도_어린이집     경도_어린이집           시설명_유치원  \\\n",
       "0       서울특별시 종로구 옥인길 23-4 (누상동)  37.580793  126.967194  배화여자대학교 부속 배화유치원   \n",
       "1       서울특별시 종로구 옥인길 23-4 (누상동)  37.580793  126.967194             옥인유치원   \n",
       "2  서울특별시 종로구 자하문로28길 8 외 1 (궁정동)  37.584797  126.971101  배화여자대학교 부속 배화유치원   \n",
       "3  서울특별시 종로구 자하문로28길 8 외 1 (궁정동)  37.584797  126.971101             옥인유치원   \n",
       "4         서울특별시 종로구 옥인길 89 (옥인동)  37.581968  126.963941  배화여자대학교 부속 배화유치원   \n",
       "\n",
       "    시설주소_유치원     위도_유치원      경도_유치원  \n",
       "0  필운대로1길 34  37.579544  126.967292  \n",
       "1    자하문로 69  37.582222  126.970343  \n",
       "2  필운대로1길 34  37.579544  126.967292  \n",
       "3    자하문로 69  37.582222  126.970343  \n",
       "4  필운대로1길 34  37.579544  126.967292  "
      ]
     },
     "execution_count": 132,
     "metadata": {},
     "output_type": "execute_result"
    }
   ],
   "source": [
    "# 데이터 다시 로드\n",
    "data = pd.read_csv('./초등학교_유치원_어린이집_머지데이터.csv')\n",
    "\n",
    "# 시설유형 구분\n",
    "data['시설유형'] = data['시설명'].apply(\n",
    "    lambda x: '초등학교' if '초등학교' in x else ('어린이집' if '어린이집' in x else ('유치원' if '유치원' in x else '기타'))\n",
    ")\n",
    "\n",
    "# 시설유형별로 데이터프레임 분리 및 컬럼명 변경\n",
    "school_df = data[data['시설유형'] == '초등학교'][['행자부행정동코드', '시설명', '시설주소', '위도', '경도']].rename(columns={\n",
    "    '시설명': '시설명_초등학교', '시설주소': '시설주소_초등학교', '위도': '위도_초등학교', '경도': '경도_초등학교'})\n",
    "\n",
    "childcare_df = data[data['시설유형'] == '어린이집'][['행자부행정동코드', '시설명', '시설주소', '위도', '경도']].rename(columns={\n",
    "    '시설명': '시설명_어린이집', '시설주소': '시설주소_어린이집', '위도': '위도_어린이집', '경도': '경도_어린이집'})\n",
    "\n",
    "kindergarten_df = data[data['시설유형'] == '유치원'][['행자부행정동코드', '시설명', '시설주소', '위도', '경도']].rename(columns={\n",
    "    '시설명': '시설명_유치원', '시설주소': '시설주소_유치원', '위도': '위도_유치원', '경도': '경도_유치원'})\n",
    "\n",
    "# 세 데이터프레임을 행자부행정동코드를 기준으로 병합\n",
    "merged_df = pd.merge(school_df, childcare_df, on='행자부행정동코드', how='outer')\n",
    "merged_df = pd.merge(merged_df, kindergarten_df, on='행자부행정동코드', how='outer')\n",
    "\n",
    "# 최종 결과에서 중복 제거 및 결측값은 빈칸으로 채움\n",
    "merged_df = merged_df.fillna('')\n",
    "# 행자부행정동코드를 정수형으로 변환\n",
    "merged_df['행자부행정동코드'] = merged_df['행자부행정동코드'].astype(int)\n",
    "\n",
    "merged_df.head()"
   ]
  },
  {
   "cell_type": "code",
   "execution_count": 134,
   "id": "81a3a1ca-083e-49d2-ab23-7740b8f96ef2",
   "metadata": {},
   "outputs": [],
   "source": [
    "merged_df.to_csv('./초등학교_유치원_어린이집_병합.csv', index=False, encoding='utf-8-sig')"
   ]
  },
  {
   "cell_type": "code",
   "execution_count": 138,
   "id": "08bf18a8-a295-420d-a73e-fac8bab81d7a",
   "metadata": {},
   "outputs": [
    {
     "data": {
      "text/plain": [
       "0"
      ]
     },
     "execution_count": 138,
     "metadata": {},
     "output_type": "execute_result"
    }
   ],
   "source": [
    "merged_df.duplicated().sum()"
   ]
  },
  {
   "cell_type": "markdown",
   "id": "0ad3712f-f05d-4ac8-9998-2e942f39c99b",
   "metadata": {},
   "source": [
    "### 리스트 형태로 변환"
   ]
  },
  {
   "cell_type": "code",
   "execution_count": 117,
   "id": "8d302b9f-6103-479e-8181-66da6541f51d",
   "metadata": {},
   "outputs": [],
   "source": [
    "import pandas as pd\n",
    "import requests\n",
    "import time\n",
    "\n",
    "# -----------------------------------\n",
    "# SGIS API 함수\n",
    "# -----------------------------------\n",
    "def get_sgis_access_token(consumer_key: str, consumer_secret: str) -> str:\n",
    "    url = \"https://sgisapi.kostat.go.kr/OpenAPI3/auth/authentication.json\"\n",
    "    params = {\"consumer_key\": consumer_key, \"consumer_secret\": consumer_secret}\n",
    "    response = requests.get(url, params=params)\n",
    "    response.raise_for_status()\n",
    "    return response.json()[\"result\"][\"accessToken\"]\n",
    "\n",
    "def get_adm_cd_from_address(address: str, access_token: str) -> str:\n",
    "    url = \"https://sgisapi.kostat.go.kr/OpenAPI3/addr/geocode.json\"\n",
    "    params = {\"accessToken\": access_token, \"address\": address}\n",
    "    response = requests.get(url, params=params)\n",
    "    response.raise_for_status()\n",
    "    data = response.json()\n",
    "\n",
    "    if \"result\" in data and \"resultdata\" in data[\"result\"] and data[\"result\"][\"resultdata\"]:\n",
    "        return data[\"result\"][\"resultdata\"][0].get(\"adm_cd\", \"\")\n",
    "    return \"\"\n",
    "\n",
    "\n",
    "# 1데이터 로드\n",
    "df = pd.read_csv(\"./초등학교_유치원_어린이집_병합.csv\")\n",
    "\n",
    "# grouped 정의 (전체 병합 데이터 기준으로 먼저 구성)\n",
    "grouped = df[[\"행자부행정동코드\", \"시설명_초등학교\", \"시설명_유치원\", \"시설명_어린이집\"]].fillna(\"\")\n",
    "\n",
    "grouped = grouped.groupby(\"행자부행정동코드\").agg({\n",
    "    \"시설명_초등학교\": lambda x: list(set(i for i in x if i)),\n",
    "    \"시설명_유치원\": lambda x: list(set(i for i in x if i)),\n",
    "    \"시설명_어린이집\": lambda x: list(set(i for i in x if i)),\n",
    "}).reset_index()\n",
    "\n",
    "grouped.columns = [\"행정동코드\", \"초등학교\", \"유치원\", \"어린이집\"]\n",
    "\n",
    "grouped[\"행정동코드\"] = grouped[\"행정동코드\"].astype(str).str[:8].astype(int)\n",
    "\n",
    "\n",
    "# 2수유동 / 번동 주소만 추출\n",
    "target_df = df[df[\"시설주소_어린이집\"].str.contains(\"수유동|번동\", na=False)].copy()\n",
    "\n",
    "\n",
    "# SGIS API 사용: 주소 → 행정동코드 매핑\n",
    "consumer_key = \"e73744787c154c9db103\"\n",
    "consumer_secret = \"6e49cc5f5f474ca6867c\"\n",
    "token = get_sgis_access_token(consumer_key, consumer_secret)\n",
    "\n",
    "adm_codes = []\n",
    "for addr in target_df[\"시설주소_어린이집\"]:\n",
    "    adm_cd = get_adm_cd_from_address(addr, token)\n",
    "    adm_codes.append(adm_cd)\n",
    "    time.sleep(1.0)\n",
    "\n",
    "target_df[\"행정동코드\"] = [int(code[:8]) if code else None for code in adm_codes]\n",
    "target_df = target_df.dropna(subset=[\"행정동코드\"]).copy()\n",
    "\n",
    "\n",
    "# 필요한 컬럼 정리\n",
    "target_df[\"초등학교\"] = target_df[\"시설명_초등학교\"].apply(lambda x: [f'{x}'] if pd.notna(x) else [])\n",
    "target_df[\"유치원\"] = target_df[\"시설명_유치원\"].apply(lambda x: [f'{x}'] if pd.notna(x) else [])\n",
    "target_df[\"어린이집\"] = target_df[\"시설명_어린이집\"].apply(lambda x: [f'{x}'] if pd.notna(x) else [])\n",
    "target_df = target_df[[\"행정동코드\", \"초등학교\", \"유치원\", \"어린이집\"]]\n",
    "\n",
    "\n",
    "# 병합\n",
    "# 상위코드 리스트 제거 대상\n",
    "상위코드_제거 = [11305600, 11305606, 11305610, 11305620, 11305630, 11305590]\n",
    "\n",
    "# 기존 리스트형 grouped에서 상위코드 제거\n",
    "grouped_filtered = grouped[~grouped[\"행정동코드\"].isin(상위코드_제거)].copy()\n",
    "\n",
    "# 컬럼들 문자열 리스트로 전처리\n",
    "for col in [\"초등학교\", \"유치원\", \"어린이집\"]:\n",
    "    grouped_filtered[col] = grouped_filtered[col].apply(\n",
    "        lambda x: [f'{name}' for name in x if name] if isinstance(x, list) else []\n",
    "    )\n",
    "\n",
    "# 두 데이터 병합\n",
    "merged = pd.concat([grouped_filtered, target_df], ignore_index=True)\n",
    "\n",
    "\n",
    "# 행정동코드 기준 병합\n",
    "final_df = merged.groupby(\"행정동코드\").agg({\n",
    "    \"초등학교\": lambda x: sorted(list(set(i for sublist in x for i in sublist))),\n",
    "    \"유치원\": lambda x: sorted(list(set(i for sublist in x for i in sublist))),\n",
    "    \"어린이집\": lambda x: sorted(list(set(i for sublist in x for i in sublist)))\n",
    "}).reset_index()\n",
    "\n",
    "final_df = final_df.rename(columns={\"행정동코드\": \"행자부코드\"})"
   ]
  },
  {
   "cell_type": "code",
   "execution_count": 119,
   "id": "07bb7ae8-6729-4c87-a6e1-c3c093a42bf5",
   "metadata": {},
   "outputs": [
    {
     "data": {
      "text/plain": [
       "428"
      ]
     },
     "execution_count": 119,
     "metadata": {},
     "output_type": "execute_result"
    }
   ],
   "source": [
    "final_df.head()\n",
    "final_df['행자부코드'].nunique()"
   ]
  },
  {
   "cell_type": "code",
   "execution_count": 145,
   "id": "e8ab9326-1182-4233-91bc-85c55dbe0d55",
   "metadata": {},
   "outputs": [],
   "source": [
    "data = pd.read_excel('./merge/서울시_법정동_행정동_매핑.xlsx')"
   ]
  },
  {
   "cell_type": "code",
   "execution_count": 151,
   "id": "a63401ce-6759-4edf-a2cc-afb74860b931",
   "metadata": {},
   "outputs": [],
   "source": [
    "mapping = [i[:8] for i in data['행정동코드'].astype(str)]"
   ]
  },
  {
   "cell_type": "code",
   "execution_count": 125,
   "id": "15c8fb64-dc20-4bc7-8968-ec01975704a9",
   "metadata": {},
   "outputs": [],
   "source": [
    "final_df.to_csv('./초등학교_유치원_어린이집_리스트형태.csv', index=False, encoding='utf-8-sig')"
   ]
  },
  {
   "cell_type": "code",
   "execution_count": 207,
   "id": "3aef1491-df5e-4d93-acee-9b0cb4304220",
   "metadata": {},
   "outputs": [],
   "source": [
    "df = pd.read_csv('./진짜진짜최수종.csv', encoding='utf-8')"
   ]
  },
  {
   "cell_type": "code",
   "execution_count": 209,
   "id": "4d7eebf4-e488-4e4c-a56f-c6d895d304b7",
   "metadata": {},
   "outputs": [
    {
     "data": {
      "text/plain": [
       "{'11680510'}"
      ]
     },
     "execution_count": 209,
     "metadata": {},
     "output_type": "execute_result"
    }
   ],
   "source": [
    "set(mapping) - set(df['행자부코드'].astype(str))"
   ]
  },
  {
   "cell_type": "code",
   "execution_count": 211,
   "id": "5141962f-39c1-47e2-92c7-67a47dff4b3b",
   "metadata": {},
   "outputs": [
    {
     "data": {
      "text/plain": [
       "(425, 36)"
      ]
     },
     "execution_count": 211,
     "metadata": {},
     "output_type": "execute_result"
    }
   ],
   "source": [
    "df.shape"
   ]
  }
 ],
 "metadata": {
  "kernelspec": {
   "display_name": "Python [conda env:base] *",
   "language": "python",
   "name": "conda-base-py"
  },
  "language_info": {
   "codemirror_mode": {
    "name": "ipython",
    "version": 3
   },
   "file_extension": ".py",
   "mimetype": "text/x-python",
   "name": "python",
   "nbconvert_exporter": "python",
   "pygments_lexer": "ipython3",
   "version": "3.12.7"
  }
 },
 "nbformat": 4,
 "nbformat_minor": 5
}
