{
 "cells": [
  {
   "cell_type": "markdown",
   "id": "e67144db-984d-41c4-acb7-0f27dfe58625",
   "metadata": {},
   "source": [
    "# 패키지 불러오기"
   ]
  },
  {
   "cell_type": "code",
   "execution_count": 1,
   "id": "1421adad-9031-4b2f-9601-b7a24731790b",
   "metadata": {},
   "outputs": [],
   "source": [
    "import pandas as pd\n",
    "import numpy as np\n",
    "import geopandas as gpd\n",
    "from shapely import wkt\n",
    "from shapely.ops import unary_union\n",
    "from shapely.geometry import box\n",
    "from shapely.strtree import STRtree\n",
    "from shapely.geometry.base import BaseGeometry\n",
    "from shapely.geometry import Polygon, MultiPolygon, GeometryCollection\n",
    "import matplotlib.pyplot as plt\n",
    "from shapely.geometry import Polygon, MultiPolygon\n",
    "from matplotlib.patches import Polygon as MplPolygon\n",
    "from matplotlib.collections import PatchCollection\n",
    "import matplotlib.colors as mcolors\n",
    "import matplotlib\n",
    "from shapely.geometry import Point\n",
    "from pyproj import Transformer\n",
    "from shapely.ops import transform\n",
    "from tqdm import tqdm\n",
    "import ast\n",
    "import folium\n",
    "from shapely.affinity import translate\n",
    "import requests\n",
    "import re\n",
    "from shapely.ops import nearest_points\n",
    "from itertools import product\n",
    "import os\n",
    "from collections import defaultdict\n",
    "import json\n",
    "import time\n",
    "from folium.features import GeoJsonTooltip\n",
    "import branca.colormap as cm\n",
    "from shapely.geometry import mapping as shapely_mapping\n",
    "from bs4 import BeautifulSoup\n",
    "from folium.plugins import MarkerCluster\n",
    "from ast import literal_eval\n",
    "from geopy.distance import geodesic\n",
    "from shapely.geometry import shape\n",
    "from folium import Choropleth, GeoJson\n",
    "from folium.plugins import Fullscreen\n",
    "import random\n",
    "from math import radians, cos, sin, sqrt, atan2\n",
    "from shapely.geometry import mapping\n",
    "import glob\n",
    "from haversine import haversine"
   ]
  },
  {
   "cell_type": "markdown",
   "id": "02154bab-bb98-44e7-b716-13b89a766481",
   "metadata": {},
   "source": [
    "# 행정동 경계 기반 격자데이터 생성하기"
   ]
  },
  {
   "cell_type": "markdown",
   "id": "c71d531c-2cdc-4952-bd34-2d7430c85283",
   "metadata": {},
   "source": [
    "### geojson을 csv로 변환하기"
   ]
  },
  {
   "cell_type": "code",
   "execution_count": 19,
   "id": "025fda21-05c7-4583-bfda-9f3e8e75aa12",
   "metadata": {},
   "outputs": [],
   "source": [
    "# GeoJSON 파일 경로\n",
    "geojson_path = './HangJeongDong_ver20241001.geojson'\n",
    "\n",
    "# GeoJSON 파일 읽기\n",
    "with open(geojson_path, 'r', encoding='utf-8') as f:\n",
    "    geojson_data = json.load(f)\n",
    "\n",
    "# features에서 geometry와 properties 추출하여 데이터프레임으로 저장\n",
    "records = []\n",
    "for feature in geojson_data['features']:\n",
    "    properties = feature['properties']\n",
    "    geom = shape(feature['geometry']).wkt  # GeoJSON → Shapely Geometry → WKT 문자열\n",
    "    properties['geometry'] = geom\n",
    "    records.append(properties)\n",
    "\n",
    "# 데이터프레임으로 저장\n",
    "df = pd.DataFrame(records)\n",
    "\n",
    "# CSV로 저장\n",
    "df.to_csv('./서울행정동경계.csv', index=False, encoding='utf-8')"
   ]
  },
  {
   "cell_type": "code",
   "execution_count": 38,
   "id": "f4b64cb0-97c4-4d75-8afe-25ea2dbef1c0",
   "metadata": {},
   "outputs": [],
   "source": [
    "seoul_admin_boundary = pd.read_csv('./서울행정동경계.csv')\n",
    "\n",
    "# 서울특별시 추출\n",
    "seoul_admin_boundary = seoul_admin_boundary[seoul_admin_boundary['adm_nm'].str.contains('서울특별시')]\n",
    "\n",
    "# 컬럼 추출 : 행정동명, 행정동코드, geometry\n",
    "seoul_admin_boundary = seoul_admin_boundary[['adm_nm', 'adm_cd2', 'geometry']]\n",
    "\n",
    "# 행정동명만 추출\n",
    "seoul_admin_boundary['adm_nm'] = seoul_admin_boundary['adm_nm'].apply(lambda x: x.split()[-1])\n",
    "\n",
    "# 컬럼명 변경\n",
    "seoul_admin_boundary.rename(columns={\n",
    "    'adm_nm': '행정동명',\n",
    "    'adm_cd2': '행정동코드'\n",
    "}, inplace=True)\n",
    "\n",
    "# 행정동코드의 앞 8자리만 남기기\n",
    "seoul_admin_boundary['행정동코드'] = seoul_admin_boundary['행정동코드'].astype(str).str[:8]\n",
    "\n",
    "# 저장\n",
    "seoul_admin_boundary.to_csv('./서울행정동경계_필요한것만추출.csv', index=False, encoding='utf-8')"
   ]
  },
  {
   "cell_type": "markdown",
   "id": "c10ebb8c-8700-4de7-8c80-38281fd33762",
   "metadata": {},
   "source": [
    "### 실제 격자 생성"
   ]
  },
  {
   "cell_type": "code",
   "execution_count": 49,
   "id": "c2cd70c3-376a-4f01-bf32-43ac28196a14",
   "metadata": {},
   "outputs": [],
   "source": [
    "# 파일 로드\n",
    "file_path = './서울행정동경계_필요한것만추출.csv'\n",
    "seoul_admin_boundary = pd.read_csv(file_path)\n",
    "\n",
    "# shapely객체 변환\n",
    "seoul_admin_boundary['geometry'] = seoul_admin_boundary['geometry'].apply(wkt.loads)\n",
    "\n",
    "# box 생성\n",
    "total_bounds = unary_union(seoul_admin_boundary['geometry'].tolist()).bounds\n",
    "\n",
    "minx, miny, maxx, maxy = total_bounds\n",
    "\n",
    "# 위도, 경도 기준 근사치로 격자 넓이 설정\n",
    "grid_width = 0.011\n",
    "grid_height = 0.009\n",
    "\n",
    "# 격자 생성\n",
    "grid_polygons = []\n",
    "x_coords = np.arange(minx, maxx, grid_width)\n",
    "y_coords = np.arange(miny, maxy, grid_height)\n",
    "\n",
    "for x in x_coords:\n",
    "    for y in y_coords:\n",
    "        grid_polygons.append(box(x, y, x + grid_width, y + grid_height))\n",
    "\n",
    "# 격자를 데이터프레임에 저장\n",
    "grid_wkt = [poly.wkt for poly in grid_polygons]\n",
    "grid_df = pd.DataFrame({'geometry': grid_wkt})\n",
    "\n",
    "grid_df.to_csv('./격자데이터.csv')"
   ]
  },
  {
   "cell_type": "markdown",
   "id": "9fb4ae09-a8c4-43da-a6a6-642981388cc5",
   "metadata": {},
   "source": [
    "### 격자 오버레이 & 행정동명과 행정동코드 머지"
   ]
  },
  {
   "cell_type": "code",
   "execution_count": 52,
   "id": "9097d4fa-cd7f-4006-b500-b11e8fe25c42",
   "metadata": {},
   "outputs": [
    {
     "data": {
      "text/html": [
       "<div>\n",
       "<style scoped>\n",
       "    .dataframe tbody tr th:only-of-type {\n",
       "        vertical-align: middle;\n",
       "    }\n",
       "\n",
       "    .dataframe tbody tr th {\n",
       "        vertical-align: top;\n",
       "    }\n",
       "\n",
       "    .dataframe thead th {\n",
       "        text-align: right;\n",
       "    }\n",
       "</style>\n",
       "<table border=\"1\" class=\"dataframe\">\n",
       "  <thead>\n",
       "    <tr style=\"text-align: right;\">\n",
       "      <th></th>\n",
       "      <th>Unnamed: 0</th>\n",
       "      <th>geometry</th>\n",
       "      <th>행정동명</th>\n",
       "      <th>행정동코드</th>\n",
       "    </tr>\n",
       "  </thead>\n",
       "  <tbody>\n",
       "    <tr>\n",
       "      <th>0</th>\n",
       "      <td>13</td>\n",
       "      <td>POLYGON ((126.77569057122192 37.55501070369193...</td>\n",
       "      <td>공항동</td>\n",
       "      <td>11500620</td>\n",
       "    </tr>\n",
       "    <tr>\n",
       "      <th>1</th>\n",
       "      <td>14</td>\n",
       "      <td>POLYGON ((126.77569057122192 37.55501070369193...</td>\n",
       "      <td>공항동</td>\n",
       "      <td>11500620</td>\n",
       "    </tr>\n",
       "    <tr>\n",
       "      <th>2</th>\n",
       "      <td>15</td>\n",
       "      <td>POLYGON ((126.77569057122192 37.56531793601277...</td>\n",
       "      <td>공항동</td>\n",
       "      <td>11500620</td>\n",
       "    </tr>\n",
       "    <tr>\n",
       "      <th>3</th>\n",
       "      <td>43</td>\n",
       "      <td>POLYGON ((126.78669057122191 37.54601070369193...</td>\n",
       "      <td>공항동</td>\n",
       "      <td>11500620</td>\n",
       "    </tr>\n",
       "    <tr>\n",
       "      <th>4</th>\n",
       "      <td>44</td>\n",
       "      <td>POLYGON ((126.77569057122192 37.55501070369193...</td>\n",
       "      <td>공항동</td>\n",
       "      <td>11500620</td>\n",
       "    </tr>\n",
       "  </tbody>\n",
       "</table>\n",
       "</div>"
      ],
      "text/plain": [
       "   Unnamed: 0                                           geometry 행정동명  \\\n",
       "0          13  POLYGON ((126.77569057122192 37.55501070369193...  공항동   \n",
       "1          14  POLYGON ((126.77569057122192 37.55501070369193...  공항동   \n",
       "2          15  POLYGON ((126.77569057122192 37.56531793601277...  공항동   \n",
       "3          43  POLYGON ((126.78669057122191 37.54601070369193...  공항동   \n",
       "4          44  POLYGON ((126.77569057122192 37.55501070369193...  공항동   \n",
       "\n",
       "      행정동코드  \n",
       "0  11500620  \n",
       "1  11500620  \n",
       "2  11500620  \n",
       "3  11500620  \n",
       "4  11500620  "
      ]
     },
     "execution_count": 52,
     "metadata": {},
     "output_type": "execute_result"
    }
   ],
   "source": [
    "# 파일 로드\n",
    "grid_df = pd.read_csv('./격자데이터.csv')\n",
    "admin_df = pd.read_csv('./서울행정동경계_필요한것만추출.csv')\n",
    "\n",
    "# Shapely 객체로 변환\n",
    "grid_df['geometry'] = grid_df['geometry'].apply(wkt.loads)\n",
    "admin_df['geometry'] = admin_df['geometry'].apply(wkt.loads)\n",
    "\n",
    "# 실제 오버레이 수행 및 병합\n",
    "result_data = []\n",
    "\n",
    "for _, grid_row in grid_df.iterrows():\n",
    "    grid_geom = grid_row['geometry']\n",
    "    for _, admin_row in admin_df.iterrows():\n",
    "        admin_geom = admin_row['geometry']\n",
    "        if grid_geom.intersects(admin_geom):\n",
    "            intersected_geom = grid_geom.intersection(admin_geom)\n",
    "            if intersected_geom.is_empty:\n",
    "                continue\n",
    "\n",
    "            # 행정동명과 행정동코드 지지\n",
    "            merged_data = grid_row.to_dict()\n",
    "            merged_data['geometry'] = intersected_geom.wkt\n",
    "            merged_data['행정동명'] = admin_row['행정동명']\n",
    "            merged_data['행정동코드'] = admin_row['행정동코드']\n",
    "\n",
    "            result_data.append(merged_data)\n",
    "\n",
    "final_overlay_df = pd.DataFrame(result_data)"
   ]
  },
  {
   "cell_type": "code",
   "execution_count": 64,
   "id": "e2f1925b-95fe-48a6-b5e8-54f49bddf7c7",
   "metadata": {},
   "outputs": [],
   "source": [
    "final_overlay_df.to_csv('./서울시격자데이터_오버레이완료.csv', index=False, encoding='utf-8')"
   ]
  },
  {
   "cell_type": "markdown",
   "id": "1a90c176-7470-4cf1-94e6-266e645ff86c",
   "metadata": {},
   "source": [
    "### 시각화"
   ]
  },
  {
   "cell_type": "code",
   "execution_count": null,
   "id": "1fd2fd1a-36d0-4459-b91e-93217b569be0",
   "metadata": {},
   "outputs": [],
   "source": [
    "seoul_center = [37.5665, 126.9780]\n",
    "map_seoul = folium.Map(location=seoul_center, zoom_start=11, tiles='cartodbpositron')\n",
    "\n",
    "# 폴리움에 격자추가\n",
    "for _, row in final_overlay_df.iterrows():\n",
    "    polygon = wkt.loads(row['geometry'])\n",
    "    geo_json = folium.GeoJson(data=polygon.__geo_interface__,\n",
    "                              style_function=lambda x: {\n",
    "                                  'fillColor': '#4287f5',\n",
    "                                  'color': 'blue',\n",
    "                                  'weight': 0.5,\n",
    "                                  'fillOpacity': 0.3\n",
    "                              })\n",
    "    geo_json.add_to(map_seoul)\n",
    "\n",
    "map_seoul.save('./seoul_grid_overlay_map.html')\n",
    "map_seoul"
   ]
  },
  {
   "cell_type": "markdown",
   "id": "44fd2562-2c9f-42ff-9956-3569a2bb9e81",
   "metadata": {},
   "source": [
    "### 그리드ID 생성 및 불필요한 컬럼 제거"
   ]
  },
  {
   "cell_type": "code",
   "execution_count": 76,
   "id": "5793a78a-f96b-47ff-9aae-3cec152f1613",
   "metadata": {},
   "outputs": [],
   "source": [
    "df = pd.read_csv(\"./서울시격자데이터_오버레이완료.csv\", encoding='utf-8')\n",
    "\n",
    "# Unnamed 컬럼 제거\n",
    "df = df.loc[:, ~df.columns.str.startswith('Unnamed: 0')]\n",
    "\n",
    "# grid_id 생성\n",
    "df['grid_id'] = [f\"G_{str(i).zfill(4)}\" for i in range(1, len(df) + 1)]\n",
    "\n",
    "# grid_id를 맨 앞으로 이동\n",
    "cols = ['grid_id'] + [col for col in df.columns if col != 'grid_id']\n",
    "df = df[cols]\n",
    "\n",
    "# 저장\n",
    "df.to_csv(\"./서울시격자데이터_그리드ID포함.csv\", index=False, encoding='utf-8')"
   ]
  },
  {
   "cell_type": "markdown",
   "id": "7294dfa1-674c-4a4f-babb-4a72de899fef",
   "metadata": {},
   "source": [
    "# 지적편집도 매핑하기"
   ]
  },
  {
   "cell_type": "code",
   "execution_count": 22,
   "id": "a91d53ca-32b0-4b2c-b398-a2f1e1d46b5d",
   "metadata": {},
   "outputs": [
    {
     "name": "stderr",
     "output_type": "stream",
     "text": [
      "100%|██████████████████████████████████████████████████████████████████████████████| 2427/2427 [06:35<00:00,  6.14it/s]\n"
     ]
    },
    {
     "data": {
      "text/plain": [
       "'./서울시격자_지적편집도정보추가.csv'"
      ]
     },
     "execution_count": 22,
     "metadata": {},
     "output_type": "execute_result"
    }
   ],
   "source": [
    "# 파일 로드\n",
    "grid_df = pd.read_csv('./서울시격자데이터_그리드ID포함.csv', encoding='utf-8')\n",
    "landuse_df = pd.read_csv('./merge/seoul_landuse_wkt.csv', encoding='utf-8')\n",
    "\n",
    "# WKT -> Geometry\n",
    "grid_df['geometry'] = grid_df['geometry'].apply(wkt.loads)\n",
    "landuse_df['geometry'] = landuse_df['WKT'].apply(wkt.loads)\n",
    "\n",
    "# 지적편집도 상위정보 분류\n",
    "def classify_landuse(name):\n",
    "    if pd.isna(name):\n",
    "        return '기타'\n",
    "    if '주거' in name:\n",
    "        return '주거지역'\n",
    "    elif '상업' in name:\n",
    "        return '상업지역'\n",
    "    elif '공업' in name:\n",
    "        return '공업지역'\n",
    "    elif '녹지' in name or '자연' in name:\n",
    "        return '녹지지역'\n",
    "    elif '관리' in name:\n",
    "        return '관리지역'\n",
    "    else:\n",
    "        return '기타'\n",
    "\n",
    "landuse_df['지적편집도_상위정보'] = landuse_df['DGM_NM'].apply(classify_landuse)\n",
    "\n",
    "# 비율 계산 포함하여 교차 영역 구하기\n",
    "detailed_ratio_info = {}\n",
    "general_ratio_info = {}\n",
    "\n",
    "landuse_records = landuse_df[['geometry', 'DGM_NM', '지적편집도_상위정보']].to_records(index=False)\n",
    "\n",
    "tqdm.pandas()\n",
    "for idx, row in tqdm(grid_df.iterrows(), total=len(grid_df)):\n",
    "    gid = row['grid_id']\n",
    "    gpoly = row['geometry']\n",
    "    garea = gpoly.area if gpoly.is_valid else 1.0\n",
    "\n",
    "    detail_ratio = {}\n",
    "    general_ratio = {}\n",
    "\n",
    "    for lu_geom, lu_name, lu_class in landuse_records:\n",
    "        if not gpoly.intersects(lu_geom):\n",
    "            continue\n",
    "        intersection = gpoly.intersection(lu_geom)\n",
    "        inter_area = intersection.area\n",
    "\n",
    "        if pd.notna(lu_name):\n",
    "            detail_ratio[lu_name] = detail_ratio.get(lu_name, 0) + inter_area\n",
    "        if pd.notna(lu_class):\n",
    "            general_ratio[lu_class] = general_ratio.get(lu_class, 0) + inter_area\n",
    "\n",
    "    # 비율 정규화 (격자 기준)\n",
    "    detail_ratio_normalized = {k: v / garea for k, v in detail_ratio.items()} if detail_ratio else {'없음': 1.0}\n",
    "    general_ratio_normalized = {k: v / garea for k, v in general_ratio.items()} if general_ratio else {'없음': 1.0}\n",
    "\n",
    "    detailed_ratio_info[gid] = detail_ratio_normalized\n",
    "    general_ratio_info[gid] = general_ratio_normalized\n",
    "\n",
    "# DataFrame 변환\n",
    "info_df = pd.DataFrame({\n",
    "    'grid_id': detailed_ratio_info.keys(),\n",
    "    '지적편집도_상세정보': detailed_ratio_info.values(),\n",
    "    '지적편집도_상위정보': general_ratio_info.values()\n",
    "})\n",
    "\n",
    "\n",
    "# 원래 격자 데이터와 병합\n",
    "merged_df = pd.merge(grid_df, info_df, on='grid_id', how='left')\n",
    "\n",
    "# 저장\n",
    "output_path = \"./서울시격자_지적편집도정보추가.csv\"\n",
    "merged_df.to_csv(output_path, index=False, encoding='utf-8')\n",
    "\n",
    "output_path"
   ]
  },
  {
   "cell_type": "code",
   "execution_count": 24,
   "id": "a51cc134-7e01-4da1-ae4f-b044ab0edf36",
   "metadata": {},
   "outputs": [
    {
     "data": {
      "text/plain": [
       "0                          {'녹지지역': 0.9814886899711561}\n",
       "1                          {'녹지지역': 0.9433763168010767}\n",
       "2                          {'녹지지역': 0.8065271222406061}\n",
       "3                          {'녹지지역': 0.3162062270434837}\n",
       "4                          {'녹지지역': 0.9907152885343161}\n",
       "5     {'기타': 1.3922549220710221e-05, '녹지지역': 0.99797...\n",
       "6                           {'녹지지역': 0.984722278978895}\n",
       "7                          {'녹지지역': 0.9693888447549819}\n",
       "8                          {'녹지지역': 0.8613329225813875}\n",
       "9                           {'녹지지역': 0.985765690581208}\n",
       "10                         {'녹지지역': 0.9998566255325073}\n",
       "11                                        {'녹지지역': 1.0}\n",
       "12                                        {'녹지지역': 1.0}\n",
       "13                                        {'녹지지역': 1.0}\n",
       "14                         {'녹지지역': 0.9971175868487029}\n",
       "15                         {'녹지지역': 0.9448591891697685}\n",
       "16                         {'녹지지역': 0.9738103460742646}\n",
       "17                          {'녹지지역': 0.500649184660735}\n",
       "18                                          {'없음': 1.0}\n",
       "19                                          {'없음': 1.0}\n",
       "20                          {'녹지지역': 0.983214927475675}\n",
       "21                         {'녹지지역': 1.0000000000000002}\n",
       "22    {'녹지지역': 0.9364375315140713, '주거지역': 0.0597422...\n",
       "23    {'녹지지역': 0.74369736880541, '주거지역': 0.233172688...\n",
       "24                                        {'녹지지역': 1.0}\n",
       "25    {'녹지지역': 0.3893924305103889, '주거지역': 0.6106075...\n",
       "26    {'주거지역': 0.5550989852573429, '녹지지역': 0.7444841...\n",
       "27    {'주거지역': 0.576559574461139, '녹지지역': 0.42344042...\n",
       "28    {'녹지지역': 0.8552753874399205, '주거지역': 0.1447246...\n",
       "29    {'녹지지역': 0.8884723649907236, '주거지역': 0.1115276...\n",
       "Name: 지적편집도_상위정보, dtype: object"
      ]
     },
     "execution_count": 24,
     "metadata": {},
     "output_type": "execute_result"
    }
   ],
   "source": [
    "merged_df['지적편집도_상위정보'].head(30)"
   ]
  },
  {
   "cell_type": "markdown",
   "id": "dfb64f34-76bb-44de-91de-b6e0a3ea0874",
   "metadata": {},
   "source": [
    "### 시각화"
   ]
  },
  {
   "cell_type": "code",
   "execution_count": 28,
   "id": "f6739bc6-c69c-4517-8253-f6fbec7de01d",
   "metadata": {},
   "outputs": [],
   "source": [
    "df = pd.read_csv(\"./서울시격자_지적편집도정보추가.csv\")\n",
    "\n",
    "df['geometry'] = df['geometry'].apply(wkt.loads)\n",
    "\n",
    "target_col = '지적편집도_상세정보'  # 또는 '지적편집도_상위정보'\n",
    "\n",
    "categories = df[target_col].dropna().unique()\n",
    "colors = {cat: f\"#{random.randint(0, 0xFFFFFF):06x}\" for cat in categories}\n",
    "\n",
    "center = [37.5665, 126.9780]  # 서울 중심 좌표\n",
    "m = folium.Map(location=center, zoom_start=11, tiles=\"cartodbpositron\")\n",
    "Fullscreen().add_to(m)\n",
    "\n",
    "for _, row in df.iterrows():\n",
    "    geom = row['geometry']  # shapely Polygon\n",
    "    category = row[target_col]\n",
    "\n",
    "    if pd.isna(category):\n",
    "        continue\n",
    "\n",
    "    gj = folium.GeoJson(\n",
    "        data=geom.__geo_interface__,\n",
    "        style_function=lambda feature, color=colors[category]: {\n",
    "            'fillColor': color,\n",
    "            'color': color,\n",
    "            'weight': 0.5,\n",
    "            'fillOpacity': 0.6,\n",
    "        },\n",
    "        tooltip=folium.Tooltip(f\"{target_col}: {category}\")\n",
    "    )\n",
    "    gj.add_to(m)\n",
    "\n",
    "m.save(f\"지적편집도_{target_col}_시각화.html\")"
   ]
  },
  {
   "cell_type": "markdown",
   "id": "215558ee-b650-4dde-b5d0-dc959a0d8d39",
   "metadata": {},
   "source": [
    "# 서울형 공립 키즈카페 매핑"
   ]
  },
  {
   "cell_type": "code",
   "execution_count": 66,
   "id": "8e722aec-974e-41f8-962e-d01007d07219",
   "metadata": {},
   "outputs": [],
   "source": [
    "# 파일 로드\n",
    "grid_df = pd.read_csv(\"./서울시격자_지적편집도정보추가.csv\", encoding='utf-8')\n",
    "kids_df = pd.read_csv(\"./merge/서울형_키즈카페_행정동코드_수정완료.csv\", encoding='utf-8')\n",
    "\n",
    "# shapely Polygon 객체로 변환\n",
    "grid_df['geometry'] = grid_df['geometry'].apply(wkt.loads)\n",
    "\n",
    "# 위경도 컬럼 생성\n",
    "kids_df['lon'] = kids_df['x좌표값']\n",
    "kids_df['lat'] = kids_df['y좌표값']\n",
    "\n",
    "# 시설정보 컬럼 생성\n",
    "kids_df['서울형공립키즈카페_정보'] = kids_df.apply(lambda row: {\n",
    "    '시설명': row['시설명'],\n",
    "    '시설주소': row['기본주소'],\n",
    "    '위도': row['lat'],\n",
    "    '경도': row['lon']\n",
    "}, axis=1)\n",
    "\n",
    "# Point 생성\n",
    "kids_df['point'] = kids_df.apply(lambda row: Point(row['lon'], row['lat']), axis=1)\n",
    "\n",
    "# 7. 각 point가 포함된 grid polygon 찾기\n",
    "def find_grid_index(pt):\n",
    "    for idx, row in grid_df.iterrows():\n",
    "        if row['geometry'].intersects(pt):\n",
    "            return idx\n",
    "    return None\n",
    "\n",
    "kids_df['grid_index'] = kids_df['point'].apply(find_grid_index)\n",
    "\n",
    "# 병합을 위한 컬럼 초기화\n",
    "grid_df['서울형공립키즈카페_정보'] = [[] for _ in range(len(grid_df))]\n",
    "\n",
    "# 병합 수행\n",
    "for _, row in kids_df.dropna(subset=['grid_index']).iterrows():\n",
    "    idx = int(row['grid_index'])\n",
    "    grid_df.at[idx, '서울형공립키즈카페_정보'].append(row['서울형공립키즈카페_정보'])\n",
    "\n",
    "# 저장\n",
    "grid_df.to_csv(\"./서울격자_서울형공립키즈카페포함.csv\", index=False)"
   ]
  },
  {
   "cell_type": "markdown",
   "id": "04a1f468-e078-47a9-8f1b-3de5380e6b8c",
   "metadata": {},
   "source": [
    "# 인증형키즈카페 매핑"
   ]
  },
  {
   "cell_type": "code",
   "execution_count": 81,
   "id": "561b20a1-fca9-4003-926b-b2131722d5b4",
   "metadata": {},
   "outputs": [
    {
     "name": "stderr",
     "output_type": "stream",
     "text": [
      "100%|████████████████████████████████████████████████████████████████████████████████| 53/53 [00:00<00:00, 8460.12it/s]\n",
      "100%|██████████████████████████████████████████████████████████████████████████████████| 53/53 [00:05<00:00,  9.54it/s]\n"
     ]
    }
   ],
   "source": [
    "tqdm.pandas()\n",
    "\n",
    "# 격자 데이터 로드 (공립 키즈카페 병합 전 버전)\n",
    "grid_df = pd.read_csv(\"./서울격자_서울형공립키즈카페포함.csv\", encoding='utf-8')\n",
    "grid_df['geometry'] = grid_df['geometry'].apply(wkt.loads)\n",
    "\n",
    "# 인증제 키즈카페 데이터 로드\n",
    "certified_df = pd.read_csv(\"./merge/서울형 인증제 키즈카페_행정동_코드맵핑_최종.csv\", encoding='cp949')\n",
    "\n",
    "# 위도/경도 -> Point\n",
    "certified_df['lon'] = certified_df['경도']\n",
    "certified_df['lat'] = certified_df['위도']\n",
    "certified_df['point'] = certified_df.progress_apply(lambda row: Point(row['lon'], row['lat']), axis=1)\n",
    "\n",
    "# intersects 방식으로 격자 찾기\n",
    "def find_grid_index_intersects(pt):\n",
    "    for idx, row in grid_df.iterrows():\n",
    "        if row['geometry'].intersects(pt):\n",
    "            return idx\n",
    "    return None\n",
    "\n",
    "certified_df['grid_index'] = certified_df['point'].progress_apply(find_grid_index_intersects)\n",
    "\n",
    "# 병합용 정보 생성\n",
    "certified_df['인증제키즈카페_정보'] = certified_df.apply(lambda row: {\n",
    "    '시설명': row['시설명'],\n",
    "    '도로명주소': row['도로명주소'],\n",
    "    '위도': row['lat'],\n",
    "    '경도': row['lon']\n",
    "}, axis=1)\n",
    "\n",
    "# 격자에 병합\n",
    "grid_df['인증제키즈카페_정보'] = [[] for _ in range(len(grid_df))]\n",
    "\n",
    "for _, row in certified_df.dropna(subset=['grid_index']).iterrows():\n",
    "    idx = int(row['grid_index'])\n",
    "    grid_df.at[idx, '인증제키즈카페_정보'].append(row['인증제키즈카페_정보'])\n",
    "\n",
    "# 저장\n",
    "grid_df.to_csv(\"./서울시격자_인증제키즈카페포함.csv\", index=False, encoding='utf-8')"
   ]
  },
  {
   "cell_type": "code",
   "execution_count": 83,
   "id": "459a96dc-af5b-4834-a12c-fdf9db83bf34",
   "metadata": {},
   "outputs": [
    {
     "data": {
      "text/plain": [
       "(Empty DataFrame\n",
       " Columns: [시설명, 도로명주소, 위도, 경도]\n",
       " Index: [],\n",
       " count\n",
       " 1    44\n",
       " 2     3\n",
       " 3     1\n",
       " Name: count, dtype: int64)"
      ]
     },
     "execution_count": 83,
     "metadata": {},
     "output_type": "execute_result"
    }
   ],
   "source": [
    "unmatched_certified = certified_df[certified_df['grid_index'].isna()]\n",
    "unmatched_preview = unmatched_certified[['시설명', '도로명주소', '위도', '경도']].reset_index(drop=True)\n",
    "\n",
    "# 격자별 몇 개 시설이 들어갔는지 확인\n",
    "grid_count_distribution = certified_df['grid_index'].value_counts().value_counts().sort_index()\n",
    "\n",
    "unmatched_preview, grid_count_distribution"
   ]
  },
  {
   "cell_type": "markdown",
   "id": "7e7ec3b8-ae9d-4798-b61f-3b4c22aeb67f",
   "metadata": {},
   "source": [
    "# 일반키즈카페 매핑"
   ]
  },
  {
   "cell_type": "code",
   "execution_count": 92,
   "id": "04a0e8cc-db4f-45a8-9721-bea0c4cfb2e6",
   "metadata": {},
   "outputs": [
    {
     "name": "stderr",
     "output_type": "stream",
     "text": [
      "100%|█████████████████████████████████████████████████████████████████████████████| 395/395 [00:00<00:00, 20133.80it/s]\n",
      "100%|████████████████████████████████████████████████████████████████████████████████| 379/379 [00:42<00:00,  8.89it/s]\n"
     ]
    }
   ],
   "source": [
    "tqdm.pandas()\n",
    "\n",
    "# 데이터 로드\n",
    "grid_df = pd.read_csv(\"./서울시격자_인증제키즈카페포함.csv\", encoding='utf-8')\n",
    "grid_df['geometry'] = grid_df['geometry'].apply(wkt.loads)\n",
    "\n",
    "# 중복 제거용 데이터 드드\n",
    "certified_df = pd.read_csv(\"./merge/서울형 인증제 키즈카페_행정동_코드맵핑_최종.csv\", encoding='cp949')\n",
    "\n",
    "# 인증제 위경도 기반 좌표셋 생성\n",
    "certified_coords = set(\n",
    "    tuple(round(pt, 5) for pt in (row['경도'], row['위도']))\n",
    "    for _, row in certified_df.iterrows()\n",
    ")\n",
    "\n",
    "# 일반 키즈카페 데이터 드드\n",
    "general_df = pd.read_csv(\"./merge/일반키즈카페_행정동_코드맵핑_수정완료.csv\")\n",
    "general_df['lon'] = general_df['경도']\n",
    "general_df['lat'] = general_df['위도']\n",
    "general_df['point'] = general_df.progress_apply(lambda row: Point(row['lon'], row['lat']), axis=1)\n",
    "\n",
    "# 중복 거거\n",
    "general_df['rounded_coord'] = general_df.apply(lambda row: (round(row['lon'], 5), round(row['lat'], 5)), axis=1)\n",
    "general_filtered = general_df[~general_df['rounded_coord'].isin(certified_coords)].copy()\n",
    "\n",
    "# intersects 기반 격자 매핑 함수\n",
    "def find_grid_index_intersects(pt):\n",
    "    for idx, row in grid_df.iterrows():\n",
    "        if row['geometry'].intersects(pt):\n",
    "            return idx\n",
    "    return None\n",
    "\n",
    "general_filtered['grid_index'] = general_filtered['point'].progress_apply(find_grid_index_intersects)\n",
    "\n",
    "# 병합용 딕셔너리 구성\n",
    "general_filtered['일반키즈카페_정보'] = general_filtered.apply(lambda row: {\n",
    "    '시설명': row['키즈카페명'],\n",
    "    '도로명주소': row['도로명주소'],\n",
    "    '위도': row['lat'],\n",
    "    '경도': row['lon']\n",
    "}, axis=1)\n",
    "\n",
    "# 격자에 병합\n",
    "grid_df['일반키즈카페_정보'] = [[] for _ in range(len(grid_df))]\n",
    "\n",
    "for _, row in general_filtered.dropna(subset=['grid_index']).iterrows():\n",
    "    idx = int(row['grid_index'])\n",
    "    grid_df.at[idx, '일반키즈카페_정보'].append(row['일반키즈카페_정보'])\n",
    "\n",
    "# 저장\n",
    "grid_df.to_csv(\"서울시격자_일반키즈카페포함.csv\", index=False, encoding='utf-8')"
   ]
  },
  {
   "cell_type": "code",
   "execution_count": 94,
   "id": "05d18896-2362-44f9-bf49-fe573e35aa77",
   "metadata": {},
   "outputs": [
    {
     "data": {
      "text/plain": [
       "265"
      ]
     },
     "execution_count": 94,
     "metadata": {},
     "output_type": "execute_result"
    }
   ],
   "source": [
    "# 실제 병합된 격자 수 확인\n",
    "non_empty_count_general = sum([1 for i in grid_df['일반키즈카페_정보'] if len(i) > 0])\n",
    "non_empty_count_general"
   ]
  },
  {
   "cell_type": "markdown",
   "id": "677ac7d6-d692-4f05-b457-fd1763d25c7b",
   "metadata": {},
   "source": [
    "# 유치원-초등학교 데이터 매핑"
   ]
  },
  {
   "cell_type": "code",
   "execution_count": 99,
   "id": "21825c01-efa7-4fde-be84-553b3de293ce",
   "metadata": {},
   "outputs": [
    {
     "name": "stderr",
     "output_type": "stream",
     "text": [
      "100%|███████████████████████████████████████████████████████████████████████████| 1678/1678 [00:00<00:00, 28969.10it/s]\n",
      "100%|██████████████████████████████████████████████████████████████████████████████| 1678/1678 [03:18<00:00,  8.46it/s]\n"
     ]
    },
    {
     "name": "stdout",
     "output_type": "stream",
     "text": [
      "유치원·초등학교 정보가 포함된 격자 수: 810\n"
     ]
    }
   ],
   "source": [
    "tqdm.pandas()\n",
    "\n",
    "# 데이터로드\n",
    "grid_df = pd.read_csv(\"./서울시격자_일반키즈카페포함.csv\", encoding='utf-8')\n",
    "grid_df['geometry'] = grid_df['geometry'].apply(wkt.loads)\n",
    "\n",
    "school_df = pd.read_csv(\"./merge/유치원_초등학교_행정동코드_매핑완료.csv\")\n",
    "\n",
    "# Point 생성\n",
    "school_df['lon'] = school_df['경도']\n",
    "school_df['lat'] = school_df['위도']\n",
    "school_df['point'] = school_df.progress_apply(lambda row: Point(row['lon'], row['lat']), axis=1)\n",
    "\n",
    "# intersects 기반 격자 매핑 함수\n",
    "def find_grid_index_intersects(pt):\n",
    "    for idx, row in grid_df.iterrows():\n",
    "        if row['geometry'].intersects(pt):\n",
    "            return idx\n",
    "    return None\n",
    "\n",
    "school_df['grid_index'] = school_df['point'].progress_apply(find_grid_index_intersects)\n",
    "\n",
    "# 병합용 정보 구성\n",
    "school_df['유치원_초등학교_정보'] = school_df.apply(lambda row: {\n",
    "    '시설명': row['시설명'],\n",
    "    '시설유형': row['시설유형'],\n",
    "    '도로명주소': row['도로명 주소'],\n",
    "    '위도': row['lat'],\n",
    "    '경도': row['lon']\n",
    "}, axis=1)\n",
    "\n",
    "# 병합 컬럼 초기화\n",
    "grid_df['유치원_초등학교_정보'] = [[] for _ in range(len(grid_df))]\n",
    "\n",
    "# 병합 수행\n",
    "for _, row in school_df.dropna(subset=['grid_index']).iterrows():\n",
    "    idx = int(row['grid_index'])\n",
    "    grid_df.at[idx, '유치원_초등학교_정보'].append(row['유치원_초등학교_정보'])\n",
    "\n",
    "# 병합된 격자 수 확인\n",
    "non_empty_count_school = sum([1 for i in grid_df['유치원_초등학교_정보'] if len(i) > 0])\n",
    "print(f\"유치원·초등학교 정보가 포함된 격자 수: {non_empty_count_school}\")\n",
    "\n",
    "# 저장\n",
    "grid_df.to_csv(\"./서울시격자_유치원초등학교포함.csv\", index=False, encoding='utf-8')"
   ]
  },
  {
   "cell_type": "code",
   "execution_count": 101,
   "id": "1132e90d-65b3-4dc7-b533-b66eb2ecd28b",
   "metadata": {},
   "outputs": [
    {
     "data": {
      "text/plain": [
       "(1678, 1676, 2)"
      ]
     },
     "execution_count": 101,
     "metadata": {},
     "output_type": "execute_result"
    }
   ],
   "source": [
    "total_school_count = len(school_df)\n",
    "mapped_school_count = school_df['grid_index'].notna().sum()\n",
    "unmapped_school_count = total_school_count - mapped_school_count\n",
    "\n",
    "total_school_count, mapped_school_count, unmapped_school_count"
   ]
  },
  {
   "cell_type": "markdown",
   "id": "ecf3a580-5c01-4339-a186-ad4bf6521759",
   "metadata": {},
   "source": [
    "# 어린이집 데이터 매핑"
   ]
  },
  {
   "cell_type": "code",
   "execution_count": 108,
   "id": "f1d65e39-6839-432a-8e0a-889f3ae7df78",
   "metadata": {},
   "outputs": [
    {
     "name": "stderr",
     "output_type": "stream",
     "text": [
      "100%|███████████████████████████████████████████████████████████████████████████| 4302/4302 [00:00<00:00, 16057.43it/s]\n",
      "100%|██████████████████████████████████████████████████████████████████████████████| 3823/3823 [22:16<00:00,  2.86it/s]\n"
     ]
    },
    {
     "data": {
      "text/plain": [
       "1070"
      ]
     },
     "execution_count": 108,
     "metadata": {},
     "output_type": "execute_result"
    }
   ],
   "source": [
    "# 데이터 로드\n",
    "childcare_df = pd.read_csv(\"./merge/서울시_어린이집_행정동코드_최종완료.csv\")\n",
    "school_df = pd.read_csv(\"./merge/유치원_초등학교_행정동코드_매핑완료.csv\")\n",
    "grid_df = pd.read_csv(\"./서울시격자_유치원초등학교포함.csv\", encoding='utf-8')\n",
    "\n",
    "grid_df['geometry'] = grid_df['geometry'].apply(wkt.loads)\n",
    "\n",
    "# 어린이집 데이터 전처리\n",
    "childcare_df['lon'] = childcare_df['시설 경도(좌표값)_수정']\n",
    "childcare_df['lat'] = childcare_df['시설 위도(좌표값)_수정']\n",
    "childcare_df['point'] = childcare_df.progress_apply(lambda row: Point(row['lon'], row['lat']), axis=1)\n",
    "\n",
    "# 유치원·초등학교 데이터 중 \"유치원\" 또는 \"어린이집\" 유형의 좌표 추출\n",
    "duplicate_coords = set(\n",
    "    tuple(round(pt, 5) for pt in (row['경도'], row['위도']))\n",
    "    for _, row in school_df.iterrows()\n",
    "    if row['시설유형'] in ['어린이집', '유치원']\n",
    ")\n",
    "\n",
    "# 중복 제거된 어린이집만 필터링\n",
    "childcare_df['rounded_coord'] = childcare_df.apply(lambda row: (round(row['lon'], 5), round(row['lat'], 5)), axis=1)\n",
    "childcare_filtered = childcare_df[~childcare_df['rounded_coord'].isin(duplicate_coords)].copy()\n",
    "\n",
    "# intersects 방식으로 격자 매핑\n",
    "childcare_filtered['grid_index'] = childcare_filtered['point'].progress_apply(find_grid_index_intersects)\n",
    "\n",
    "# 병합용 딕셔너리 구성\n",
    "childcare_filtered['어린이집_정보'] = childcare_filtered.apply(lambda row: {\n",
    "    '어린이집명': row['어린이집명'],\n",
    "    '시설주소': row['상세주소'],\n",
    "    '위도': row['lat'],\n",
    "    '경도': row['lon']\n",
    "}, axis=1)\n",
    "\n",
    "# 병합 전 컬럼 초기화\n",
    "grid_df['어린이집_정보'] = [[] for _ in range(len(grid_df))]\n",
    "\n",
    "# 병합 수행\n",
    "for _, row in childcare_filtered.dropna(subset=['grid_index']).iterrows():\n",
    "    idx = int(row['grid_index'])\n",
    "    grid_df.at[idx, '어린이집_정보'].append(row['어린이집_정보'])\n",
    "\n",
    "# 실제 병합된 격자 수 확인\n",
    "non_empty_count_childcare = sum([1 for i in grid_df['어린이집_정보'] if len(i) > 0])\n",
    "non_empty_count_childcare"
   ]
  },
  {
   "cell_type": "code",
   "execution_count": 111,
   "id": "3f98b539-f04c-4c8c-983d-31424c8905c0",
   "metadata": {},
   "outputs": [],
   "source": [
    "grid_df.to_csv(\"서울시격자_어린이집포함.csv\", index=False, encoding='utf-8')"
   ]
  },
  {
   "cell_type": "markdown",
   "id": "d6e8970c-dc26-4e8d-aa96-1e2f74b32484",
   "metadata": {},
   "source": [
    "# 지역아동센터 데이터 매핑"
   ]
  },
  {
   "cell_type": "code",
   "execution_count": 115,
   "id": "346d3421-6754-4ecc-8a56-a9c4a479461d",
   "metadata": {},
   "outputs": [
    {
     "name": "stderr",
     "output_type": "stream",
     "text": [
      "100%|█████████████████████████████████████████████████████████████████████████████| 409/409 [00:00<00:00, 14037.18it/s]\n",
      "100%|████████████████████████████████████████████████████████████████████████████████| 409/409 [01:09<00:00,  5.88it/s]\n"
     ]
    }
   ],
   "source": [
    "tqdm.pandas()\n",
    "\n",
    "# 데이터 로드\n",
    "grid_df = pd.read_csv(\"./서울시격자_어린이집포함.csv\", encoding='utf-8')\n",
    "grid_df['geometry'] = grid_df['geometry'].apply(wkt.loads)\n",
    "\n",
    "center_df = pd.read_csv(\"./merge/서울시 지역아동센터 행정동코드 수정.csv\", encoding='utf-8')\n",
    "\n",
    "# 위도/경도 및 Point 컬럼 생성\n",
    "center_df['lon'] = center_df['경도']\n",
    "center_df['lat'] = center_df['위도']\n",
    "center_df['point'] = center_df.progress_apply(lambda row: Point(row['lon'], row['lat']), axis=1)\n",
    "\n",
    "# intersects 기반 격자 매핑 함수\n",
    "def find_grid_index_intersects(pt):\n",
    "    for idx, row in grid_df.iterrows():\n",
    "        if row['geometry'].intersects(pt):\n",
    "            return idx\n",
    "    return None\n",
    "\n",
    "center_df['grid_index'] = center_df['point'].progress_apply(find_grid_index_intersects)\n",
    "\n",
    "# 병합용 딕셔너리 구성\n",
    "center_df['지역아동센터_정보'] = center_df.apply(lambda row: {\n",
    "    '시설명': row['시설명'],\n",
    "    '기본주소': row['기본주소'],\n",
    "    '위도': row['lat'],\n",
    "    '경도': row['lon']\n",
    "}, axis=1)\n",
    "\n",
    "# 병합 전 컬럼 초기화\n",
    "grid_df['지역아동센터_정보'] = [[] for _ in range(len(grid_df))]\n",
    "\n",
    "# 병합 수행\n",
    "for _, row in center_df.dropna(subset=['grid_index']).iterrows():\n",
    "    idx = int(row['grid_index'])\n",
    "    grid_df.at[idx, '지역아동센터_정보'].append(row['지역아동센터_정보'])\n",
    "\n",
    "# 실제 병합된 격자 수 확인\n",
    "non_empty_count_centers = sum([1 for i in grid_df['지역아동센터_정보'] if len(i) > 0])\n",
    "non_empty_count_centers\n",
    "\n",
    "grid_df.to_csv(\"./서울시격자_지역아동센터포함.csv\", index=False, encoding='utf-8')"
   ]
  },
  {
   "cell_type": "markdown",
   "id": "bbb9460b-5731-44df-ab0b-2fd3ea3ce409",
   "metadata": {},
   "source": [
    "# 키움센터 매핑"
   ]
  },
  {
   "cell_type": "code",
   "execution_count": 149,
   "id": "ec1cdc11-c305-4b4a-815c-11f6b4338414",
   "metadata": {},
   "outputs": [
    {
     "name": "stderr",
     "output_type": "stream",
     "text": [
      "100%|█████████████████████████████████████████████████████████████████████████████| 269/269 [00:00<00:00, 12756.72it/s]\n",
      "100%|████████████████████████████████████████████████████████████████████████████████| 269/269 [00:47<00:00,  5.66it/s]\n"
     ]
    },
    {
     "data": {
      "text/plain": [
       "(269, 269, 0)"
      ]
     },
     "execution_count": 149,
     "metadata": {},
     "output_type": "execute_result"
    }
   ],
   "source": [
    "tqdm.pandas()\n",
    "\n",
    "# 데이터로드\n",
    "grid_df = pd.read_csv(\"./서울시격자_지역아동센터포함.csv\", encoding='utf-8')\n",
    "grid_df['geometry'] = grid_df['geometry'].apply(wkt.loads)\n",
    "\n",
    "kiwoom_df = pd.read_csv(\"./merge/키움센터_행정동코드매핑_최종완벽병합.csv\")\n",
    "kiwoom_df['lon'] = kiwoom_df['경도']\n",
    "kiwoom_df['lat'] = kiwoom_df['위도']\n",
    "kiwoom_df['point'] = kiwoom_df.progress_apply(lambda row: Point(row['lon'], row['lat']), axis=1)\n",
    "\n",
    "# 매핑 함수\n",
    "def find_grid_index_buffered(pt):\n",
    "    buffered = pt.buffer(0.00005)  # 약 5m 반경\n",
    "    for idx, row in grid_df.iterrows():\n",
    "        if row['geometry'].intersects(buffered):\n",
    "            return idx\n",
    "    return None\n",
    "\n",
    "# 매핑 수행\n",
    "kiwoom_df['grid_index'] = kiwoom_df['point'].progress_apply(find_grid_index_buffered)\n",
    "\n",
    "# 매핑 결과 확인\n",
    "total_kiwoom = len(kiwoom_df)\n",
    "mapped_kiwoom = kiwoom_df['grid_index'].notna().sum()\n",
    "unmapped_kiwoom = total_kiwoom - mapped_kiwoom\n",
    "\n",
    "total_kiwoom, mapped_kiwoom, unmapped_kiwoom"
   ]
  },
  {
   "cell_type": "code",
   "execution_count": 151,
   "id": "94ebb94d-4dbe-4941-b0a7-efa3d8648cd7",
   "metadata": {},
   "outputs": [],
   "source": [
    "# 키움센터_정보 컬럼\n",
    "kiwoom_df['키움센터_정보'] = kiwoom_df.apply(lambda row: {\n",
    "    '시설명': row['시설명'],\n",
    "    '기본주소': row['기본주소'],\n",
    "    '위도': row['lat'],\n",
    "    '경도': row['lon']\n",
    "}, axis=1)\n",
    "\n",
    "# 병합 전 컬럼 초기화\n",
    "grid_df['키움센터_정보'] = [[] for _ in range(len(grid_df))]\n",
    "\n",
    "# 병합 수행\n",
    "for _, row in kiwoom_df.dropna(subset=['grid_index']).iterrows():\n",
    "    idx = int(row['grid_index'])\n",
    "    grid_df.at[idx, '키움센터_정보'].append(row['키움센터_정보'])\n",
    "\n",
    "# 최종 저장\n",
    "grid_df.to_csv(\"./서울시격자_키움센터포함.csv\", index=False, encoding='utf-8')"
   ]
  },
  {
   "cell_type": "code",
   "execution_count": 155,
   "id": "ca8b0090-6678-4817-8226-957b347fa348",
   "metadata": {},
   "outputs": [
    {
     "data": {
      "text/plain": [
       "(219, 269, 269)"
      ]
     },
     "execution_count": 155,
     "metadata": {},
     "output_type": "execute_result"
    }
   ],
   "source": [
    "mapped_kiwoom_ids = kiwoom_df['grid_index'].dropna().unique()\n",
    "mapped_count = len(mapped_kiwoom_ids)\n",
    "\n",
    "# 중복 포함 모든 시설 수\n",
    "total_facilities_mapped = kiwoom_df['grid_index'].notna().sum()\n",
    "\n",
    "# 최종 결과\n",
    "mapped_count, total_facilities_mapped, len(kiwoom_df)"
   ]
  },
  {
   "cell_type": "markdown",
   "id": "8acda118-4276-48d4-ad72-00ac1d70551e",
   "metadata": {},
   "source": [
    "# 유흥주점 데이터 매핑"
   ]
  },
  {
   "cell_type": "code",
   "execution_count": 162,
   "id": "738fe00a-6936-4ca0-9004-b7b44e85b575",
   "metadata": {},
   "outputs": [
    {
     "name": "stderr",
     "output_type": "stream",
     "text": [
      "100%|██████████████████████████████████████████████████████████████████████████████| 1733/1733 [04:37<00:00,  6.25it/s]\n"
     ]
    },
    {
     "data": {
      "text/plain": [
       "(1733, 1733, 0)"
      ]
     },
     "execution_count": 162,
     "metadata": {},
     "output_type": "execute_result"
    }
   ],
   "source": [
    "tqdm.pandas()\n",
    "\n",
    "# 데이터 로드\n",
    "adult_df = pd.read_csv(\"./merge/유흥주점_위경도_행정동코드_추가_최종.csv\", encoding='cp949')\n",
    "\n",
    "# 제외할 사업장명 리스트\n",
    "excluded_names = [\n",
    "    \"체리\", \"궁\", \"비너스클럽\", \"모델노래크럽\", \"갤럭시 노래주점\",\n",
    "    \"보물섬\", \"원남관광나이트\", \"브이아이피(VIP)\", \"라이브노래주점\", \"일번지\"\n",
    "]\n",
    "\n",
    "# 제외 후 대상 데이터\n",
    "adult_filtered = adult_df[~adult_df['사업장명'].isin(excluded_names)].copy()\n",
    "\n",
    "# 총 대상 개수\n",
    "total_adult_candidates = len(adult_filtered)\n",
    "\n",
    "# 좌표 기반으로 Point 생성\n",
    "adult_filtered['lon'] = adult_filtered['경도']\n",
    "adult_filtered['lat'] = adult_filtered['위도']\n",
    "adult_filtered['point'] = adult_filtered.apply(lambda row: Point(row['lon'], row['lat']), axis=1)\n",
    "\n",
    "# 격자 데이터 로드 및 geometry 변환\n",
    "grid_df = pd.read_csv(\"./서울시격자_키움센터포함.csv\", encoding='utf-8')\n",
    "grid_df['geometry'] = grid_df['geometry'].apply(wkt.loads)\n",
    "\n",
    "# buffer 없이 intersect만으로 다시 매핑 시도\n",
    "def find_grid_index_simple(pt):\n",
    "    for idx, row in grid_df.iterrows():\n",
    "        if row['geometry'].intersects(pt):\n",
    "            return idx\n",
    "    return None\n",
    "\n",
    "from tqdm import tqdm\n",
    "tqdm.pandas()\n",
    "adult_filtered['grid_index'] = adult_filtered['point'].progress_apply(find_grid_index_simple)\n",
    "\n",
    "# 매핑된 수 확인\n",
    "mapped_adult = adult_filtered['grid_index'].notna().sum()\n",
    "unmapped_adult = total_adult_candidates - mapped_adult\n",
    "\n",
    "total_adult_candidates, mapped_adult, unmapped_adult"
   ]
  },
  {
   "cell_type": "code",
   "execution_count": 166,
   "id": "d349647d-8404-45d4-9f60-670d0acd513b",
   "metadata": {},
   "outputs": [],
   "source": [
    "# 유흥시설_정보 컬럼 생성\n",
    "adult_filtered['유흥시설_정보'] = adult_filtered.apply(lambda row: {\n",
    "    '시설명': row['사업장명'],\n",
    "    '도로명주소': row['도로명주소'],\n",
    "    '위도': row['lat'],\n",
    "    '경도': row['lon']\n",
    "}, axis=1)\n",
    "\n",
    "# 병합 전 컬럼 초기화\n",
    "grid_df['유흥시설_정보'] = [[] for _ in range(len(grid_df))]\n",
    "\n",
    "# 병합 수행\n",
    "for _, row in adult_filtered.dropna(subset=['grid_index']).iterrows():\n",
    "    idx = int(row['grid_index'])\n",
    "    grid_df.at[idx, '유흥시설_정보'].append(row['유흥시설_정보'])\n",
    "\n",
    "# 최종 저장\n",
    "grid_df.to_csv(\"./서울시격자_유흥시설포함.csv\", index=False, encoding='utf-8')"
   ]
  },
  {
   "cell_type": "markdown",
   "id": "059cd0ae-51fa-4c0b-97da-4ba9ba665e37",
   "metadata": {},
   "source": [
    "# 지하철 & 버스 데이터 매핑"
   ]
  },
  {
   "cell_type": "code",
   "execution_count": 170,
   "id": "f6c9b048-8125-47bf-896f-462106eded31",
   "metadata": {},
   "outputs": [
    {
     "name": "stderr",
     "output_type": "stream",
     "text": [
      "100%|█████████████████████████████████████████████████████████████████████████| 11755/11755 [00:00<00:00, 16176.10it/s]\n",
      "100%|████████████████████████████████████████████████████████████████████████████| 11755/11755 [32:21<00:00,  6.05it/s]\n"
     ]
    },
    {
     "data": {
      "text/plain": [
       "1586"
      ]
     },
     "execution_count": 170,
     "metadata": {},
     "output_type": "execute_result"
    }
   ],
   "source": [
    "# 데이터\n",
    "grid_df = pd.read_csv(\"./서울시격자_유흥시설포함.csv\", encoding='utf-8')\n",
    "grid_df['geometry'] = grid_df['geometry'].apply(wkt.loads)\n",
    "\n",
    "transit_df = pd.read_csv(\"./merge/서울시_지하철_버스_행정동코드모두포함.csv\", encoding='utf-8')\n",
    "\n",
    "\n",
    "# 좌표 및 Point 생성\n",
    "transit_df['lon'] = transit_df['경도']\n",
    "transit_df['lat'] = transit_df['위도']\n",
    "transit_df['point'] = transit_df.progress_apply(lambda row: Point(row['lon'], row['lat']), axis=1)\n",
    "\n",
    "# 매핑 함수 (intersects + buffer 방식)\n",
    "def find_grid_index_buffered(pt):\n",
    "    buffered = pt.buffer(0.00005)\n",
    "    for idx, row in grid_df.iterrows():\n",
    "        if row['geometry'].intersects(buffered):\n",
    "            return idx\n",
    "    return None\n",
    "\n",
    "transit_df['grid_index'] = transit_df['point'].progress_apply(find_grid_index_buffered)\n",
    "\n",
    "# 병합용 딕셔너리 생성\n",
    "transit_df['대중교통_정보'] = transit_df.apply(lambda row: {\n",
    "    '이름': row['이름'],\n",
    "    '종류': row['종류'],\n",
    "    '위도': row['lat'],\n",
    "    '경도': row['lon']\n",
    "}, axis=1)\n",
    "\n",
    "# 병합 전 컬럼 초기화\n",
    "grid_df['대중교통_정보'] = [[] for _ in range(len(grid_df))]\n",
    "\n",
    "# 병합 수행\n",
    "for _, row in transit_df.dropna(subset=['grid_index']).iterrows():\n",
    "    idx = int(row['grid_index'])\n",
    "    grid_df.at[idx, '대중교통_정보'].append(row['대중교통_정보'])\n",
    "\n",
    "# 매핑된 격자 수 확인\n",
    "non_empty_count_transit = sum([1 for i in grid_df['대중교통_정보'] if len(i) > 0])\n",
    "non_empty_count_transit"
   ]
  },
  {
   "cell_type": "code",
   "execution_count": 190,
   "id": "6aba9d79-dec8-44f5-ac4e-4ddda9c00a4c",
   "metadata": {},
   "outputs": [
    {
     "data": {
      "text/plain": [
       "(11755, 0)"
      ]
     },
     "execution_count": 190,
     "metadata": {},
     "output_type": "execute_result"
    }
   ],
   "source": [
    "missing = transit_df[transit_df['grid_index'].isna()].copy()\n",
    "\n",
    "# 2. buffer 확장해서 재매핑\n",
    "def match_buffered(pt):\n",
    "    buffered = pt.buffer(0.005)\n",
    "    for idx, row in grid_df.iterrows():\n",
    "        if row['geometry'].intersects(buffered):\n",
    "            return idx\n",
    "    return None\n",
    "\n",
    "missing['grid_index'] = missing['point'].apply(match_buffered)\n",
    "\n",
    "# 3. 재매핑 결과 반영\n",
    "transit_df.update(missing)\n",
    "\n",
    "# 4. 매핑된 최종 결과 확인\n",
    "final_mapped = transit_df['grid_index'].notna().sum()\n",
    "final_unmapped = len(transit_df) - final_mapped\n",
    "\n",
    "final_mapped, final_unmapped"
   ]
  },
  {
   "cell_type": "code",
   "execution_count": 192,
   "id": "44c33ce9-55f7-401b-b01f-c480e27dcc69",
   "metadata": {},
   "outputs": [],
   "source": [
    "# 병합용 딕셔너리 생성\n",
    "transit_df['대중교통_정보'] = transit_df.apply(lambda row: {\n",
    "    '이름': row['이름'],\n",
    "    '종류': row['종류'],\n",
    "    '위도': row['위도'],\n",
    "    '경도': row['경도']\n",
    "}, axis=1)\n",
    "\n",
    "# 병합 전 컬럼 초기화\n",
    "grid_df['대중교통_정보'] = [[] for _ in range(len(grid_df))]\n",
    "\n",
    "# 병합 수행\n",
    "for _, row in transit_df.dropna(subset=['grid_index']).iterrows():\n",
    "    idx = int(row['grid_index'])\n",
    "    grid_df.at[idx, '대중교통_정보'].append(row['대중교통_정보'])\n",
    "\n",
    "# 병합된 격자 저장\n",
    "grid_df.to_csv(\"./서울시격자_대중교통포함.csv\", index=False, encoding='utf-8')"
   ]
  },
  {
   "cell_type": "markdown",
   "id": "1379e2df-d51a-4b01-b417-88a679c88b01",
   "metadata": {},
   "source": [
    "# 서울시 소득소비 데이터 매핑"
   ]
  },
  {
   "cell_type": "code",
   "execution_count": 253,
   "id": "b550ad0a-153e-441e-add1-3e809c49dc70",
   "metadata": {},
   "outputs": [
    {
     "name": "stdout",
     "output_type": "stream",
     "text": [
      "소득소비에 없는 행정동코드 수: 3\n",
      "예시: ['11740525', '11680675', '11740526']\n",
      "NaN 발생 컬럼 수:\n",
      "2022_1Q_소득분위     21\n",
      "2022_2Q_소득분위     21\n",
      "2022_3Q_소득분위     21\n",
      "2022_4Q_소득분위     21\n",
      "2023_1Q_소득분위     21\n",
      "2023_2Q_소득분위     21\n",
      "2023_3Q_소득분위     21\n",
      "2023_4Q_소득분위     21\n",
      "2024_1Q_소득분위     21\n",
      "2024_2Q_소득분위     21\n",
      "2024_3Q_소득분위     21\n",
      "2024_4Q_소득분위     21\n",
      "2022_1Q_월평균소득    21\n",
      "2022_2Q_월평균소득    21\n",
      "2022_3Q_월평균소득    21\n",
      "2022_4Q_월평균소득    21\n",
      "2023_1Q_월평균소득    21\n",
      "2023_2Q_월평균소득    21\n",
      "2023_3Q_월평균소득    21\n",
      "2023_4Q_월평균소득    21\n",
      "2024_1Q_월평균소득    21\n",
      "2024_2Q_월평균소득    21\n",
      "2024_3Q_월평균소득    21\n",
      "2024_4Q_월평균소득    21\n",
      "2022_1Q_총지출      21\n",
      "2022_2Q_총지출      21\n",
      "2022_3Q_총지출      21\n",
      "2022_4Q_총지출      21\n",
      "2023_1Q_총지출      21\n",
      "2023_2Q_총지출      21\n",
      "2023_3Q_총지출      21\n",
      "2023_4Q_총지출      21\n",
      "2024_1Q_총지출      21\n",
      "2024_2Q_총지출      21\n",
      "2024_3Q_총지출      21\n",
      "2024_4Q_총지출      21\n",
      "dtype: int64\n",
      "결과 저장 완료: ./서울시격자_소득소비매핑.csv\n"
     ]
    }
   ],
   "source": [
    "tqdm.pandas()\n",
    "\n",
    "# 파일 경로\n",
    "grid_path = \"./서울시격자_대중교통포함.csv\"\n",
    "income_path = \"./merge/서울시_소득소비_2022_2024_통계청코드_좌표추가완료.csv\"\n",
    "\n",
    "# 데이터 불러오기\n",
    "grid_df = pd.read_csv(grid_path, encoding='utf-8')\n",
    "income_df = pd.read_csv(income_path, encoding='cp949')\n",
    "\n",
    "# 컬럼명 정리\n",
    "income_df = income_df.rename(columns={\n",
    "    '행정동_코드': '행정동코드',\n",
    "    '월_평균_소득_금액': '월평균소득',\n",
    "    '소득_구간_코드': '소득분위',\n",
    "    '지출_총금액': '총지출'\n",
    "})\n",
    "\n",
    "# 분기컬럼 만들기\n",
    "income_df['분기'] = income_df['기준_년분기_코드'].astype(str).map(lambda x: f\"{x[:4]}_{x[4]}Q\")\n",
    "\n",
    "# 자료형 통일\n",
    "grid_df['행정동코드'] = grid_df['행정동코드'].astype(str)\n",
    "income_df['행정동코드'] = income_df['행정동코드'].astype(str)\n",
    "\n",
    "# 피벗테이블\n",
    "income_pivot = income_df.pivot_table(\n",
    "    index='행정동코드',\n",
    "    columns='분기',\n",
    "    values=['월평균소득', '소득분위', '총지출']\n",
    ")\n",
    "\n",
    "# 컬럼명재정리\n",
    "income_pivot.columns = [f\"{quarter}_{kind}\" for kind, quarter in income_pivot.columns]\n",
    "income_pivot.reset_index(inplace=True)\n",
    "\n",
    "# 머지\n",
    "merged_df = grid_df.merge(income_pivot, on='행정동코드', how='left')\n",
    "\n",
    "# 중복컬럼제거\n",
    "merged_df = merged_df.loc[:, ~merged_df.columns.duplicated()]\n",
    "\n",
    "# 누락행정동체크\n",
    "income_codes = set(income_df['행정동코드'].unique())\n",
    "grid_codes = set(grid_df['행정동코드'].unique())\n",
    "missing_codes = grid_codes - income_codes\n",
    "print(f\"소득소비에 없는 행정동코드 수: {len(missing_codes)}\")\n",
    "print(f\"예시: {list(missing_codes)[:5]}\")\n",
    "\n",
    "# 결측값확인\n",
    "check_cols = [col for col in merged_df.columns if any(q in col for q in ['2022_', '2023_', '2024_'])]\n",
    "nan_counts = merged_df[check_cols].isna().sum()\n",
    "print(\"NaN 발생 컬럼 수:\")\n",
    "print(nan_counts[nan_counts > 0])\n",
    "\n",
    "# 저장\n",
    "output_path = \"./서울시격자_소득소비매핑.csv\"\n",
    "merged_df.to_csv(output_path, index=False, encoding='utf-8')\n",
    "print(f\"결과 저장 완료: {output_path}\")"
   ]
  },
  {
   "cell_type": "markdown",
   "id": "eba48913-df8c-4d36-8863-cd19d654b821",
   "metadata": {},
   "source": [
    "### 시각화하여 보간필요 확인"
   ]
  },
  {
   "cell_type": "code",
   "execution_count": 10,
   "id": "4576f328-2bb8-4282-b140-34d11a93e974",
   "metadata": {},
   "outputs": [
    {
     "name": "stdout",
     "output_type": "stream",
     "text": [
      "완료: ./서울시격자_소득지도_2024_4Q_보간확인.html\n"
     ]
    }
   ],
   "source": [
    "# 데이터 로드\n",
    "path = \"./서울시격자_소득소비매핑.csv\"\n",
    "df = pd.read_csv(path, encoding='utf-8')\n",
    "df['geometry'] = df['geometry'].apply(wkt.loads)\n",
    "\n",
    "# 컬럼 불러오기\n",
    "latest_income_col = '2024_4Q_월평균소득'\n",
    "tooltip_col = '행정동명'\n",
    "\n",
    "# 중심점 잡기\n",
    "center = df.iloc[0]['geometry'].centroid.coords[0][::-1]\n",
    "\n",
    "# 결측과 아닌 행 나누기\n",
    "valid_df = df[~df[latest_income_col].isna()].copy()\n",
    "all_df = df.copy()\n",
    "\n",
    "# 툴팁용 NaN값 대체\n",
    "all_df[latest_income_col] = all_df[latest_income_col].fillna('-')\n",
    "\n",
    "# 색상 범위\n",
    "min_income = valid_df[latest_income_col].min()\n",
    "max_income = valid_df[latest_income_col].max()\n",
    "\n",
    "# 모든 격자의 배경\n",
    "def background_style(feature):\n",
    "    return {\n",
    "        'fillColor': '#f0f0f0',\n",
    "        'color': 'lightgray',\n",
    "        'weight': 0.3,\n",
    "        'fillOpacity': 0.1\n",
    "    }\n",
    "\n",
    "# 소득 스타일\n",
    "def income_style(feature):\n",
    "    value = feature['properties'][latest_income_col]\n",
    "    if value in [None, '-', '']:\n",
    "        return {'fillOpacity': 0.0, 'weight': 0}\n",
    "    else:\n",
    "        value = float(value)\n",
    "        color = plt.cm.Oranges((value - min_income) / (max_income - min_income))\n",
    "        color_hex = matplotlib.colors.rgb2hex(color)\n",
    "        return {\n",
    "            'fillColor': color_hex,\n",
    "            'color': 'gray',\n",
    "            'weight': 0.3,\n",
    "            'fillOpacity': 0.7\n",
    "        }\n",
    "\n",
    "# geojson 변환\n",
    "def to_geojson(df, props):\n",
    "    features = []\n",
    "    for _, row in df.iterrows():\n",
    "        feature = {\n",
    "            'type': 'Feature',\n",
    "            'geometry': mapping(row['geometry']),\n",
    "            'properties': {k: row[k] for k in props}\n",
    "        }\n",
    "        features.append(feature)\n",
    "    return {'type': 'FeatureCollection', 'features': features}\n",
    "\n",
    "# 지도\n",
    "m = folium.Map(location=center, zoom_start=11, tiles='cartodbpositron')\n",
    "\n",
    "# 배경과 툴팁\n",
    "background_geojson = to_geojson(all_df, [tooltip_col, latest_income_col])\n",
    "folium.GeoJson(\n",
    "    background_geojson,\n",
    "    style_function=background_style,\n",
    "    tooltip=folium.GeoJsonTooltip(\n",
    "        fields=[tooltip_col, latest_income_col],\n",
    "        aliases=[\"행정동명\", \"월평균소득 (원)\"],\n",
    "        localize=True,\n",
    "        sticky=True\n",
    "    ),\n",
    "    name=\"전체 격자 (배경 + 툴팁)\"\n",
    ").add_to(m)\n",
    "\n",
    "# 소득 색상\n",
    "income_geojson = to_geojson(valid_df, [tooltip_col, latest_income_col])\n",
    "folium.GeoJson(\n",
    "    income_geojson,\n",
    "    style_function=income_style,\n",
    "    tooltip=folium.GeoJsonTooltip(\n",
    "        fields=[tooltip_col, latest_income_col],\n",
    "        aliases=[\"행정동명\", \"월평균소득 (원)\"],\n",
    "        localize=True,\n",
    "        sticky=True\n",
    "    ),\n",
    "    name=\"소득 있는 격자\"\n",
    ").add_to(m)\n",
    "\n",
    "# 저장\n",
    "output_path = \"./서울시격자_소득지도_2024_4Q_보간확인.html\"\n",
    "m.save(output_path)\n",
    "print(f\"완료: {output_path}\")"
   ]
  },
  {
   "cell_type": "markdown",
   "id": "0c9abca5-cb8e-49a5-a3cf-35ec9238eac5",
   "metadata": {},
   "source": [
    "### 상일제1동, 상일제2동, 개포3동 주변 행정동들로 평균치 보간하기"
   ]
  },
  {
   "cell_type": "code",
   "execution_count": 18,
   "id": "da5df744-1ad7-4a14-be43-a88cee46cfe5",
   "metadata": {},
   "outputs": [
    {
     "name": "stdout",
     "output_type": "stream",
     "text": [
      "완료\n"
     ]
    }
   ],
   "source": [
    "# 데이터 드드\n",
    "df = pd.read_csv(\"./서울시격자_소득소비매핑.csv\", encoding='utf-8')\n",
    "\n",
    "# 보간 대상 불러오기\n",
    "interpolation_targets = {\n",
    "    '상일제2동': ['강일동', '고덕2동'],\n",
    "    '상일제1동': ['고덕2동', '고덕1동', '명일2동'],\n",
    "    '개포3동': ['잠실본동', '대치2동', '개포2동', '일원본동', '일원1동', '삼전동']\n",
    "}\n",
    "\n",
    "# 컬럼 정렬\n",
    "income_cols = sorted([col for col in df.columns if col.endswith(\"월평균소득\")])\n",
    "rank_cols = sorted([col for col in df.columns if col.endswith(\"소득분위\")])\n",
    "expense_cols = sorted([col for col in df.columns if col.endswith(\"총지출\")])\n",
    "\n",
    "quarter_columns = list(zip(income_cols, rank_cols, expense_cols))\n",
    "\n",
    "# 보간\n",
    "for target_dong, ref_dongs in interpolation_targets.items():\n",
    "    ref_df = df[df['행정동명'].isin(ref_dongs)]\n",
    "    for income_col, rank_col, expense_col in quarter_columns:\n",
    "        df.loc[df['행정동명'] == target_dong, income_col] = ref_df[income_col].mean().round(0)\n",
    "        df.loc[df['행정동명'] == target_dong, rank_col] = ref_df[rank_col].mean().round(0)\n",
    "        df.loc[df['행정동명'] == target_dong, expense_col] = ref_df[expense_col].mean().round(0)\n",
    "\n",
    "# 저장\n",
    "df.to_csv(\"./서울시격자_소득소비매핑보간완료.csv\", index=False, encoding='utf-8')\n",
    "print(\"완료\")"
   ]
  },
  {
   "cell_type": "markdown",
   "id": "a17fb00b-c14b-4e48-a884-b22c0a9f8f8d",
   "metadata": {},
   "source": [
    "### 시각화"
   ]
  },
  {
   "cell_type": "code",
   "execution_count": 20,
   "id": "eca2266f-1b90-47e8-adaf-060d5cecab9e",
   "metadata": {},
   "outputs": [],
   "source": [
    "# 1. CSV 파일 불러오기\n",
    "file_path = \"서울시격자_소득소비매핑보간완료.csv\"\n",
    "df = pd.read_csv(file_path, encoding='utf-8')\n",
    "\n",
    "# 2. geometry 컬럼 WKT → shapely Polygon\n",
    "df[\"geometry\"] = df[\"geometry\"].apply(wkt.loads)\n",
    "\n",
    "# 3. 소득/지출 컬럼 정의\n",
    "df[\"월평균_소득\"] = df[\"2024_4Q_월평균소득\"]\n",
    "df[\"월평균_총지출\"] = df[\"2024_4Q_총지출\"]\n",
    "df[\"격자ID\"] = df[\"grid_id\"]  # Choropleth용\n",
    "df[\"행정동명\"] = df[\"행정동명\"]  # 툴팁용\n",
    "\n",
    "# 4. 총지출 컬럼 클리핑 (이상치 제거: 1~99 분위)\n",
    "vmin_spend = np.percentile(df[\"월평균_총지출\"], 1)\n",
    "vmax_spend = np.percentile(df[\"월평균_총지출\"], 99)\n",
    "df[\"클리핑_총지출\"] = df[\"월평균_총지출\"].clip(lower=vmin_spend, upper=vmax_spend)\n",
    "\n",
    "# 5. GeoJSON 생성 함수\n",
    "def df_to_geojson(dataframe):\n",
    "    features = []\n",
    "    for _, row in dataframe.iterrows():\n",
    "        features.append({\n",
    "            \"type\": \"Feature\",\n",
    "            \"geometry\": mapping(row[\"geometry\"]),\n",
    "            \"properties\": {\n",
    "                \"행정동명\": row[\"행정동명\"],\n",
    "                \"월평균_소득\": row[\"월평균_소득\"],\n",
    "                \"월평균_총지출\": row[\"월평균_총지출\"],\n",
    "                \"클리핑_총지출\": row[\"클리핑_총지출\"],\n",
    "                \"격자ID\": row[\"격자ID\"]\n",
    "            }\n",
    "        })\n",
    "    return {\n",
    "        \"type\": \"FeatureCollection\",\n",
    "        \"features\": features\n",
    "    }\n",
    "\n",
    "geojson_data = df_to_geojson(df)\n",
    "\n",
    "# 6. Folium 지도 생성 함수\n",
    "def draw_folium_map_custom(column, legend_name):\n",
    "    m = folium.Map(location=[37.5665, 126.9780], zoom_start=11, tiles='cartodbpositron')\n",
    "    \n",
    "    Choropleth(\n",
    "        geo_data=geojson_data,\n",
    "        data=df,\n",
    "        columns=[\"격자ID\", column],\n",
    "        key_on=\"feature.properties.격자ID\",\n",
    "        fill_color=\"YlOrRd\",\n",
    "        fill_opacity=0.7,\n",
    "        line_opacity=0.3,\n",
    "        line_color=\"black\",\n",
    "        nan_fill_color=\"white\",\n",
    "        legend_name=legend_name\n",
    "    ).add_to(m)\n",
    "\n",
    "    GeoJson(\n",
    "        geojson_data,\n",
    "        tooltip=GeoJsonTooltip(\n",
    "            fields=[\"행정동명\", \"월평균_소득\", \"월평균_총지출\"],\n",
    "            aliases=[\"행정동\", \"월평균 소득\", \"월평균 총지출\"],\n",
    "            localize=True\n",
    "        ),\n",
    "        style_function=lambda x: {\n",
    "            \"color\": \"black\",\n",
    "            \"weight\": 0.5,\n",
    "            \"fillOpacity\": 0\n",
    "        }\n",
    "    ).add_to(m)\n",
    "\n",
    "    return m\n",
    "\n",
    "# 7. 지도 생성\n",
    "income_map = draw_folium_map_custom(\"월평균_소득\", \"2024년 4분기 월평균 소득\")\n",
    "spending_map = draw_folium_map_custom(\"클리핑_총지출\", \"2024년 4분기 월평균 총지출 (클리핑)\")\n",
    "\n",
    "# 8. HTML로 저장\n",
    "income_map.save(\"./시각화파일모음/2024Q4_소득_지도.html\")\n",
    "spending_map.save(\"./시각화파일모음/2024Q4_총지출_지도_클리핑.html\")"
   ]
  },
  {
   "cell_type": "code",
   "execution_count": 27,
   "id": "35edb81b-1bdd-437a-ac73-0fac38987726",
   "metadata": {},
   "outputs": [
    {
     "data": {
      "text/plain": [
       "'./시각화용파일/서울시_총지출_전분기_Kepler.geojson'"
      ]
     },
     "execution_count": 27,
     "metadata": {},
     "output_type": "execute_result"
    }
   ],
   "source": [
    "file_path = \"서울시격자_소득소비매핑보간완료.csv\"\n",
    "df = pd.read_csv(file_path, encoding='utf-8')\n",
    "\n",
    "# '총지출'이 포함된 컬럼 전체 추출\n",
    "spending_columns = [col for col in df.columns if \"총지출\" in col and \"202\" in col]\n",
    "\n",
    "# GeoJSON 생성: 총지출 관련 컬럼 전부 포함\n",
    "def geojson_all_spending(dataframe, spending_cols):\n",
    "    features = []\n",
    "    for _, row in dataframe.iterrows():\n",
    "        geom = row[\"geometry\"]\n",
    "        if isinstance(geom, str):\n",
    "            geom = wkt.loads(geom)\n",
    "        props = {\"행정동명\": row[\"행정동명\"]}\n",
    "        for col in spending_cols:\n",
    "            props[col] = row[col]\n",
    "        features.append({\n",
    "            \"type\": \"Feature\",\n",
    "            \"geometry\": mapping(geom),\n",
    "            \"properties\": props\n",
    "        })\n",
    "    return {\n",
    "        \"type\": \"FeatureCollection\",\n",
    "        \"features\": features\n",
    "    }\n",
    "\n",
    "# GeoJSON 생성\n",
    "kepler_spending_geojson = geojson_all_spending(df, spending_columns)\n",
    "\n",
    "# 저장\n",
    "output_path = \"./시각화용파일/서울시_총지출_전분기_Kepler.geojson\"\n",
    "with open(output_path, \"w\", encoding=\"utf-8\") as f:\n",
    "    json.dump(kepler_spending_geojson, f, ensure_ascii=False)\n",
    "\n",
    "output_path"
   ]
  },
  {
   "cell_type": "markdown",
   "id": "dd6066a8-5698-4df7-9506-52cdebf1e4d6",
   "metadata": {},
   "source": [
    "# 인구정보 매핑하기 - 생활인구 매핑하기"
   ]
  },
  {
   "cell_type": "markdown",
   "id": "beeabca5-30dc-4a1d-8bd2-c2e431170cb5",
   "metadata": {},
   "source": [
    "# 아동인구 매핑하기"
   ]
  },
  {
   "cell_type": "code",
   "execution_count": 35,
   "id": "dd23498c-18e2-451e-a979-dff48d3d1ac1",
   "metadata": {},
   "outputs": [],
   "source": [
    "# 파일 불러오기\n",
    "grid = pd.read_csv('./서울시격자_소득소비매핑보간완료.csv')\n",
    "child = pd.read_csv('./merge/행정동별_아동인구_코드포함_최종병합_소계제외.csv', encoding='cp949')\n",
    "child = child.rename(columns={'행자부행정동코드': '행정동코드'})\n",
    "\n",
    "# 거주 가능 키워드 정의\n",
    "residential_keywords = [\n",
    "    \"주거지역\", \"상업지역\", \"공업지역\", \n",
    "    \"전용주거지역\", \"준공업지역\", \"근린상업지역\", \"복합지역\"\n",
    "]\n",
    "\n",
    "# 거주 가능한 격자 필터링\n",
    "residential_grid = grid[grid['지적편집도_상세정보'].fillna('').apply(\n",
    "    lambda x: any(k in x for k in residential_keywords)\n",
    ")].copy()\n",
    "\n",
    "# 분배비율 계산 (동별 격자 수 기준)\n",
    "residential_grid['분배비율'] = 1 / residential_grid.groupby('행정동코드')['grid_id'].transform('count')\n",
    "\n",
    "# 동별 분배비율만 추출\n",
    "ratio_df = residential_grid[['grid_id', '행정동코드', '분배비율']].copy()\n",
    "\n",
    "# 분배 대상 아동인구만 추출\n",
    "age_cols = [col for col in child.columns if col.startswith(('2022', '2023', '2024'))]\n",
    "child_subset = child[['행정동코드'] + age_cols]\n",
    "\n",
    "# 분배 데이터프레임 병합\n",
    "merged = pd.merge(ratio_df, child_subset, on='행정동코드', how='left')\n",
    "\n",
    "# 아동인구 분배\n",
    "for col in age_cols:\n",
    "    merged[col] = (merged[col] * merged['분배비율']).round().astype('Int64')\n",
    "\n",
    "# 원본 grid에 병합\n",
    "final_grid = grid.copy()\n",
    "final_grid = pd.merge(final_grid, merged[['grid_id'] + age_cols], on='grid_id', how='left')\n",
    "\n",
    "# 빈 곳은 0으로 채움\n",
    "for col in age_cols:\n",
    "    final_grid[col] = final_grid[col].fillna(0).astype('Int64')\n",
    "\n",
    "# 저장\n",
    "final_grid.to_csv('서울시격자_아동인구매핑완료.csv', index=False, encoding='utf-8')"
   ]
  },
  {
   "cell_type": "code",
   "execution_count": 37,
   "id": "cf519875-f275-4e61-b61e-3a1e579b7f2f",
   "metadata": {},
   "outputs": [
    {
     "data": {
      "text/plain": [
       "grid_id          0\n",
       "geometry         0\n",
       "행정동명             0\n",
       "행정동코드            0\n",
       "지적편집도_상세정보       0\n",
       "지적편집도_상위정보       0\n",
       "서울형공립키즈카페_정보     0\n",
       "인증제키즈카페_정보       0\n",
       "일반키즈카페_정보        0\n",
       "유치원_초등학교_정보      0\n",
       "어린이집_정보          0\n",
       "지역아동센터_정보        0\n",
       "키움센터_정보          0\n",
       "유흥시설_정보          0\n",
       "대중교통_정보          0\n",
       "2022_1Q_소득분위     0\n",
       "2022_2Q_소득분위     0\n",
       "2022_3Q_소득분위     0\n",
       "2022_4Q_소득분위     0\n",
       "2023_1Q_소득분위     0\n",
       "2023_2Q_소득분위     0\n",
       "2023_3Q_소득분위     0\n",
       "2023_4Q_소득분위     0\n",
       "2024_1Q_소득분위     0\n",
       "2024_2Q_소득분위     0\n",
       "2024_3Q_소득분위     0\n",
       "2024_4Q_소득분위     0\n",
       "2022_1Q_월평균소득    0\n",
       "2022_2Q_월평균소득    0\n",
       "2022_3Q_월평균소득    0\n",
       "2022_4Q_월평균소득    0\n",
       "2023_1Q_월평균소득    0\n",
       "2023_2Q_월평균소득    0\n",
       "2023_3Q_월평균소득    0\n",
       "2023_4Q_월평균소득    0\n",
       "2024_1Q_월평균소득    0\n",
       "2024_2Q_월평균소득    0\n",
       "2024_3Q_월평균소득    0\n",
       "2024_4Q_월평균소득    0\n",
       "2022_1Q_총지출      0\n",
       "2022_2Q_총지출      0\n",
       "2022_3Q_총지출      0\n",
       "2022_4Q_총지출      0\n",
       "2023_1Q_총지출      0\n",
       "2023_2Q_총지출      0\n",
       "2023_3Q_총지출      0\n",
       "2023_4Q_총지출      0\n",
       "2024_1Q_총지출      0\n",
       "2024_2Q_총지출      0\n",
       "2024_3Q_총지출      0\n",
       "2024_4Q_총지출      0\n",
       "2022_0-4세        0\n",
       "2022_5-9세        0\n",
       "2023_0-4세        0\n",
       "2023_5-9세        0\n",
       "2024_0-4세        0\n",
       "2024_5-9세        0\n",
       "dtype: int64"
      ]
     },
     "execution_count": 37,
     "metadata": {},
     "output_type": "execute_result"
    }
   ],
   "source": [
    "final_grid.isna().sum()"
   ]
  },
  {
   "cell_type": "code",
   "execution_count": 39,
   "id": "b23b6701-21d2-475a-9e15-160e07683ba6",
   "metadata": {},
   "outputs": [
    {
     "name": "stdout",
     "output_type": "stream",
     "text": [
      "전체 격자 수: 2427\n",
      "아동인구 할당된 격자 수: 2427\n",
      "결측치 수: 0\n"
     ]
    }
   ],
   "source": [
    "# 결측이 거주불가능 격자 수와 일치하는지 확인\n",
    "전체_격자수 = len(grid)\n",
    "\n",
    "# 아동인구가 할당된 격자 수 (예: 2022_0-4세 기준)\n",
    "할당된_격자수 = final_grid['2022_0-4세'].notna().sum()\n",
    "\n",
    "# 결측치 수\n",
    "결측치_수 = final_grid['2022_0-4세'].isna().sum()\n",
    "\n",
    "print(f'전체 격자 수: {전체_격자수}')\n",
    "print(f'아동인구 할당된 격자 수: {할당된_격자수}')\n",
    "print(f'결측치 수: {결측치_수}')"
   ]
  },
  {
   "cell_type": "markdown",
   "id": "a2d80cfb-724f-4b75-91eb-7ca880e73792",
   "metadata": {},
   "source": [
    "### 나중에 아동인구 fill_na=0 필요한 경우 코드 찾기"
   ]
  },
  {
   "cell_type": "code",
   "execution_count": 43,
   "id": "4e98ef6b-3e4e-48fd-bfb1-a56d54b57e6b",
   "metadata": {},
   "outputs": [],
   "source": [
    "final_grid.fillna({\n",
    "    '2022_0-4세': 0, '2022_5-9세': 0,\n",
    "    '2023_0-4세': 0, '2023_5-9세': 0,\n",
    "    '2024_0-4세': 0, '2024_5-9세': 0\n",
    "}, inplace=True)"
   ]
  },
  {
   "cell_type": "code",
   "execution_count": 29,
   "id": "79bde3ee-3d61-4b60-91a8-acfb4c75be5c",
   "metadata": {},
   "outputs": [],
   "source": [
    "pd.set_option('display.max_rows', None)"
   ]
  },
  {
   "cell_type": "markdown",
   "id": "ec64757b-572d-450b-ac51-b600e7d8a558",
   "metadata": {},
   "source": [
    "### 매핑 오차 확인"
   ]
  },
  {
   "cell_type": "code",
   "execution_count": null,
   "id": "bf589e1f-32fe-40d0-8bf2-05c8536134de",
   "metadata": {},
   "outputs": [],
   "source": [
    "df = pd.read_csv('./서울시격자_아동인구매핑완료.csv')\n",
    "\n",
    "# 동별 분배 합계 확인\n",
    "summary = df.groupby('행정동코드')[['2022_0-4세', '2022_5-9세']].sum().astype('Int64')\n",
    "\n",
    "# 원본 아동인구 데이터 비교\n",
    "original = child.set_index('행정동코드')[['2022_0-4세', '2022_5-9세']]\n",
    "\n",
    "# 차이 확인\n",
    "diff = summary.subtract(original, fill_value=0)\n",
    "print(diff[abs(diff) > 0].dropna(how='all'))"
   ]
  },
  {
   "cell_type": "markdown",
   "id": "aa2779de-531a-4333-ba57-02c0929a23db",
   "metadata": {},
   "source": [
    "### 시각화용 파일 처리"
   ]
  },
  {
   "cell_type": "code",
   "execution_count": 47,
   "id": "2eec9524-b543-457c-8e76-62904d43037c",
   "metadata": {},
   "outputs": [],
   "source": [
    "# 분배 완료된 격자 데이터 불러오기\n",
    "df = pd.read_csv(\"./서울시격자_아동인구매핑완료.csv\")\n",
    "\n",
    "# geometry 컬럼이 WKT 형태인 경우 처리\n",
    "if 'geometry' in df.columns:\n",
    "    df['geometry'] = df['geometry'].apply(wkt.loads)\n",
    "else:\n",
    "    raise ValueError(\"geometry 컬럼이 없어요. 중심좌표 계산이 안 됩니다.\")\n",
    "\n",
    "# 중심좌표 계산\n",
    "df['lon'] = df['geometry'].apply(lambda x: x.centroid.x)\n",
    "df['lat'] = df['geometry'].apply(lambda x: x.centroid.y)\n",
    "\n",
    "# Kepler용 저장: geometry 제거하고 중심좌표 포함\n",
    "cols_to_export = ['grid_id', 'lon', 'lat'] + [col for col in df.columns if col.startswith(('2022', '2023', '2024'))]\n",
    "df_kepler = df[cols_to_export]\n",
    "\n",
    "# 저장\n",
    "df_kepler.to_csv(\"./시각화용파일/서울시격자_아동인구_Kepler용.csv\", index=False, encoding='utf-8')"
   ]
  },
  {
   "cell_type": "markdown",
   "id": "9008d774-d761-4fcd-b231-baa7a0f008f0",
   "metadata": {},
   "source": [
    "# 생활인구 2022, 2023, 2024 매핑하기"
   ]
  },
  {
   "cell_type": "markdown",
   "id": "d8b3d5f1-4251-4369-b839-09d9cd4a4502",
   "metadata": {},
   "source": [
    "### 202201생활인구 매핑 테스트 -> 성공!"
   ]
  },
  {
   "cell_type": "code",
   "execution_count": 9,
   "id": "875a5117-5be3-4477-8db9-27ee749a1695",
   "metadata": {},
   "outputs": [
    {
     "name": "stderr",
     "output_type": "stream",
     "text": [
      "<>:13: SyntaxWarning: invalid escape sequence '\\D'\n",
      "<>:13: SyntaxWarning: invalid escape sequence '\\D'\n",
      "C:\\Users\\master\\AppData\\Local\\Temp\\ipykernel_12556\\1665302106.py:13: SyntaxWarning: invalid escape sequence '\\D'\n",
      "  people_df = pd.read_csv(\"G:\\내 드라이브\\DIMA\\프로젝트\\생활인구데이터\\LOCAL_PEOPLE_DONG_202201.csv\", index_col=False, encoding='utf-8')\n",
      "100%|████████████████████████████████████████████████████████████████████████| 315456/315456 [03:02<00:00, 1731.21it/s]\n",
      "Building wide DataFrame: 100%|████████████████████████████████████████████████████| 2034/2034 [00:19<00:00, 102.15it/s]\n"
     ]
    },
    {
     "name": "stdout",
     "output_type": "stream",
     "text": [
      "완료\n"
     ]
    }
   ],
   "source": [
    "# 데이터 로딩 및 전리리\n",
    "people_df = pd.read_csv(\"G:\\내 드라이브\\DIMA\\프로젝트\\생활인구데이터\\LOCAL_PEOPLE_DONG_202201.csv\", index_col=False, encoding='utf-8')\n",
    "grid_df = pd.read_csv(\"./서울시격자_아동인구매핑완료.csv\", encoding='utf-8')\n",
    "poi_df = pd.read_csv(\"./merge/서울시_관광특구_POI_좌표.csv\", encoding='cp949')\n",
    "\n",
    "people_df['행정동코드'] = people_df['행정동코드'].astype(float).astype(int).astype(str)\n",
    "grid_df['행정동코드'] = grid_df['행정동코드'].astype(str)\n",
    "poi_coords = list(zip(poi_df['latitude'], poi_df['longitude']))\n",
    "\n",
    "# 거주 가능 격자 필터링 및 가중치 계산\n",
    "keywords = ['주거지역', '상업지역', '공업지역', '전용주거지역', '준공업지역', '근린상업지역', '복합지역']\n",
    "\n",
    "def contains_residential(info):\n",
    "    try:\n",
    "        d = ast.literal_eval(info)\n",
    "        return any(any(k in key for k in keywords) for key in d)\n",
    "    except:\n",
    "        return False\n",
    "\n",
    "def calc_distance_weight(lat, lon):\n",
    "    grid_point = (lat, lon)\n",
    "    return sum(1 / max(haversine(grid_point, poi), 0.001) for poi in poi_coords)\n",
    "\n",
    "def calc_centroid(geom):\n",
    "    try:\n",
    "        poly = wkt.loads(geom)\n",
    "        return poly.centroid.y, poly.centroid.x\n",
    "    except:\n",
    "        return None, None\n",
    "\n",
    "res_grids = grid_df[grid_df['지적편집도_상세정보'].apply(contains_residential)].copy()\n",
    "res_grids[['lat', 'lon']] = res_grids['geometry'].apply(lambda g: pd.Series(calc_centroid(g)))\n",
    "res_grids['거주가중치'] = 1.0  # 실제 거주 비율이 있다면 이 부분에 넣어줘\n",
    "res_grids['거리가중치'] = res_grids.apply(lambda row: calc_distance_weight(row['lat'], row['lon']), axis=1)\n",
    "res_grids['최종가중치'] = res_grids['거주가중치'] * res_grids['거리가중치']\n",
    "\n",
    "# 보간 매핑\n",
    "보간매핑 = {\n",
    "    '11305600': ['11305615', '11305625', '11305635'],  # 수유동 → 수유1~3동\n",
    "    '11305590': ['11305595'],                          # 번동 → 번1동\n",
    "    '11740520': ['11740525', '11740526']               # 상일동 → 상일제1,2동\n",
    "}\n",
    "\n",
    "# 보간 매핑 + 일반 동 포함한 전체 매핑\n",
    "전체매핑 = {**보간매핑, **{c: [c] for c in people_df['행정동코드'].unique() if c not in 보간매핑}}\n",
    "\n",
    "# 분배배\n",
    "grid_values = defaultdict(lambda: defaultdict(float))\n",
    "\n",
    "for _, row in tqdm(people_df.iterrows(), total=len(people_df)):\n",
    "    date_id = str(row['기준일ID'])\n",
    "    hour = int(row['시간대구분'])\n",
    "    col_name = f\"{date_id}_{hour:02d}\"\n",
    "    hd_code = row['행정동코드']\n",
    "    pop = float(row['총생활인구수'])\n",
    "\n",
    "    target_codes = 전체매핑[hd_code]\n",
    "    sub_grids = res_grids[res_grids['행정동코드'].isin(target_codes)]\n",
    "\n",
    "    if sub_grids.empty:\n",
    "        continue\n",
    "\n",
    "    weights = sub_grids['최종가중치'].values\n",
    "    weight_sum = weights.sum()\n",
    "    if weight_sum == 0:\n",
    "        continue\n",
    "\n",
    "    ratios = weights / weight_sum\n",
    "    for grid_id, ratio in zip(sub_grids['grid_id'], ratios):\n",
    "        grid_values[grid_id][col_name] += pop * ratio\n",
    "\n",
    "# wide 포맷 변환, 저장, 지지\n",
    "all_columns = sorted({col for d in grid_values.values() for col in d})\n",
    "all_grid_ids = sorted(grid_values.keys())\n",
    "\n",
    "wide_df = pd.DataFrame(index=all_grid_ids, columns=all_columns)\n",
    "for grid_id in tqdm(all_grid_ids, desc=\"Building wide DataFrame\"):\n",
    "    for col in all_columns:\n",
    "        wide_df.at[grid_id, col] = grid_values[grid_id].get(col, 0)\n",
    "\n",
    "wide_df.reset_index(inplace=True)\n",
    "wide_df.rename(columns={'index': 'grid_id'}, inplace=True)\n",
    "\n",
    "# 격자 정보와 머지하여 저장\n",
    "final_df = pd.merge(grid_df, wide_df, on=\"grid_id\", how=\"inner\")\n",
    "final_df.to_csv(\"./서울시격자_202201.csv\", index=False, encoding='utf-8')\n",
    "print(\"완료\")"
   ]
  },
  {
   "cell_type": "code",
   "execution_count": null,
   "id": "2878422f-58d5-4da6-97d6-b99e0a436aff",
   "metadata": {},
   "outputs": [],
   "source": [
    "def extract_centroid_coords(geom_str):\n",
    "    try:\n",
    "        polygon = wkt.loads(geom_str)\n",
    "        centroid = polygon.centroid\n",
    "        return pd.Series({'lon': centroid.x, 'lat': centroid.y})\n",
    "    except:\n",
    "        return pd.Series({'lon': None, 'lat': None})\n",
    "\n",
    "final_df[['lon', 'lat']] = final_df['geometry'].apply(extract_centroid_coords)\n",
    "\n",
    "# 시간 컬럼 필터링\n",
    "time_columns = [col for col in final_df.columns if re.fullmatch(r'20\\d{6}_\\d{2}', col)]\n",
    "\n",
    "# wide → long\n",
    "long_df = pd.melt(\n",
    "    final_df,\n",
    "    id_vars=['grid_id', 'lat', 'lon'],\n",
    "    value_vars=time_columns,\n",
    "    var_name='time',\n",
    "    value_name='인구수'\n",
    ")\n",
    "long_df['datetime'] = pd.to_datetime(long_df['time'], format='%Y%m%d_%H')\n",
    "kepler_df = long_df[['grid_id', 'lat', 'lon', 'datetime', '인구수']]\n",
    "kepler_df.to_csv(\"격자생활인구_Kepler_202201.csv\", index=False)\n",
    "print(\"Kepler 시각화용 CSV 저장 완료\")"
   ]
  },
  {
   "cell_type": "markdown",
   "id": "1db5909c-4dcc-464b-a27d-392cb69a1ffc",
   "metadata": {},
   "source": [
    "### 2022년 모두 저장하기"
   ]
  },
  {
   "cell_type": "code",
   "execution_count": 2,
   "id": "4db72b1e-8400-4911-823d-615e93794ca1",
   "metadata": {},
   "outputs": [
    {
     "name": "stdout",
     "output_type": "stream",
     "text": [
      "처리 중: 202201\n"
     ]
    },
    {
     "name": "stderr",
     "output_type": "stream",
     "text": [
      "100%|████████████████████████████████████████████████████████████████████████| 315456/315456 [03:02<00:00, 1727.98it/s]\n",
      "202201 wide 생성: 100%|████████████████████████████████████████████████████████████| 2034/2034 [00:26<00:00, 78.22it/s]\n"
     ]
    },
    {
     "name": "stdout",
     "output_type": "stream",
     "text": [
      "보간이 필요한 격자 수: 20\n"
     ]
    },
    {
     "name": "stderr",
     "output_type": "stream",
     "text": [
      "생활인구 보간: 100%|███████████████████████████████████████████████████████████████████| 20/20 [00:02<00:00,  8.99it/s]\n"
     ]
    },
    {
     "name": "stdout",
     "output_type": "stream",
     "text": [
      "202201 보간완료 저장 완료!\n",
      "처리 중: 202202\n"
     ]
    },
    {
     "name": "stderr",
     "output_type": "stream",
     "text": [
      "100%|████████████████████████████████████████████████████████████████████████| 284928/284928 [02:50<00:00, 1674.51it/s]\n",
      "202202 wide 생성: 100%|████████████████████████████████████████████████████████████| 2034/2034 [00:23<00:00, 85.69it/s]\n"
     ]
    },
    {
     "name": "stdout",
     "output_type": "stream",
     "text": [
      "보간이 필요한 격자 수: 20\n"
     ]
    },
    {
     "name": "stderr",
     "output_type": "stream",
     "text": [
      "생활인구 보간: 100%|███████████████████████████████████████████████████████████████████| 20/20 [00:02<00:00,  9.64it/s]\n"
     ]
    },
    {
     "name": "stdout",
     "output_type": "stream",
     "text": [
      "202202 보간완료 저장 완료!\n",
      "처리 중: 202203\n"
     ]
    },
    {
     "name": "stderr",
     "output_type": "stream",
     "text": [
      "100%|████████████████████████████████████████████████████████████████████████| 315456/315456 [03:02<00:00, 1724.09it/s]\n",
      "202203 wide 생성: 100%|████████████████████████████████████████████████████████████| 2034/2034 [00:24<00:00, 82.00it/s]\n"
     ]
    },
    {
     "name": "stdout",
     "output_type": "stream",
     "text": [
      "보간이 필요한 격자 수: 20\n"
     ]
    },
    {
     "name": "stderr",
     "output_type": "stream",
     "text": [
      "생활인구 보간: 100%|███████████████████████████████████████████████████████████████████| 20/20 [00:02<00:00,  9.41it/s]\n"
     ]
    },
    {
     "name": "stdout",
     "output_type": "stream",
     "text": [
      "202203 보간완료 저장 완료!\n",
      "처리 중: 202204\n"
     ]
    },
    {
     "name": "stderr",
     "output_type": "stream",
     "text": [
      "100%|████████████████████████████████████████████████████████████████████████| 305280/305280 [02:55<00:00, 1735.40it/s]\n",
      "202204 wide 생성: 100%|████████████████████████████████████████████████████████████| 2034/2034 [00:23<00:00, 86.18it/s]\n"
     ]
    },
    {
     "name": "stdout",
     "output_type": "stream",
     "text": [
      "보간이 필요한 격자 수: 20\n"
     ]
    },
    {
     "name": "stderr",
     "output_type": "stream",
     "text": [
      "생활인구 보간: 100%|███████████████████████████████████████████████████████████████████| 20/20 [00:02<00:00,  9.58it/s]\n"
     ]
    },
    {
     "name": "stdout",
     "output_type": "stream",
     "text": [
      "202204 보간완료 저장 완료!\n",
      "처리 중: 202205\n"
     ]
    },
    {
     "name": "stderr",
     "output_type": "stream",
     "text": [
      "100%|████████████████████████████████████████████████████████████████████████| 315456/315456 [03:00<00:00, 1746.56it/s]\n",
      "202205 wide 생성: 100%|████████████████████████████████████████████████████████████| 2034/2034 [00:27<00:00, 72.88it/s]\n"
     ]
    },
    {
     "name": "stdout",
     "output_type": "stream",
     "text": [
      "보간이 필요한 격자 수: 20\n"
     ]
    },
    {
     "name": "stderr",
     "output_type": "stream",
     "text": [
      "생활인구 보간: 100%|███████████████████████████████████████████████████████████████████| 20/20 [00:02<00:00,  8.51it/s]\n"
     ]
    },
    {
     "name": "stdout",
     "output_type": "stream",
     "text": [
      "202205 보간완료 저장 완료!\n",
      "처리 중: 202206\n"
     ]
    },
    {
     "name": "stderr",
     "output_type": "stream",
     "text": [
      "100%|████████████████████████████████████████████████████████████████████████| 305280/305280 [03:03<00:00, 1660.60it/s]\n",
      "202206 wide 생성: 100%|████████████████████████████████████████████████████████████| 2034/2034 [00:25<00:00, 78.49it/s]\n"
     ]
    },
    {
     "name": "stdout",
     "output_type": "stream",
     "text": [
      "보간이 필요한 격자 수: 20\n"
     ]
    },
    {
     "name": "stderr",
     "output_type": "stream",
     "text": [
      "생활인구 보간: 100%|███████████████████████████████████████████████████████████████████| 20/20 [00:02<00:00,  9.16it/s]\n"
     ]
    },
    {
     "name": "stdout",
     "output_type": "stream",
     "text": [
      "202206 보간완료 저장 완료!\n",
      "처리 중: 202207\n"
     ]
    },
    {
     "name": "stderr",
     "output_type": "stream",
     "text": [
      "100%|████████████████████████████████████████████████████████████████████████| 315456/315456 [03:08<00:00, 1676.02it/s]\n",
      "202207 wide 생성: 100%|████████████████████████████████████████████████████████████| 2034/2034 [00:26<00:00, 76.38it/s]\n"
     ]
    },
    {
     "name": "stdout",
     "output_type": "stream",
     "text": [
      "보간이 필요한 격자 수: 20\n"
     ]
    },
    {
     "name": "stderr",
     "output_type": "stream",
     "text": [
      "생활인구 보간: 100%|███████████████████████████████████████████████████████████████████| 20/20 [00:02<00:00,  8.70it/s]\n"
     ]
    },
    {
     "name": "stdout",
     "output_type": "stream",
     "text": [
      "202207 보간완료 저장 완료!\n",
      "처리 중: 202208\n"
     ]
    },
    {
     "name": "stderr",
     "output_type": "stream",
     "text": [
      "100%|████████████████████████████████████████████████████████████████████████| 315456/315456 [03:06<00:00, 1695.73it/s]\n",
      "202208 wide 생성: 100%|████████████████████████████████████████████████████████████| 2034/2034 [00:26<00:00, 77.23it/s]\n"
     ]
    },
    {
     "name": "stdout",
     "output_type": "stream",
     "text": [
      "보간이 필요한 격자 수: 20\n"
     ]
    },
    {
     "name": "stderr",
     "output_type": "stream",
     "text": [
      "생활인구 보간: 100%|███████████████████████████████████████████████████████████████████| 20/20 [00:02<00:00,  8.83it/s]\n"
     ]
    },
    {
     "name": "stdout",
     "output_type": "stream",
     "text": [
      "202208 보간완료 저장 완료!\n",
      "처리 중: 202209\n"
     ]
    },
    {
     "name": "stderr",
     "output_type": "stream",
     "text": [
      "100%|████████████████████████████████████████████████████████████████████████| 305280/305280 [02:59<00:00, 1697.30it/s]\n",
      "202209 wide 생성: 100%|████████████████████████████████████████████████████████████| 2034/2034 [00:25<00:00, 80.15it/s]\n"
     ]
    },
    {
     "name": "stdout",
     "output_type": "stream",
     "text": [
      "보간이 필요한 격자 수: 20\n"
     ]
    },
    {
     "name": "stderr",
     "output_type": "stream",
     "text": [
      "생활인구 보간: 100%|███████████████████████████████████████████████████████████████████| 20/20 [00:02<00:00,  8.67it/s]\n"
     ]
    },
    {
     "name": "stdout",
     "output_type": "stream",
     "text": [
      "202209 보간완료 저장 완료!\n",
      "처리 중: 202210\n"
     ]
    },
    {
     "name": "stderr",
     "output_type": "stream",
     "text": [
      "100%|████████████████████████████████████████████████████████████████████████| 315456/315456 [03:06<00:00, 1691.53it/s]\n",
      "202210 wide 생성: 100%|████████████████████████████████████████████████████████████| 2034/2034 [00:26<00:00, 76.71it/s]\n"
     ]
    },
    {
     "name": "stdout",
     "output_type": "stream",
     "text": [
      "보간이 필요한 격자 수: 20\n"
     ]
    },
    {
     "name": "stderr",
     "output_type": "stream",
     "text": [
      "생활인구 보간: 100%|███████████████████████████████████████████████████████████████████| 20/20 [00:02<00:00,  8.82it/s]\n"
     ]
    },
    {
     "name": "stdout",
     "output_type": "stream",
     "text": [
      "202210 보간완료 저장 완료!\n",
      "처리 중: 202211\n"
     ]
    },
    {
     "name": "stderr",
     "output_type": "stream",
     "text": [
      "100%|████████████████████████████████████████████████████████████████████████| 305280/305280 [02:59<00:00, 1696.07it/s]\n",
      "202211 wide 생성: 100%|████████████████████████████████████████████████████████████| 2034/2034 [00:25<00:00, 79.19it/s]\n"
     ]
    },
    {
     "name": "stdout",
     "output_type": "stream",
     "text": [
      "보간이 필요한 격자 수: 20\n"
     ]
    },
    {
     "name": "stderr",
     "output_type": "stream",
     "text": [
      "생활인구 보간: 100%|███████████████████████████████████████████████████████████████████| 20/20 [00:02<00:00,  9.17it/s]\n"
     ]
    },
    {
     "name": "stdout",
     "output_type": "stream",
     "text": [
      "202211 보간완료 저장 완료!\n",
      "처리 중: 202212\n"
     ]
    },
    {
     "name": "stderr",
     "output_type": "stream",
     "text": [
      "100%|████████████████████████████████████████████████████████████████████████| 315456/315456 [03:01<00:00, 1735.50it/s]\n",
      "202212 wide 생성: 100%|████████████████████████████████████████████████████████████| 2034/2034 [00:26<00:00, 77.48it/s]\n"
     ]
    },
    {
     "name": "stdout",
     "output_type": "stream",
     "text": [
      "보간이 필요한 격자 수: 20\n"
     ]
    },
    {
     "name": "stderr",
     "output_type": "stream",
     "text": [
      "생활인구 보간: 100%|███████████████████████████████████████████████████████████████████| 20/20 [00:03<00:00,  5.99it/s]\n"
     ]
    },
    {
     "name": "stdout",
     "output_type": "stream",
     "text": [
      "202212 보간완료 저장 완료!\n"
     ]
    }
   ],
   "source": [
    "# 기본정보\n",
    "keyword_list = ['주거지역', '상업지역', '공업지역', '전용주거지역', '준공업지역', '근린상업지역', '복합지역']\n",
    "poi_df = pd.read_csv(\"./merge/서울시_관광특구_POI_좌표.csv\", encoding='cp949')\n",
    "grid_df = pd.read_csv(\"./서울시격자_아동인구매핑완료.csv\", encoding='utf-8')\n",
    "grid_df['행정동코드'] = grid_df['행정동코드'].astype(str)\n",
    "poi_coords = list(zip(poi_df['latitude'], poi_df['longitude']))\n",
    "\n",
    "# 공통함수\n",
    "def contains_residential(info):\n",
    "    try:\n",
    "        d = ast.literal_eval(info)\n",
    "        return any(any(k in key for k in keyword_list) for key in d)\n",
    "    except:\n",
    "        return False\n",
    "\n",
    "def calc_distance_weight(lat, lon):\n",
    "    grid_point = (lat, lon)\n",
    "    return sum(1 / max(haversine(grid_point, poi), 0.001) for poi in poi_coords)\n",
    "\n",
    "def calc_centroid(geom):\n",
    "    try:\n",
    "        poly = wkt.loads(geom)\n",
    "        return poly.centroid.y, poly.centroid.x\n",
    "    except:\n",
    "        return None, None\n",
    "\n",
    "def extract_centroid_coords(geom_str):\n",
    "    try:\n",
    "        polygon = wkt.loads(geom_str)\n",
    "        centroid = polygon.centroid\n",
    "        return pd.Series({'lon': centroid.x, 'lat': centroid.y})\n",
    "    except:\n",
    "        return pd.Series({'lon': None, 'lat': None})\n",
    "\n",
    "# 1년 루프\n",
    "for yyyymm in [f\"2022{m:02d}\" for m in range(1, 13)]:\n",
    "    print(f\"처리 중: {yyyymm}\")\n",
    "\n",
    "    path = f\"G:\\\\내 드라이브\\\\DIMA\\\\프로젝트\\\\생활인구데이터\\\\LOCAL_PEOPLE_DONG_{yyyymm}.csv\"\n",
    "    if not os.path.exists(path):\n",
    "        print(f\"{path} 파일 없음, 건너뜀\")\n",
    "        continue\n",
    "\n",
    "    # 생활인구 로딩 및 전처리\n",
    "    people_df = pd.read_csv(path, index_col=False, encoding='utf-8')\n",
    "    people_df['행정동코드'] = people_df['행정동코드'].astype(float).astype(int).astype(str)\n",
    "\n",
    "    # 2. 보간 매핑 정의\n",
    "    보간매핑 = {\n",
    "        '11305600': ['11305615', '11305625', '11305635'],\n",
    "        '11305590': ['11305595'],\n",
    "        '11740520': ['11740525', '11740526']\n",
    "    }\n",
    "    전체매핑 = {**보간매핑, **{c: [c] for c in people_df['행정동코드'].unique() if c not in 보간매핑}}\n",
    "\n",
    "    # 거주 가능 격자 필터링 + 가중치 계산\n",
    "    res_grids = grid_df[grid_df['지적편집도_상세정보'].apply(contains_residential)].copy()\n",
    "    res_grids[['lat', 'lon']] = res_grids['geometry'].apply(lambda g: pd.Series(calc_centroid(g)))\n",
    "    res_grids['거주가중치'] = 1.0\n",
    "    res_grids['거리가중치'] = res_grids.apply(lambda row: calc_distance_weight(row['lat'], row['lon']), axis=1)\n",
    "    res_grids['최종가중치'] = res_grids['거주가중치'] * res_grids['거리가중치']\n",
    "\n",
    "    # 인구 분배\n",
    "    grid_values = defaultdict(lambda: defaultdict(float))\n",
    "    for _, row in tqdm(people_df.iterrows(), total=len(people_df)):\n",
    "        date_id = str(row['기준일ID'])\n",
    "        hour = int(row['시간대구분'])\n",
    "        col_name = f\"{date_id}_{hour:02d}\"\n",
    "        hd_code = row['행정동코드']\n",
    "        pop = float(row['총생활인구수'])\n",
    "\n",
    "        target_codes = 전체매핑.get(hd_code, [hd_code])\n",
    "        sub_grids = res_grids[res_grids['행정동코드'].isin(target_codes)]\n",
    "\n",
    "        if sub_grids.empty:\n",
    "            continue\n",
    "\n",
    "        weights = sub_grids['최종가중치'].values\n",
    "        weight_sum = weights.sum()\n",
    "        if weight_sum == 0:\n",
    "            continue\n",
    "\n",
    "        ratios = weights / weight_sum\n",
    "        for grid_id, ratio in zip(sub_grids['grid_id'], ratios):\n",
    "            grid_values[grid_id][col_name] += pop * ratio\n",
    "\n",
    "    # wide 포맷 저장 (모든 격자 유지)\n",
    "    all_columns = sorted({col for d in grid_values.values() for col in d})\n",
    "    wide_df = pd.DataFrame(index=grid_df['grid_id'], columns=all_columns, dtype=float).fillna(0.0)\n",
    "\n",
    "    for grid_id in tqdm(grid_values, desc=f\"{yyyymm} wide 생성\"):\n",
    "        for col, value in grid_values[grid_id].items():\n",
    "            wide_df.at[grid_id, col] = float(value)\n",
    "\n",
    "    wide_df.reset_index(inplace=True)\n",
    "    wide_df.rename(columns={'index': 'grid_id'}, inplace=True)\n",
    "\n",
    "    # 격자와 병합 + 저장 (left join)\n",
    "    final_df = pd.merge(grid_df, wide_df, on=\"grid_id\", how=\"left\").fillna(0)\n",
    "\n",
    "    # 최종 저장 전 보간 처리 코드\n",
    "    interpolation_target_dongs = {\n",
    "        '항동': ['오류2동', '수궁동'],\n",
    "        '개포3동': ['잠실본동', '대치2동', '개포2동', '일원본동', '일원1동', '삼전동'],\n",
    "        '번2동': ['창3동', '미아동', '번1동'],\n",
    "        '번3동': ['장위1동', '장위3동', '월계2동', '송중동'],\n",
    "        '상일2동': ['강일동', '고덕2동'],\n",
    "        '상일1동': ['고덕2동', '고덕1동', '명일2동'],\n",
    "        '제기동': ['청량리동', '용신동'],\n",
    "        '홍제1동': ['홍제2동', '홍제3동'],\n",
    "        '홍제2동': ['홍제1동', '홍제3동'],\n",
    "        '홍제3동': ['홍제1동', '홍제2동']\n",
    "    }\n",
    "    \n",
    "    # 생활인구 컬럼 정의 (날짜_시간대 형식)\n",
    "    pop_columns = [col for col in final_df.columns if re.match(r'20\\d{6}_\\d{2}', col)]\n",
    "    \n",
    "    # 거주 가능하지만 생활인구가 0인 격자 확인\n",
    "    final_df['총생활인구수'] = final_df[pop_columns].sum(axis=1)\n",
    "    no_pop_grids = final_df[\n",
    "        (final_df['총생활인구수'] == 0) &\n",
    "        final_df['지적편집도_상세정보'].apply(contains_residential)\n",
    "    ]\n",
    "    \n",
    "    print(f\"보간이 필요한 격자 수: {len(no_pop_grids)}\")\n",
    "    \n",
    "    # 보간 처리 수행\n",
    "    for idx, row in tqdm(no_pop_grids.iterrows(), total=len(no_pop_grids), desc=\"생활인구 보간\"):\n",
    "        target_dong = row['행정동명']\n",
    "        ref_dongs = interpolation_target_dongs.get(target_dong, [])\n",
    "        \n",
    "        if not ref_dongs:\n",
    "            continue\n",
    "        \n",
    "        ref_grids = final_df[final_df['행정동명'].isin(ref_dongs) & (final_df['총생활인구수'] > 0)]\n",
    "        \n",
    "        if ref_grids.empty:\n",
    "            continue\n",
    "        \n",
    "        # 참조 동의 평균 생활인구를 구해 보간\n",
    "        mean_pop = ref_grids[pop_columns].mean()\n",
    "        final_df.loc[idx, pop_columns] = mean_pop.values\n",
    "        final_df.loc[idx, '총생활인구수'] = mean_pop.sum()\n",
    "\n",
    "    # 최종 저장\n",
    "    final_df.drop(columns=['총생활인구수'], inplace=True)\n",
    "    final_df.to_csv(f\"./서울시격자_{yyyymm}_보간완료.csv\", index=False)\n",
    "    print(f\"{yyyymm} 보간완료 저장 완료!\")"
   ]
  },
  {
   "cell_type": "markdown",
   "id": "25521d41-90db-48b5-8271-d3d8506987ff",
   "metadata": {},
   "source": [
    "### 거주가능 격자 중 누락 있는지 확인"
   ]
  },
  {
   "cell_type": "code",
   "execution_count": 3,
   "id": "67cc3d57-80e5-40cb-8713-ea6044ecf5e0",
   "metadata": {},
   "outputs": [
    {
     "name": "stdout",
     "output_type": "stream",
     "text": [
      "\n",
      "202201 검사 중\n",
      " - 거주 가능 격자 중 인구 0인 격자 수: 0\n",
      "\n",
      "202202 검사 중\n",
      " - 거주 가능 격자 중 인구 0인 격자 수: 0\n",
      "\n",
      "202203 검사 중\n",
      " - 거주 가능 격자 중 인구 0인 격자 수: 0\n",
      "\n",
      "202204 검사 중\n",
      " - 거주 가능 격자 중 인구 0인 격자 수: 0\n",
      "\n",
      "202205 검사 중\n",
      " - 거주 가능 격자 중 인구 0인 격자 수: 0\n",
      "\n",
      "202206 검사 중\n",
      " - 거주 가능 격자 중 인구 0인 격자 수: 0\n",
      "\n",
      "202207 검사 중\n",
      " - 거주 가능 격자 중 인구 0인 격자 수: 0\n",
      "\n",
      "202208 검사 중\n",
      " - 거주 가능 격자 중 인구 0인 격자 수: 0\n",
      "\n",
      "202209 검사 중\n",
      " - 거주 가능 격자 중 인구 0인 격자 수: 0\n",
      "\n",
      "202210 검사 중\n",
      " - 거주 가능 격자 중 인구 0인 격자 수: 0\n",
      "\n",
      "202211 검사 중\n",
      " - 거주 가능 격자 중 인구 0인 격자 수: 0\n",
      "\n",
      "202212 검사 중\n",
      " - 거주 가능 격자 중 인구 0인 격자 수: 0\n"
     ]
    }
   ],
   "source": [
    "# 키워드와 함수 정의\n",
    "keyword_list = ['주거지역', '상업지역', '공업지역', '전용주거지역', '준공업지역', '근린상업지역', '복합지역']\n",
    "grid_df = pd.read_csv(\"./서울시격자_아동인구매핑완료.csv\", encoding='utf-8')\n",
    "grid_df['행정동코드'] = grid_df['행정동코드'].astype(str)\n",
    "\n",
    "def contains_residential(info):\n",
    "    try:\n",
    "        d = ast.literal_eval(info)\n",
    "        return any(any(k in key for k in keyword_list) for key in d)\n",
    "    except:\n",
    "        return False\n",
    "\n",
    "# 거주 가능 격자 ID 추출\n",
    "res_grids = grid_df[grid_df['지적편집도_상세정보'].apply(contains_residential)]\n",
    "residential_ids = set(res_grids['grid_id'])\n",
    "\n",
    "# 루프 돌면서 누락 확인\n",
    "for yyyymm in [f\"2022{m:02d}\" for m in range(1, 13)]:\n",
    "    print(f\"\\n{yyyymm} 검사 중\")\n",
    "\n",
    "    merged_path = f\"서울시격자_{yyyymm}_보간완료.csv\"\n",
    "    if not os.path.exists(merged_path):\n",
    "        print(f\" - 파일 없음: {merged_path}\")\n",
    "        continue\n",
    "\n",
    "    merged_df = pd.read_csv(merged_path)\n",
    "\n",
    "    # 인구 관련 열 추출\n",
    "    pop_cols = [col for col in merged_df.columns if re.fullmatch(r'20\\d{6}_\\d{2}', col)]\n",
    "    merged_df['인구합'] = merged_df[pop_cols].sum(axis=1)\n",
    "\n",
    "    # 인구합이 0인 격자\n",
    "    zero_pop_grids = merged_df[merged_df['인구합'] == 0]['grid_id'].tolist()\n",
    "\n",
    "    # 거주 가능한데 인구가 0인 격자만 필터링\n",
    "    missed = [gid for gid in zero_pop_grids if gid in residential_ids]\n",
    "\n",
    "    print(f\" - 거주 가능 격자 중 인구 0인 격자 수: {len(missed)}\")\n",
    "    if missed:\n",
    "        print(f\"   예시: {missed[:5]}\")"
   ]
  },
  {
   "cell_type": "markdown",
   "id": "76256638-8679-40be-9fef-6a3744240a6e",
   "metadata": {},
   "source": [
    "### 데이터 매핑 수치 확인"
   ]
  },
  {
   "cell_type": "code",
   "execution_count": null,
   "id": "4c730dfe-e1b9-4900-b3f3-f13e55285a0b",
   "metadata": {},
   "outputs": [],
   "source": [
    "for yyyymm in [f\"2022{m:02d}\" for m in range(1, 13)]:\n",
    "    print(f\"\\n{yyyymm} 비교 중\")\n",
    "\n",
    "    pred_path = f\"./서울시격자_{yyyymm}_보간완료.csv\"\n",
    "    true_path = f\"G:\\\\내 드라이브\\\\DIMA\\\\프로젝트\\\\생활인구데이터\\\\LOCAL_PEOPLE_DONG_{yyyymm}.csv\"\n",
    "\n",
    "    if not os.path.exists(pred_path) or not os.path.exists(true_path):\n",
    "        print(f\" - 파일 누락: {pred_path if not os.path.exists(pred_path) else true_path}\")\n",
    "        continue\n",
    "\n",
    "    # 파일 로딩\n",
    "    pred_df = pd.read_csv(pred_path, encoding='utf-8')\n",
    "    true_df = pd.read_csv(true_path, encoding='utf-8', index_col=False)\n",
    "\n",
    "    # 정제\n",
    "    pred_df['행정동코드'] = pred_df['행정동코드'].astype(str)\n",
    "    true_df['행정동코드'] = true_df['행정동코드'].astype(float).astype(int).astype(str)\n",
    "    true_df['colname'] = true_df.apply(lambda r: f\"{r['기준일ID']}_{int(r['시간대구분']):02d}\", axis=1)\n",
    "\n",
    "    # 시간 필터\n",
    "    time_columns = [col for col in pred_df.columns if col.startswith(\"2022\") and len(col) == 11]\n",
    "\n",
    "    # 집계 및 병합\n",
    "    pred_by_dong = pred_df.groupby(\"행정동코드\")[time_columns].sum().reset_index()\n",
    "    true_pivot = true_df.pivot_table(index=\"행정동코드\", columns=\"colname\", values=\"총생활인구수\", aggfunc=\"sum\").reset_index()\n",
    "    merged = pd.merge(pred_by_dong, true_pivot, on=\"행정동코드\", suffixes=(\"_예측\", \"_실제\"))\n",
    "\n",
    "    # 비교 지표 계산\n",
    "    metrics = []\n",
    "    for col in time_columns:\n",
    "        col_pred = f\"{col}_예측\"\n",
    "        col_true = f\"{col}_실제\"\n",
    "        if col_pred not in merged.columns or col_true not in merged.columns:\n",
    "            continue\n",
    "\n",
    "        pred = merged[col_pred]\n",
    "        true = merged[col_true]\n",
    "        diff = (pred - true).abs()\n",
    "        mae = diff.mean()\n",
    "        rmse = np.sqrt(((pred - true) ** 2).mean())\n",
    "        total_diff = (pred.sum() - true.sum()) / true.sum() * 100\n",
    "\n",
    "        metrics.append({\n",
    "            \"시간대\": col,\n",
    "            \"MAE\": mae,\n",
    "            \"RMSE\": rmse,\n",
    "            \"총량오차(%)\": total_diff\n",
    "        })\n",
    "\n",
    "    month_result_df = pd.DataFrame(metrics)\n",
    "    print(month_result_df.head(24))"
   ]
  },
  {
   "cell_type": "markdown",
   "id": "57f5a4ea-0303-4f13-b92f-2a01af1cc623",
   "metadata": {},
   "source": [
    "### 2023년 모두 저장하기"
   ]
  },
  {
   "cell_type": "code",
   "execution_count": 6,
   "id": "88017e2a-ef1e-4211-9f08-46443f519ed6",
   "metadata": {},
   "outputs": [
    {
     "name": "stdout",
     "output_type": "stream",
     "text": [
      "처리 중: 202301\n"
     ]
    },
    {
     "name": "stderr",
     "output_type": "stream",
     "text": [
      "100%|████████████████████████████████████████████████████████████████████████| 315456/315456 [03:06<00:00, 1692.61it/s]\n",
      "202301 wide 생성: 100%|████████████████████████████████████████████████████████████| 2034/2034 [00:26<00:00, 77.16it/s]\n"
     ]
    },
    {
     "name": "stdout",
     "output_type": "stream",
     "text": [
      "보간이 필요한 격자 수: 20\n"
     ]
    },
    {
     "name": "stderr",
     "output_type": "stream",
     "text": [
      "생활인구 보간: 100%|███████████████████████████████████████████████████████████████████| 20/20 [00:02<00:00,  8.32it/s]\n"
     ]
    },
    {
     "name": "stdout",
     "output_type": "stream",
     "text": [
      "202301 보간완료 저장 완료!\n",
      "처리 중: 202302\n"
     ]
    },
    {
     "name": "stderr",
     "output_type": "stream",
     "text": [
      "100%|████████████████████████████████████████████████████████████████████████| 284928/284928 [02:48<00:00, 1688.51it/s]\n",
      "202302 wide 생성: 100%|████████████████████████████████████████████████████████████| 2034/2034 [00:23<00:00, 86.37it/s]\n"
     ]
    },
    {
     "name": "stdout",
     "output_type": "stream",
     "text": [
      "보간이 필요한 격자 수: 20\n"
     ]
    },
    {
     "name": "stderr",
     "output_type": "stream",
     "text": [
      "생활인구 보간: 100%|███████████████████████████████████████████████████████████████████| 20/20 [00:02<00:00,  9.99it/s]\n"
     ]
    },
    {
     "name": "stdout",
     "output_type": "stream",
     "text": [
      "202302 보간완료 저장 완료!\n",
      "처리 중: 202303\n"
     ]
    },
    {
     "name": "stderr",
     "output_type": "stream",
     "text": [
      "100%|████████████████████████████████████████████████████████████████████████| 315456/315456 [03:07<00:00, 1682.33it/s]\n",
      "202303 wide 생성: 100%|████████████████████████████████████████████████████████████| 2034/2034 [00:26<00:00, 77.79it/s]\n"
     ]
    },
    {
     "name": "stdout",
     "output_type": "stream",
     "text": [
      "보간이 필요한 격자 수: 20\n"
     ]
    },
    {
     "name": "stderr",
     "output_type": "stream",
     "text": [
      "생활인구 보간: 100%|███████████████████████████████████████████████████████████████████| 20/20 [00:02<00:00,  8.52it/s]\n"
     ]
    },
    {
     "name": "stdout",
     "output_type": "stream",
     "text": [
      "202303 보간완료 저장 완료!\n",
      "처리 중: 202304\n"
     ]
    },
    {
     "name": "stderr",
     "output_type": "stream",
     "text": [
      "100%|████████████████████████████████████████████████████████████████████████| 305280/305280 [03:01<00:00, 1685.27it/s]\n",
      "202304 wide 생성: 100%|████████████████████████████████████████████████████████████| 2034/2034 [00:25<00:00, 80.22it/s]\n"
     ]
    },
    {
     "name": "stdout",
     "output_type": "stream",
     "text": [
      "보간이 필요한 격자 수: 20\n"
     ]
    },
    {
     "name": "stderr",
     "output_type": "stream",
     "text": [
      "생활인구 보간: 100%|███████████████████████████████████████████████████████████████████| 20/20 [00:02<00:00,  9.22it/s]\n"
     ]
    },
    {
     "name": "stdout",
     "output_type": "stream",
     "text": [
      "202304 보간완료 저장 완료!\n",
      "처리 중: 202305\n"
     ]
    },
    {
     "name": "stderr",
     "output_type": "stream",
     "text": [
      "100%|████████████████████████████████████████████████████████████████████████| 315456/315456 [03:06<00:00, 1690.70it/s]\n",
      "202305 wide 생성: 100%|████████████████████████████████████████████████████████████| 2034/2034 [00:26<00:00, 76.95it/s]\n"
     ]
    },
    {
     "name": "stdout",
     "output_type": "stream",
     "text": [
      "보간이 필요한 격자 수: 20\n"
     ]
    },
    {
     "name": "stderr",
     "output_type": "stream",
     "text": [
      "생활인구 보간: 100%|███████████████████████████████████████████████████████████████████| 20/20 [00:02<00:00,  9.10it/s]\n"
     ]
    },
    {
     "name": "stdout",
     "output_type": "stream",
     "text": [
      "202305 보간완료 저장 완료!\n",
      "처리 중: 202306\n"
     ]
    },
    {
     "name": "stderr",
     "output_type": "stream",
     "text": [
      "100%|████████████████████████████████████████████████████████████████████████| 305280/305280 [02:58<00:00, 1709.44it/s]\n",
      "202306 wide 생성: 100%|████████████████████████████████████████████████████████████| 2034/2034 [00:24<00:00, 81.65it/s]\n"
     ]
    },
    {
     "name": "stdout",
     "output_type": "stream",
     "text": [
      "보간이 필요한 격자 수: 20\n"
     ]
    },
    {
     "name": "stderr",
     "output_type": "stream",
     "text": [
      "생활인구 보간: 100%|███████████████████████████████████████████████████████████████████| 20/20 [00:02<00:00,  8.53it/s]\n"
     ]
    },
    {
     "name": "stdout",
     "output_type": "stream",
     "text": [
      "202306 보간완료 저장 완료!\n",
      "처리 중: 202307\n"
     ]
    },
    {
     "name": "stderr",
     "output_type": "stream",
     "text": [
      "100%|████████████████████████████████████████████████████████████████████████| 315456/315456 [03:06<00:00, 1688.65it/s]\n",
      "202307 wide 생성: 100%|████████████████████████████████████████████████████████████| 2034/2034 [00:25<00:00, 78.84it/s]\n"
     ]
    },
    {
     "name": "stdout",
     "output_type": "stream",
     "text": [
      "보간이 필요한 격자 수: 20\n"
     ]
    },
    {
     "name": "stderr",
     "output_type": "stream",
     "text": [
      "생활인구 보간: 100%|███████████████████████████████████████████████████████████████████| 20/20 [00:02<00:00,  9.05it/s]\n"
     ]
    },
    {
     "name": "stdout",
     "output_type": "stream",
     "text": [
      "202307 보간완료 저장 완료!\n",
      "처리 중: 202308\n"
     ]
    },
    {
     "name": "stderr",
     "output_type": "stream",
     "text": [
      "100%|████████████████████████████████████████████████████████████████████████| 315456/315456 [03:05<00:00, 1704.70it/s]\n",
      "202308 wide 생성: 100%|████████████████████████████████████████████████████████████| 2034/2034 [00:25<00:00, 78.34it/s]\n"
     ]
    },
    {
     "name": "stdout",
     "output_type": "stream",
     "text": [
      "보간이 필요한 격자 수: 20\n"
     ]
    },
    {
     "name": "stderr",
     "output_type": "stream",
     "text": [
      "생활인구 보간: 100%|███████████████████████████████████████████████████████████████████| 20/20 [00:02<00:00,  8.98it/s]\n"
     ]
    },
    {
     "name": "stdout",
     "output_type": "stream",
     "text": [
      "202308 보간완료 저장 완료!\n",
      "처리 중: 202309\n"
     ]
    },
    {
     "name": "stderr",
     "output_type": "stream",
     "text": [
      "100%|████████████████████████████████████████████████████████████████████████| 305280/305280 [03:01<00:00, 1686.02it/s]\n",
      "202309 wide 생성: 100%|████████████████████████████████████████████████████████████| 2034/2034 [00:25<00:00, 80.72it/s]\n"
     ]
    },
    {
     "name": "stdout",
     "output_type": "stream",
     "text": [
      "보간이 필요한 격자 수: 20\n"
     ]
    },
    {
     "name": "stderr",
     "output_type": "stream",
     "text": [
      "생활인구 보간: 100%|███████████████████████████████████████████████████████████████████| 20/20 [00:02<00:00,  9.50it/s]\n"
     ]
    },
    {
     "name": "stdout",
     "output_type": "stream",
     "text": [
      "202309 보간완료 저장 완료!\n",
      "처리 중: 202310\n"
     ]
    },
    {
     "name": "stderr",
     "output_type": "stream",
     "text": [
      "100%|█████████████████████████████████████████████████████████████████████████| 315456/315456 [20:31<00:00, 256.18it/s]\n",
      "202310 wide 생성: 100%|████████████████████████████████████████████████████████████| 2034/2034 [00:27<00:00, 74.44it/s]\n"
     ]
    },
    {
     "name": "stdout",
     "output_type": "stream",
     "text": [
      "보간이 필요한 격자 수: 20\n"
     ]
    },
    {
     "name": "stderr",
     "output_type": "stream",
     "text": [
      "생활인구 보간: 100%|███████████████████████████████████████████████████████████████████| 20/20 [00:02<00:00,  8.35it/s]\n"
     ]
    },
    {
     "name": "stdout",
     "output_type": "stream",
     "text": [
      "202310 보간완료 저장 완료!\n",
      "처리 중: 202311\n"
     ]
    },
    {
     "name": "stderr",
     "output_type": "stream",
     "text": [
      "100%|████████████████████████████████████████████████████████████████████████| 305280/305280 [03:02<00:00, 1672.86it/s]\n",
      "202311 wide 생성: 100%|████████████████████████████████████████████████████████████| 2034/2034 [00:25<00:00, 78.93it/s]\n"
     ]
    },
    {
     "name": "stdout",
     "output_type": "stream",
     "text": [
      "보간이 필요한 격자 수: 20\n"
     ]
    },
    {
     "name": "stderr",
     "output_type": "stream",
     "text": [
      "생활인구 보간: 100%|███████████████████████████████████████████████████████████████████| 20/20 [00:02<00:00,  8.98it/s]\n"
     ]
    },
    {
     "name": "stdout",
     "output_type": "stream",
     "text": [
      "202311 보간완료 저장 완료!\n",
      "처리 중: 202312\n"
     ]
    },
    {
     "name": "stderr",
     "output_type": "stream",
     "text": [
      "100%|████████████████████████████████████████████████████████████████████████| 315456/315456 [03:07<00:00, 1681.00it/s]\n",
      "202312 wide 생성: 100%|████████████████████████████████████████████████████████████| 2034/2034 [00:26<00:00, 75.76it/s]\n"
     ]
    },
    {
     "name": "stdout",
     "output_type": "stream",
     "text": [
      "보간이 필요한 격자 수: 20\n"
     ]
    },
    {
     "name": "stderr",
     "output_type": "stream",
     "text": [
      "생활인구 보간: 100%|███████████████████████████████████████████████████████████████████| 20/20 [00:02<00:00,  8.12it/s]\n"
     ]
    },
    {
     "name": "stdout",
     "output_type": "stream",
     "text": [
      "202312 보간완료 저장 완료!\n"
     ]
    }
   ],
   "source": [
    "# 기본정보\n",
    "keyword_list = ['주거지역', '상업지역', '공업지역', '전용주거지역', '준공업지역', '근린상업지역', '복합지역']\n",
    "poi_df = pd.read_csv(\"./merge/서울시_관광특구_POI_좌표.csv\", encoding='cp949')\n",
    "grid_df = pd.read_csv(\"./서울시격자_아동인구매핑완료.csv\", encoding='utf-8')\n",
    "grid_df['행정동코드'] = grid_df['행정동코드'].astype(str)\n",
    "poi_coords = list(zip(poi_df['latitude'], poi_df['longitude']))\n",
    "\n",
    "# 공통함수\n",
    "def contains_residential(info):\n",
    "    try:\n",
    "        d = ast.literal_eval(info)\n",
    "        return any(any(k in key for k in keyword_list) for key in d)\n",
    "    except:\n",
    "        return False\n",
    "\n",
    "def calc_distance_weight(lat, lon):\n",
    "    grid_point = (lat, lon)\n",
    "    return sum(1 / max(haversine(grid_point, poi), 0.001) for poi in poi_coords)\n",
    "\n",
    "def calc_centroid(geom):\n",
    "    try:\n",
    "        poly = wkt.loads(geom)\n",
    "        return poly.centroid.y, poly.centroid.x\n",
    "    except:\n",
    "        return None, None\n",
    "\n",
    "def extract_centroid_coords(geom_str):\n",
    "    try:\n",
    "        polygon = wkt.loads(geom_str)\n",
    "        centroid = polygon.centroid\n",
    "        return pd.Series({'lon': centroid.x, 'lat': centroid.y})\n",
    "    except:\n",
    "        return pd.Series({'lon': None, 'lat': None})\n",
    "\n",
    "# 1년 루프\n",
    "for yyyymm in [f\"2023{m:02d}\" for m in range(1, 13)]:\n",
    "    print(f\"처리 중: {yyyymm}\")\n",
    "\n",
    "    path = f\"G:\\\\내 드라이브\\\\DIMA\\\\프로젝트\\\\생활인구데이터\\\\LOCAL_PEOPLE_DONG_{yyyymm}.csv\"\n",
    "    if not os.path.exists(path):\n",
    "        print(f\"{path} 파일 없음, 건너뜀\")\n",
    "        continue\n",
    "\n",
    "    # 생활인구 로딩 및 전처리\n",
    "    people_df = pd.read_csv(path, index_col=False, encoding='utf-8')\n",
    "    people_df['행정동코드'] = people_df['행정동코드'].astype(float).astype(int).astype(str)\n",
    "\n",
    "    # 보간 매핑 정의\n",
    "    보간매핑 = {\n",
    "        '11305600': ['11305615', '11305625', '11305635'],\n",
    "        '11305590': ['11305595'],\n",
    "        '11740520': ['11740525', '11740526']\n",
    "    }\n",
    "    전체매핑 = {**보간매핑, **{c: [c] for c in people_df['행정동코드'].unique() if c not in 보간매핑}}\n",
    "\n",
    "    # 거주 가능 격자 필터링 + 가중치 계산\n",
    "    res_grids = grid_df[grid_df['지적편집도_상세정보'].apply(contains_residential)].copy()\n",
    "    res_grids[['lat', 'lon']] = res_grids['geometry'].apply(lambda g: pd.Series(calc_centroid(g)))\n",
    "    res_grids['거주가중치'] = 1.0\n",
    "    res_grids['거리가중치'] = res_grids.apply(lambda row: calc_distance_weight(row['lat'], row['lon']), axis=1)\n",
    "    res_grids['최종가중치'] = res_grids['거주가중치'] * res_grids['거리가중치']\n",
    "\n",
    "    # 인구 분배\n",
    "    grid_values = defaultdict(lambda: defaultdict(float))\n",
    "    for _, row in tqdm(people_df.iterrows(), total=len(people_df)):\n",
    "        date_id = str(row['기준일ID'])\n",
    "        hour = int(row['시간대구분'])\n",
    "        col_name = f\"{date_id}_{hour:02d}\"\n",
    "        hd_code = row['행정동코드']\n",
    "        pop = float(row['총생활인구수'])\n",
    "\n",
    "        target_codes = 전체매핑.get(hd_code, [hd_code])\n",
    "        sub_grids = res_grids[res_grids['행정동코드'].isin(target_codes)]\n",
    "\n",
    "        if sub_grids.empty:\n",
    "            continue\n",
    "\n",
    "        weights = sub_grids['최종가중치'].values\n",
    "        weight_sum = weights.sum()\n",
    "        if weight_sum == 0:\n",
    "            continue\n",
    "\n",
    "        ratios = weights / weight_sum\n",
    "        for grid_id, ratio in zip(sub_grids['grid_id'], ratios):\n",
    "            grid_values[grid_id][col_name] += pop * ratio\n",
    "\n",
    "    # wide 포맷 저장 (모든 격자 유지)\n",
    "    all_columns = sorted({col for d in grid_values.values() for col in d})\n",
    "    wide_df = pd.DataFrame(index=grid_df['grid_id'], columns=all_columns, dtype=float).fillna(0.0)\n",
    "\n",
    "    for grid_id in tqdm(grid_values, desc=f\"{yyyymm} wide 생성\"):\n",
    "        for col, value in grid_values[grid_id].items():\n",
    "            wide_df.at[grid_id, col] = float(value)\n",
    "\n",
    "    wide_df.reset_index(inplace=True)\n",
    "    wide_df.rename(columns={'index': 'grid_id'}, inplace=True)\n",
    "\n",
    "    # 격자와 병합 + 저장 (left join)\n",
    "    final_df = pd.merge(grid_df, wide_df, on=\"grid_id\", how=\"left\").fillna(0)\n",
    "\n",
    "    # 최종 저장 전 보간 처리 코드\n",
    "    interpolation_target_dongs = {\n",
    "        '항동': ['오류2동', '수궁동'],\n",
    "        '개포3동': ['잠실본동', '대치2동', '개포2동', '일원본동', '일원1동', '삼전동'],\n",
    "        '번2동': ['창3동', '미아동', '번1동'],\n",
    "        '번3동': ['장위1동', '장위3동', '월계2동', '송중동'],\n",
    "        '상일2동': ['강일동', '고덕2동'],\n",
    "        '상일1동': ['고덕2동', '고덕1동', '명일2동'],\n",
    "        '제기동': ['청량리동', '용신동'],\n",
    "        '홍제1동': ['홍제2동', '홍제3동'],\n",
    "        '홍제2동': ['홍제1동', '홍제3동'],\n",
    "        '홍제3동': ['홍제1동', '홍제2동']\n",
    "    }\n",
    "    \n",
    "    # 생활인구 컬럼 정의 (날짜_시간대 형식)\n",
    "    pop_columns = [col for col in final_df.columns if re.match(r'20\\d{6}_\\d{2}', col)]\n",
    "    \n",
    "    # 거주 가능하지만 생활인구가 0인 격자 확인\n",
    "    final_df['총생활인구수'] = final_df[pop_columns].sum(axis=1)\n",
    "    no_pop_grids = final_df[\n",
    "        (final_df['총생활인구수'] == 0) &\n",
    "        final_df['지적편집도_상세정보'].apply(contains_residential)\n",
    "    ]\n",
    "    \n",
    "    print(f\"보간이 필요한 격자 수: {len(no_pop_grids)}\")\n",
    "    \n",
    "    # 보간 처리 수행\n",
    "    for idx, row in tqdm(no_pop_grids.iterrows(), total=len(no_pop_grids), desc=\"생활인구 보간\"):\n",
    "        target_dong = row['행정동명']\n",
    "        ref_dongs = interpolation_target_dongs.get(target_dong, [])\n",
    "        \n",
    "        if not ref_dongs:\n",
    "            continue\n",
    "        \n",
    "        ref_grids = final_df[final_df['행정동명'].isin(ref_dongs) & (final_df['총생활인구수'] > 0)]\n",
    "        \n",
    "        if ref_grids.empty:\n",
    "            continue\n",
    "        \n",
    "        # 참조 동의 평균 생활인구를 구해 보간\n",
    "        mean_pop = ref_grids[pop_columns].mean()\n",
    "        final_df.loc[idx, pop_columns] = mean_pop.values\n",
    "        final_df.loc[idx, '총생활인구수'] = mean_pop.sum()\n",
    "\n",
    "    # 최종 저장\n",
    "    final_df.drop(columns=['총생활인구수'], inplace=True)\n",
    "    final_df.to_csv(f\"./서울시격자_{yyyymm}_보간완료.csv\", index=False)\n",
    "    print(f\"{yyyymm} 보간완료 저장 완료!\")"
   ]
  },
  {
   "cell_type": "markdown",
   "id": "276372cd-a4f9-4e9f-98da-c42896d3ec03",
   "metadata": {},
   "source": [
    "### 누락확인"
   ]
  },
  {
   "cell_type": "code",
   "execution_count": 7,
   "id": "56f433b9-ebc2-465b-ad13-4d2e214be10e",
   "metadata": {},
   "outputs": [
    {
     "name": "stdout",
     "output_type": "stream",
     "text": [
      "\n",
      "202301 검사 중\n",
      " - 거주 가능 격자 중 인구 0인 격자 수: 0\n",
      "\n",
      "202302 검사 중\n",
      " - 거주 가능 격자 중 인구 0인 격자 수: 0\n",
      "\n",
      "202303 검사 중\n",
      " - 거주 가능 격자 중 인구 0인 격자 수: 0\n",
      "\n",
      "202304 검사 중\n",
      " - 거주 가능 격자 중 인구 0인 격자 수: 0\n",
      "\n",
      "202305 검사 중\n",
      " - 거주 가능 격자 중 인구 0인 격자 수: 0\n",
      "\n",
      "202306 검사 중\n",
      " - 거주 가능 격자 중 인구 0인 격자 수: 0\n",
      "\n",
      "202307 검사 중\n",
      " - 거주 가능 격자 중 인구 0인 격자 수: 0\n",
      "\n",
      "202308 검사 중\n",
      " - 거주 가능 격자 중 인구 0인 격자 수: 0\n",
      "\n",
      "202309 검사 중\n",
      " - 거주 가능 격자 중 인구 0인 격자 수: 0\n",
      "\n",
      "202310 검사 중\n",
      " - 거주 가능 격자 중 인구 0인 격자 수: 0\n",
      "\n",
      "202311 검사 중\n",
      " - 거주 가능 격자 중 인구 0인 격자 수: 0\n",
      "\n",
      "202312 검사 중\n",
      " - 거주 가능 격자 중 인구 0인 격자 수: 0\n"
     ]
    }
   ],
   "source": [
    "# 키워드와 함수 정의\n",
    "keyword_list = ['주거지역', '상업지역', '공업지역', '전용주거지역', '준공업지역', '근린상업지역', '복합지역']\n",
    "grid_df = pd.read_csv(\"./서울시격자_아동인구매핑완료.csv\", encoding='utf-8')\n",
    "grid_df['행정동코드'] = grid_df['행정동코드'].astype(str)\n",
    "\n",
    "def contains_residential(info):\n",
    "    try:\n",
    "        d = ast.literal_eval(info)\n",
    "        return any(any(k in key for k in keyword_list) for key in d)\n",
    "    except:\n",
    "        return False\n",
    "\n",
    "# 거주 가능 격자 ID 추출\n",
    "res_grids = grid_df[grid_df['지적편집도_상세정보'].apply(contains_residential)]\n",
    "residential_ids = set(res_grids['grid_id'])\n",
    "\n",
    "# 루프 돌면서 누락 확인\n",
    "for yyyymm in [f\"2023{m:02d}\" for m in range(1, 13)]:\n",
    "    print(f\"\\n{yyyymm} 검사 중\")\n",
    "\n",
    "    merged_path = f\"서울시격자_{yyyymm}_보간완료.csv\"\n",
    "    if not os.path.exists(merged_path):\n",
    "        print(f\" - 파일 없음: {merged_path}\")\n",
    "        continue\n",
    "\n",
    "    merged_df = pd.read_csv(merged_path)\n",
    "\n",
    "    # 인구 관련 열 추출\n",
    "    pop_cols = [col for col in merged_df.columns if re.fullmatch(r'20\\d{6}_\\d{2}', col)]\n",
    "    merged_df['인구합'] = merged_df[pop_cols].sum(axis=1)\n",
    "\n",
    "    # 인구합이 0인 격자\n",
    "    zero_pop_grids = merged_df[merged_df['인구합'] == 0]['grid_id'].tolist()\n",
    "\n",
    "    # 거주 가능한데 인구가 0인 격자만 필터링\n",
    "    missed = [gid for gid in zero_pop_grids if gid in residential_ids]\n",
    "\n",
    "    print(f\" - 거주 가능 격자 중 인구 0인 격자 수: {len(missed)}\")\n",
    "    if missed:\n",
    "        print(f\"   예시: {missed[:5]}\")"
   ]
  },
  {
   "cell_type": "markdown",
   "id": "805bbed3-4df5-48cf-a78d-98c7c5bfe4f1",
   "metadata": {},
   "source": [
    "### 매핑수치 확인"
   ]
  },
  {
   "cell_type": "code",
   "execution_count": null,
   "id": "5db86061-956e-42e9-a583-94b074b91440",
   "metadata": {},
   "outputs": [],
   "source": [
    "for yyyymm in [f\"2023{m:02d}\" for m in range(1, 13)]:\n",
    "    print(f\"\\n{yyyymm} 비교 중\")\n",
    "\n",
    "    pred_path = f\"./서울시격자_{yyyymm}_보간완료.csv\"\n",
    "    true_path = f\"G:\\\\내 드라이브\\\\DIMA\\\\프로젝트\\\\생활인구데이터\\\\LOCAL_PEOPLE_DONG_{yyyymm}.csv\"\n",
    "\n",
    "    if not os.path.exists(pred_path) or not os.path.exists(true_path):\n",
    "        print(f\" - 파일 누락: {pred_path if not os.path.exists(pred_path) else true_path}\")\n",
    "        continue\n",
    "\n",
    "    # 파일 로딩\n",
    "    pred_df = pd.read_csv(pred_path, encoding='utf-8')\n",
    "    true_df = pd.read_csv(true_path, encoding='utf-8', index_col=False)\n",
    "\n",
    "    # 정제\n",
    "    pred_df['행정동코드'] = pred_df['행정동코드'].astype(str)\n",
    "    true_df['행정동코드'] = true_df['행정동코드'].astype(float).astype(int).astype(str)\n",
    "    true_df['colname'] = true_df.apply(lambda r: f\"{r['기준일ID']}_{int(r['시간대구분']):02d}\", axis=1)\n",
    "\n",
    "    # 시간 필터\n",
    "    time_columns = [col for col in pred_df.columns if col.startswith(\"2023\") and len(col) == 11]\n",
    "\n",
    "    # 집계 및 병합\n",
    "    pred_by_dong = pred_df.groupby(\"행정동코드\")[time_columns].sum().reset_index()\n",
    "    true_pivot = true_df.pivot_table(index=\"행정동코드\", columns=\"colname\", values=\"총생활인구수\", aggfunc=\"sum\").reset_index()\n",
    "    merged = pd.merge(pred_by_dong, true_pivot, on=\"행정동코드\", suffixes=(\"_예측\", \"_실제\"))\n",
    "\n",
    "    # 비교 지표 계산\n",
    "    metrics = []\n",
    "    for col in time_columns:\n",
    "        col_pred = f\"{col}_예측\"\n",
    "        col_true = f\"{col}_실제\"\n",
    "        if col_pred not in merged.columns or col_true not in merged.columns:\n",
    "            continue\n",
    "\n",
    "        pred = merged[col_pred]\n",
    "        true = merged[col_true]\n",
    "        diff = (pred - true).abs()\n",
    "        mae = diff.mean()\n",
    "        rmse = np.sqrt(((pred - true) ** 2).mean())\n",
    "        total_diff = (pred.sum() - true.sum()) / true.sum() * 100\n",
    "\n",
    "        metrics.append({\n",
    "            \"시간대\": col,\n",
    "            \"MAE\": mae,\n",
    "            \"RMSE\": rmse,\n",
    "            \"총량오차(%)\": total_diff\n",
    "        })\n",
    "\n",
    "    month_result_df = pd.DataFrame(metrics)\n",
    "    print(month_result_df.head(24))"
   ]
  },
  {
   "cell_type": "markdown",
   "id": "8045cac5-ac16-4cf8-8c1a-d5f9e79d5e7d",
   "metadata": {},
   "source": [
    "### 2024년 모두 저장하기"
   ]
  },
  {
   "cell_type": "code",
   "execution_count": 9,
   "id": "75d5afc4-c861-4ad6-b7db-a3265856f634",
   "metadata": {},
   "outputs": [
    {
     "name": "stdout",
     "output_type": "stream",
     "text": [
      "처리 중: 202401\n"
     ]
    },
    {
     "name": "stderr",
     "output_type": "stream",
     "text": [
      "100%|████████████████████████████████████████████████████████████████████████| 315456/315456 [03:23<00:00, 1551.32it/s]\n",
      "202401 wide 생성: 100%|████████████████████████████████████████████████████████████| 2034/2034 [00:26<00:00, 75.52it/s]\n"
     ]
    },
    {
     "name": "stdout",
     "output_type": "stream",
     "text": [
      "보간이 필요한 격자 수: 20\n"
     ]
    },
    {
     "name": "stderr",
     "output_type": "stream",
     "text": [
      "생활인구 보간: 100%|███████████████████████████████████████████████████████████████████| 20/20 [00:02<00:00,  8.17it/s]\n"
     ]
    },
    {
     "name": "stdout",
     "output_type": "stream",
     "text": [
      "202401 보간완료 저장 완료!\n",
      "처리 중: 202402\n"
     ]
    },
    {
     "name": "stderr",
     "output_type": "stream",
     "text": [
      "100%|████████████████████████████████████████████████████████████████████████| 295104/295104 [03:03<00:00, 1607.38it/s]\n",
      "202402 wide 생성: 100%|████████████████████████████████████████████████████████████| 2034/2034 [00:24<00:00, 82.69it/s]\n"
     ]
    },
    {
     "name": "stdout",
     "output_type": "stream",
     "text": [
      "보간이 필요한 격자 수: 20\n"
     ]
    },
    {
     "name": "stderr",
     "output_type": "stream",
     "text": [
      "생활인구 보간: 100%|███████████████████████████████████████████████████████████████████| 20/20 [00:02<00:00,  9.59it/s]\n"
     ]
    },
    {
     "name": "stdout",
     "output_type": "stream",
     "text": [
      "202402 보간완료 저장 완료!\n",
      "처리 중: 202403\n"
     ]
    },
    {
     "name": "stderr",
     "output_type": "stream",
     "text": [
      "100%|████████████████████████████████████████████████████████████████████████| 315456/315456 [03:20<00:00, 1575.92it/s]\n",
      "202403 wide 생성: 100%|████████████████████████████████████████████████████████████| 2034/2034 [00:26<00:00, 77.23it/s]\n"
     ]
    },
    {
     "name": "stdout",
     "output_type": "stream",
     "text": [
      "보간이 필요한 격자 수: 20\n"
     ]
    },
    {
     "name": "stderr",
     "output_type": "stream",
     "text": [
      "생활인구 보간: 100%|███████████████████████████████████████████████████████████████████| 20/20 [00:02<00:00,  9.07it/s]\n"
     ]
    },
    {
     "name": "stdout",
     "output_type": "stream",
     "text": [
      "202403 보간완료 저장 완료!\n",
      "처리 중: 202404\n"
     ]
    },
    {
     "name": "stderr",
     "output_type": "stream",
     "text": [
      "100%|████████████████████████████████████████████████████████████████████████| 305280/305280 [03:01<00:00, 1678.38it/s]\n",
      "202404 wide 생성: 100%|████████████████████████████████████████████████████████████| 2034/2034 [00:25<00:00, 79.88it/s]\n"
     ]
    },
    {
     "name": "stdout",
     "output_type": "stream",
     "text": [
      "보간이 필요한 격자 수: 20\n"
     ]
    },
    {
     "name": "stderr",
     "output_type": "stream",
     "text": [
      "생활인구 보간: 100%|███████████████████████████████████████████████████████████████████| 20/20 [00:02<00:00,  9.19it/s]\n"
     ]
    },
    {
     "name": "stdout",
     "output_type": "stream",
     "text": [
      "202404 보간완료 저장 완료!\n",
      "처리 중: 202405\n"
     ]
    },
    {
     "name": "stderr",
     "output_type": "stream",
     "text": [
      "100%|████████████████████████████████████████████████████████████████████████| 315456/315456 [03:06<00:00, 1687.86it/s]\n",
      "202405 wide 생성: 100%|████████████████████████████████████████████████████████████| 2034/2034 [00:26<00:00, 77.13it/s]\n"
     ]
    },
    {
     "name": "stdout",
     "output_type": "stream",
     "text": [
      "보간이 필요한 격자 수: 20\n"
     ]
    },
    {
     "name": "stderr",
     "output_type": "stream",
     "text": [
      "생활인구 보간: 100%|███████████████████████████████████████████████████████████████████| 20/20 [00:02<00:00,  8.95it/s]\n"
     ]
    },
    {
     "name": "stdout",
     "output_type": "stream",
     "text": [
      "202405 보간완료 저장 완료!\n",
      "처리 중: 202406\n"
     ]
    },
    {
     "name": "stderr",
     "output_type": "stream",
     "text": [
      "100%|████████████████████████████████████████████████████████████████████████| 305280/305280 [03:01<00:00, 1677.47it/s]\n",
      "202406 wide 생성: 100%|████████████████████████████████████████████████████████████| 2034/2034 [00:25<00:00, 79.31it/s]\n"
     ]
    },
    {
     "name": "stdout",
     "output_type": "stream",
     "text": [
      "보간이 필요한 격자 수: 20\n"
     ]
    },
    {
     "name": "stderr",
     "output_type": "stream",
     "text": [
      "생활인구 보간: 100%|███████████████████████████████████████████████████████████████████| 20/20 [00:02<00:00,  9.39it/s]\n"
     ]
    },
    {
     "name": "stdout",
     "output_type": "stream",
     "text": [
      "202406 보간완료 저장 완료!\n",
      "처리 중: 202407\n"
     ]
    },
    {
     "name": "stderr",
     "output_type": "stream",
     "text": [
      "100%|████████████████████████████████████████████████████████████████████████| 315456/315456 [03:08<00:00, 1676.05it/s]\n",
      "202407 wide 생성: 100%|████████████████████████████████████████████████████████████| 2034/2034 [00:26<00:00, 75.88it/s]\n"
     ]
    },
    {
     "name": "stdout",
     "output_type": "stream",
     "text": [
      "보간이 필요한 격자 수: 20\n"
     ]
    },
    {
     "name": "stderr",
     "output_type": "stream",
     "text": [
      "생활인구 보간: 100%|███████████████████████████████████████████████████████████████████| 20/20 [00:02<00:00,  8.85it/s]\n"
     ]
    },
    {
     "name": "stdout",
     "output_type": "stream",
     "text": [
      "202407 보간완료 저장 완료!\n",
      "처리 중: 202408\n"
     ]
    },
    {
     "name": "stderr",
     "output_type": "stream",
     "text": [
      "100%|████████████████████████████████████████████████████████████████████████| 315456/315456 [03:06<00:00, 1690.57it/s]\n",
      "202408 wide 생성: 100%|████████████████████████████████████████████████████████████| 2034/2034 [00:26<00:00, 76.79it/s]\n"
     ]
    },
    {
     "name": "stdout",
     "output_type": "stream",
     "text": [
      "보간이 필요한 격자 수: 20\n"
     ]
    },
    {
     "name": "stderr",
     "output_type": "stream",
     "text": [
      "생활인구 보간: 100%|███████████████████████████████████████████████████████████████████| 20/20 [00:02<00:00,  8.28it/s]\n"
     ]
    },
    {
     "name": "stdout",
     "output_type": "stream",
     "text": [
      "202408 보간완료 저장 완료!\n",
      "처리 중: 202409\n"
     ]
    },
    {
     "name": "stderr",
     "output_type": "stream",
     "text": [
      "100%|████████████████████████████████████████████████████████████████████████| 305280/305280 [03:02<00:00, 1670.85it/s]\n",
      "202409 wide 생성: 100%|████████████████████████████████████████████████████████████| 2034/2034 [00:25<00:00, 79.56it/s]\n"
     ]
    },
    {
     "name": "stdout",
     "output_type": "stream",
     "text": [
      "보간이 필요한 격자 수: 20\n"
     ]
    },
    {
     "name": "stderr",
     "output_type": "stream",
     "text": [
      "생활인구 보간: 100%|███████████████████████████████████████████████████████████████████| 20/20 [00:02<00:00,  9.14it/s]\n"
     ]
    },
    {
     "name": "stdout",
     "output_type": "stream",
     "text": [
      "202409 보간완료 저장 완료!\n",
      "처리 중: 202410\n"
     ]
    },
    {
     "name": "stderr",
     "output_type": "stream",
     "text": [
      "100%|████████████████████████████████████████████████████████████████████████| 315456/315456 [03:06<00:00, 1688.35it/s]\n",
      "202410 wide 생성: 100%|████████████████████████████████████████████████████████████| 2034/2034 [00:26<00:00, 77.10it/s]\n"
     ]
    },
    {
     "name": "stdout",
     "output_type": "stream",
     "text": [
      "보간이 필요한 격자 수: 20\n"
     ]
    },
    {
     "name": "stderr",
     "output_type": "stream",
     "text": [
      "생활인구 보간: 100%|███████████████████████████████████████████████████████████████████| 20/20 [00:02<00:00,  8.95it/s]\n"
     ]
    },
    {
     "name": "stdout",
     "output_type": "stream",
     "text": [
      "202410 보간완료 저장 완료!\n",
      "처리 중: 202411\n"
     ]
    },
    {
     "name": "stderr",
     "output_type": "stream",
     "text": [
      "100%|████████████████████████████████████████████████████████████████████████| 305280/305280 [03:01<00:00, 1678.69it/s]\n",
      "202411 wide 생성: 100%|████████████████████████████████████████████████████████████| 2034/2034 [00:25<00:00, 80.33it/s]\n"
     ]
    },
    {
     "name": "stdout",
     "output_type": "stream",
     "text": [
      "보간이 필요한 격자 수: 20\n"
     ]
    },
    {
     "name": "stderr",
     "output_type": "stream",
     "text": [
      "생활인구 보간: 100%|███████████████████████████████████████████████████████████████████| 20/20 [00:02<00:00,  8.58it/s]\n"
     ]
    },
    {
     "name": "stdout",
     "output_type": "stream",
     "text": [
      "202411 보간완료 저장 완료!\n",
      "처리 중: 202412\n"
     ]
    },
    {
     "name": "stderr",
     "output_type": "stream",
     "text": [
      "100%|████████████████████████████████████████████████████████████████████████| 315456/315456 [03:08<00:00, 1671.40it/s]\n",
      "202412 wide 생성: 100%|████████████████████████████████████████████████████████████| 2034/2034 [00:26<00:00, 76.55it/s]\n"
     ]
    },
    {
     "name": "stdout",
     "output_type": "stream",
     "text": [
      "보간이 필요한 격자 수: 20\n"
     ]
    },
    {
     "name": "stderr",
     "output_type": "stream",
     "text": [
      "생활인구 보간: 100%|███████████████████████████████████████████████████████████████████| 20/20 [00:02<00:00,  8.97it/s]\n"
     ]
    },
    {
     "name": "stdout",
     "output_type": "stream",
     "text": [
      "202412 보간완료 저장 완료!\n"
     ]
    }
   ],
   "source": [
    "# 기본정보\n",
    "keyword_list = ['주거지역', '상업지역', '공업지역', '전용주거지역', '준공업지역', '근린상업지역', '복합지역']\n",
    "poi_df = pd.read_csv(\"./merge/서울시_관광특구_POI_좌표.csv\", encoding='cp949')\n",
    "grid_df = pd.read_csv(\"./서울시격자_아동인구매핑완료.csv\", encoding='utf-8')\n",
    "grid_df['행정동코드'] = grid_df['행정동코드'].astype(str)\n",
    "poi_coords = list(zip(poi_df['latitude'], poi_df['longitude']))\n",
    "\n",
    "# 공통함수\n",
    "def contains_residential(info):\n",
    "    try:\n",
    "        d = ast.literal_eval(info)\n",
    "        return any(any(k in key for k in keyword_list) for key in d)\n",
    "    except:\n",
    "        return False\n",
    "\n",
    "def calc_distance_weight(lat, lon):\n",
    "    grid_point = (lat, lon)\n",
    "    return sum(1 / max(haversine(grid_point, poi), 0.001) for poi in poi_coords)\n",
    "\n",
    "def calc_centroid(geom):\n",
    "    try:\n",
    "        poly = wkt.loads(geom)\n",
    "        return poly.centroid.y, poly.centroid.x\n",
    "    except:\n",
    "        return None, None\n",
    "\n",
    "def extract_centroid_coords(geom_str):\n",
    "    try:\n",
    "        polygon = wkt.loads(geom_str)\n",
    "        centroid = polygon.centroid\n",
    "        return pd.Series({'lon': centroid.x, 'lat': centroid.y})\n",
    "    except:\n",
    "        return pd.Series({'lon': None, 'lat': None})\n",
    "\n",
    "# 1년 루프\n",
    "for yyyymm in [f\"2024{m:02d}\" for m in range(1, 13)]:\n",
    "    print(f\"처리 중: {yyyymm}\")\n",
    "\n",
    "    path = f\"G:\\\\내 드라이브\\\\DIMA\\\\프로젝트\\\\생활인구데이터\\\\LOCAL_PEOPLE_DONG_{yyyymm}.csv\"\n",
    "    if not os.path.exists(path):\n",
    "        print(f\"{path} 파일 없음, 건너뜀\")\n",
    "        continue\n",
    "\n",
    "    # 생활인구 로딩 및 전처리\n",
    "    people_df = pd.read_csv(path, index_col=False, encoding='utf-8')\n",
    "    people_df['행정동코드'] = people_df['행정동코드'].astype(float).astype(int).astype(str)\n",
    "\n",
    "    # 보간 매핑 정의\n",
    "    보간매핑 = {\n",
    "        '11305600': ['11305615', '11305625', '11305635'],\n",
    "        '11305590': ['11305595'],\n",
    "        '11740520': ['11740525', '11740526']\n",
    "    }\n",
    "    전체매핑 = {**보간매핑, **{c: [c] for c in people_df['행정동코드'].unique() if c not in 보간매핑}}\n",
    "\n",
    "    # 거주 가능 격자 필터링 + 가중치 계산\n",
    "    res_grids = grid_df[grid_df['지적편집도_상세정보'].apply(contains_residential)].copy()\n",
    "    res_grids[['lat', 'lon']] = res_grids['geometry'].apply(lambda g: pd.Series(calc_centroid(g)))\n",
    "    res_grids['거주가중치'] = 1.0\n",
    "    res_grids['거리가중치'] = res_grids.apply(lambda row: calc_distance_weight(row['lat'], row['lon']), axis=1)\n",
    "    res_grids['최종가중치'] = res_grids['거주가중치'] * res_grids['거리가중치']\n",
    "\n",
    "    # 인구 분배\n",
    "    grid_values = defaultdict(lambda: defaultdict(float))\n",
    "    for _, row in tqdm(people_df.iterrows(), total=len(people_df)):\n",
    "        date_id = str(row['기준일ID'])\n",
    "        hour = int(row['시간대구분'])\n",
    "        col_name = f\"{date_id}_{hour:02d}\"\n",
    "        hd_code = row['행정동코드']\n",
    "        pop = float(row['총생활인구수'])\n",
    "\n",
    "        target_codes = 전체매핑.get(hd_code, [hd_code])\n",
    "        sub_grids = res_grids[res_grids['행정동코드'].isin(target_codes)]\n",
    "\n",
    "        if sub_grids.empty:\n",
    "            continue\n",
    "\n",
    "        weights = sub_grids['최종가중치'].values\n",
    "        weight_sum = weights.sum()\n",
    "        if weight_sum == 0:\n",
    "            continue\n",
    "\n",
    "        ratios = weights / weight_sum\n",
    "        for grid_id, ratio in zip(sub_grids['grid_id'], ratios):\n",
    "            grid_values[grid_id][col_name] += pop * ratio\n",
    "\n",
    "    # 5. wide 포맷 저장 (모든 격자 유지)\n",
    "    all_columns = sorted({col for d in grid_values.values() for col in d})\n",
    "    wide_df = pd.DataFrame(index=grid_df['grid_id'], columns=all_columns, dtype=float).fillna(0.0)\n",
    "\n",
    "    for grid_id in tqdm(grid_values, desc=f\"{yyyymm} wide 생성\"):\n",
    "        for col, value in grid_values[grid_id].items():\n",
    "            wide_df.at[grid_id, col] = float(value)\n",
    "\n",
    "    wide_df.reset_index(inplace=True)\n",
    "    wide_df.rename(columns={'index': 'grid_id'}, inplace=True)\n",
    "\n",
    "    # 격자와 병합 + 저장 (left join)\n",
    "    final_df = pd.merge(grid_df, wide_df, on=\"grid_id\", how=\"left\").fillna(0)\n",
    "\n",
    "    # 최종 저장 전 보간 처리 코드\n",
    "    interpolation_target_dongs = {\n",
    "        '항동': ['오류2동', '수궁동'],\n",
    "        '개포3동': ['잠실본동', '대치2동', '개포2동', '일원본동', '일원1동', '삼전동'],\n",
    "        '번2동': ['창3동', '미아동', '번1동'],\n",
    "        '번3동': ['장위1동', '장위3동', '월계2동', '송중동'],\n",
    "        '상일2동': ['강일동', '고덕2동'],\n",
    "        '상일1동': ['고덕2동', '고덕1동', '명일2동'],\n",
    "        '제기동': ['청량리동', '용신동'],\n",
    "        '홍제1동': ['홍제2동', '홍제3동'],\n",
    "        '홍제2동': ['홍제1동', '홍제3동'],\n",
    "        '홍제3동': ['홍제1동', '홍제2동']\n",
    "    }\n",
    "    \n",
    "    # 생활인구 컬럼 정의 (날짜_시간대 형식)\n",
    "    pop_columns = [col for col in final_df.columns if re.match(r'20\\d{6}_\\d{2}', col)]\n",
    "    \n",
    "    # 거주 가능하지만 생활인구가 0인 격자 확인\n",
    "    final_df['총생활인구수'] = final_df[pop_columns].sum(axis=1)\n",
    "    no_pop_grids = final_df[\n",
    "        (final_df['총생활인구수'] == 0) &\n",
    "        final_df['지적편집도_상세정보'].apply(contains_residential)\n",
    "    ]\n",
    "    \n",
    "    print(f\"보간이 필요한 격자 수: {len(no_pop_grids)}\")\n",
    "    \n",
    "    # 보간 처리 수행\n",
    "    for idx, row in tqdm(no_pop_grids.iterrows(), total=len(no_pop_grids), desc=\"생활인구 보간\"):\n",
    "        target_dong = row['행정동명']\n",
    "        ref_dongs = interpolation_target_dongs.get(target_dong, [])\n",
    "        \n",
    "        if not ref_dongs:\n",
    "            continue\n",
    "        \n",
    "        ref_grids = final_df[final_df['행정동명'].isin(ref_dongs) & (final_df['총생활인구수'] > 0)]\n",
    "        \n",
    "        if ref_grids.empty:\n",
    "            continue\n",
    "        \n",
    "        # 참조 동의 평균 생활인구를 구해 보간\n",
    "        mean_pop = ref_grids[pop_columns].mean()\n",
    "        final_df.loc[idx, pop_columns] = mean_pop.values\n",
    "        final_df.loc[idx, '총생활인구수'] = mean_pop.sum()\n",
    "\n",
    "    # 최종 저장\n",
    "    final_df.drop(columns=['총생활인구수'], inplace=True)\n",
    "    final_df.to_csv(f\"./서울시격자_{yyyymm}_보간완료.csv\", index=False)\n",
    "    print(f\"{yyyymm} 보간완료 저장 완료!\")"
   ]
  },
  {
   "cell_type": "markdown",
   "id": "6025b336-67e0-49ce-8fc8-365d2bee5470",
   "metadata": {},
   "source": [
    "### 누락확인"
   ]
  },
  {
   "cell_type": "code",
   "execution_count": 10,
   "id": "ffa9bc5e-c978-4ebf-a08e-4b4eefec3752",
   "metadata": {},
   "outputs": [
    {
     "name": "stdout",
     "output_type": "stream",
     "text": [
      "\n",
      "202401 검사 중\n",
      " - 거주 가능 격자 중 인구 0인 격자 수: 0\n",
      "\n",
      "202402 검사 중\n",
      " - 거주 가능 격자 중 인구 0인 격자 수: 0\n",
      "\n",
      "202403 검사 중\n",
      " - 거주 가능 격자 중 인구 0인 격자 수: 0\n",
      "\n",
      "202404 검사 중\n",
      " - 거주 가능 격자 중 인구 0인 격자 수: 0\n",
      "\n",
      "202405 검사 중\n",
      " - 거주 가능 격자 중 인구 0인 격자 수: 0\n",
      "\n",
      "202406 검사 중\n",
      " - 거주 가능 격자 중 인구 0인 격자 수: 0\n",
      "\n",
      "202407 검사 중\n",
      " - 거주 가능 격자 중 인구 0인 격자 수: 0\n",
      "\n",
      "202408 검사 중\n",
      " - 거주 가능 격자 중 인구 0인 격자 수: 0\n",
      "\n",
      "202409 검사 중\n",
      " - 거주 가능 격자 중 인구 0인 격자 수: 0\n",
      "\n",
      "202410 검사 중\n",
      " - 거주 가능 격자 중 인구 0인 격자 수: 0\n",
      "\n",
      "202411 검사 중\n",
      " - 거주 가능 격자 중 인구 0인 격자 수: 0\n",
      "\n",
      "202412 검사 중\n",
      " - 거주 가능 격자 중 인구 0인 격자 수: 0\n"
     ]
    }
   ],
   "source": [
    "# 키워드와 함수 정의\n",
    "keyword_list = ['주거지역', '상업지역', '공업지역', '전용주거지역', '준공업지역', '근린상업지역', '복합지역']\n",
    "grid_df = pd.read_csv(\"./서울시격자_아동인구매핑완료.csv\", encoding='utf-8')\n",
    "grid_df['행정동코드'] = grid_df['행정동코드'].astype(str)\n",
    "\n",
    "def contains_residential(info):\n",
    "    try:\n",
    "        d = ast.literal_eval(info)\n",
    "        return any(any(k in key for k in keyword_list) for key in d)\n",
    "    except:\n",
    "        return False\n",
    "\n",
    "# 거주 가능 격자 ID 추출\n",
    "res_grids = grid_df[grid_df['지적편집도_상세정보'].apply(contains_residential)]\n",
    "residential_ids = set(res_grids['grid_id'])\n",
    "\n",
    "# 루프 돌면서 누락 확인\n",
    "for yyyymm in [f\"2024{m:02d}\" for m in range(1, 13)]:\n",
    "    print(f\"\\n{yyyymm} 검사 중\")\n",
    "\n",
    "    merged_path = f\"서울시격자_{yyyymm}_보간완료.csv\"\n",
    "    if not os.path.exists(merged_path):\n",
    "        print(f\" - 파일 없음: {merged_path}\")\n",
    "        continue\n",
    "\n",
    "    merged_df = pd.read_csv(merged_path)\n",
    "\n",
    "    # 인구 관련 열 추출\n",
    "    pop_cols = [col for col in merged_df.columns if re.fullmatch(r'20\\d{6}_\\d{2}', col)]\n",
    "    merged_df['인구합'] = merged_df[pop_cols].sum(axis=1)\n",
    "\n",
    "    # 인구합이 0인 격자\n",
    "    zero_pop_grids = merged_df[merged_df['인구합'] == 0]['grid_id'].tolist()\n",
    "\n",
    "    # 거주 가능한데 인구가 0인 격자만 필터링\n",
    "    missed = [gid for gid in zero_pop_grids if gid in residential_ids]\n",
    "\n",
    "    print(f\" - 거주 가능 격자 중 인구 0인 격자 수: {len(missed)}\")\n",
    "    if missed:\n",
    "        print(f\"   예시: {missed[:5]}\")"
   ]
  },
  {
   "cell_type": "markdown",
   "id": "331a93ce-2751-4fe1-b87e-7f9d586db23a",
   "metadata": {},
   "source": [
    "### 매핑수치 확인"
   ]
  },
  {
   "cell_type": "code",
   "execution_count": null,
   "id": "4b0b38b8-b5a2-446e-b4c8-9c222729dd67",
   "metadata": {},
   "outputs": [],
   "source": [
    "for yyyymm in [f\"2024{m:02d}\" for m in range(1, 13)]:\n",
    "    print(f\"\\n{yyyymm} 비교 중\")\n",
    "\n",
    "    pred_path = f\"./서울시격자_{yyyymm}_보간완료.csv\"\n",
    "    true_path = f\"G:\\\\내 드라이브\\\\DIMA\\\\프로젝트\\\\생활인구데이터\\\\LOCAL_PEOPLE_DONG_{yyyymm}.csv\"\n",
    "\n",
    "    if not os.path.exists(pred_path) or not os.path.exists(true_path):\n",
    "        print(f\" - 파일 누락: {pred_path if not os.path.exists(pred_path) else true_path}\")\n",
    "        continue\n",
    "\n",
    "    # 파일 로딩\n",
    "    pred_df = pd.read_csv(pred_path, encoding='utf-8')\n",
    "    true_df = pd.read_csv(true_path, encoding='utf-8', index_col=False)\n",
    "\n",
    "    # 정제\n",
    "    pred_df['행정동코드'] = pred_df['행정동코드'].astype(str)\n",
    "    true_df['행정동코드'] = true_df['행정동코드'].astype(float).astype(int).astype(str)\n",
    "    true_df['colname'] = true_df.apply(lambda r: f\"{r['기준일ID']}_{int(r['시간대구분']):02d}\", axis=1)\n",
    "\n",
    "    # 시간 필터\n",
    "    time_columns = [col for col in pred_df.columns if col.startswith(\"2024\") and len(col) == 11]\n",
    "\n",
    "    # 집계 및 병합\n",
    "    pred_by_dong = pred_df.groupby(\"행정동코드\")[time_columns].sum().reset_index()\n",
    "    true_pivot = true_df.pivot_table(index=\"행정동코드\", columns=\"colname\", values=\"총생활인구수\", aggfunc=\"sum\").reset_index()\n",
    "    merged = pd.merge(pred_by_dong, true_pivot, on=\"행정동코드\", suffixes=(\"_예측\", \"_실제\"))\n",
    "\n",
    "    # 비교 지표 계산\n",
    "    metrics = []\n",
    "    for col in time_columns:\n",
    "        col_pred = f\"{col}_예측\"\n",
    "        col_true = f\"{col}_실제\"\n",
    "        if col_pred not in merged.columns or col_true not in merged.columns:\n",
    "            continue\n",
    "\n",
    "        pred = merged[col_pred]\n",
    "        true = merged[col_true]\n",
    "        diff = (pred - true).abs()\n",
    "        mae = diff.mean()\n",
    "        rmse = np.sqrt(((pred - true) ** 2).mean())\n",
    "        total_diff = (pred.sum() - true.sum()) / true.sum() * 100\n",
    "\n",
    "        metrics.append({\n",
    "            \"시간대\": col,\n",
    "            \"MAE\": mae,\n",
    "            \"RMSE\": rmse,\n",
    "            \"총량오차(%)\": total_diff\n",
    "        })\n",
    "\n",
    "    month_result_df = pd.DataFrame(metrics)\n",
    "    print(month_result_df.head(24))"
   ]
  },
  {
   "cell_type": "markdown",
   "id": "866ab48f-4143-4d76-871a-1b0161d5ee00",
   "metadata": {},
   "source": [
    "### 케플러 파일 조정 저장"
   ]
  },
  {
   "cell_type": "code",
   "execution_count": null,
   "id": "5ef7c531-3d75-4287-918d-f25ecba14875",
   "metadata": {},
   "outputs": [],
   "source": [
    "import pandas as pd\n",
    "import shapely.wkt\n",
    "from shapely.geometry import Point\n",
    "from datetime import datetime\n",
    "from tqdm import tqdm\n",
    "\n",
    "tqdm.pandas()\n",
    "\n",
    "# CSV 로드\n",
    "df = pd.read_csv(\"./서울시격자_202412_보간완료.csv\")\n",
    "df[\"geometry_obj\"] = df[\"geometry\"].progress_apply(shapely.wkt.loads)\n",
    "\n",
    "# 아동인구 CSV (Polygon)\n",
    "print(\"아동인구 CSV 저장 시작\")\n",
    "df[\"아동인구\"] = df[\"2024_0-4세\"] + df[\"2024_5-9세\"]\n",
    "df_out = df[[\"grid_id\", \"아동인구\", \"geometry\"]].copy()\n",
    "df_out.to_csv(\"./시각화용파일/kepler_아동인구.csv\", index=False, encoding=\"utf-8-sig\")\n",
    "print(\"kepler_아동인구.csv 저장 완료\")\n",
    "\n",
    "\n",
    "# 생활인구 CSV (Polygon + 시간별)\n",
    "print(\"생활인구 시간별 CSV 저장 시작\")\n",
    "pop_cols = [col for col in df.columns if col.startswith(\"202412\")]\n",
    "\n",
    "rows = []\n",
    "for i in tqdm(range(len(df)), desc=\"생활인구\"):\n",
    "    row = df.iloc[i]\n",
    "    for col in pop_cols:\n",
    "        try:\n",
    "            dt = datetime.strptime(col, \"%Y%m%d_%H\")\n",
    "            value = row[col]\n",
    "            if pd.notnull(value):\n",
    "                rows.append({\n",
    "                    \"grid_id\": row[\"grid_id\"],\n",
    "                    \"datetime\": dt.strftime(\"%Y-%m-%d %H:%M:%S\"),\n",
    "                    \"생활인구\": int(value),\n",
    "                    \"geometry\": row[\"geometry\"]\n",
    "                })\n",
    "        except:\n",
    "            continue\n",
    "\n",
    "df_pop = pd.DataFrame(rows)\n",
    "df_pop.to_csv(\"./시각화용파일/kepler_생활인구_시간별.csv\", index=False, encoding=\"utf-8-sig\")\n",
    "print(\"kepler_생활인구_시간별.csv 저장 완료\")\n",
    "\n",
    "\n",
    "# 시설정보 CSV (Point만)\n",
    "print(\"시설정보 CSV 저장 시작\")\n",
    "facility_cols = [\n",
    "    \"서울형공립키즈카페_정보\",\n",
    "    \"인증제키즈카페_정보\",\n",
    "    \"일반키즈카페_정보\",\n",
    "    \"유치원_초등학교_정보\",\n",
    "    \"어린이집_정보\",\n",
    "    \"지역아동센터_정보\",\n",
    "    \"키움센터_정보\",\n",
    "    \"유흥시설_정보\",\n",
    "    \"대중교통_정보\",\n",
    "]\n",
    "\n",
    "records = []\n",
    "for col in tqdm(facility_cols, desc=\"시설 처리\"):\n",
    "    category = col.replace(\"_정보\", \"\")\n",
    "    for wkt_str in df[col].dropna().unique():\n",
    "        try:\n",
    "            pt = shapely.wkt.loads(wkt_str)\n",
    "            if isinstance(pt, Point):\n",
    "                records.append({\n",
    "                    \"category\": category,\n",
    "                    \"custom_category\": category,\n",
    "                    \"lon\": round(pt.x, 6),\n",
    "                    \"lat\": round(pt.y, 6)\n",
    "                })\n",
    "        except:\n",
    "            continue\n",
    "\n",
    "df_facility = pd.DataFrame(records)\n",
    "df_facility.to_csv(\"./시각화용파일/kepler_시설정보_포인트.csv\", index=False, encoding=\"utf-8-sig\")\n",
    "print(\"kepler_시설정보_포인트.csv 저장 완료\")"
   ]
  },
  {
   "cell_type": "code",
   "execution_count": null,
   "id": "9a8363f4-c99a-4b2c-a703-a09951f93409",
   "metadata": {},
   "outputs": [],
   "source": [
    "import pandas as pd\n",
    "import shapely.wkt\n",
    "from datetime import datetime\n",
    "from tqdm import tqdm\n",
    "\n",
    "# CSV 로드\n",
    "df = pd.read_csv(\"./서울시격자_202412.csv\")\n",
    "df[\"geometry_obj\"] = df[\"geometry\"].apply(shapely.wkt.loads)\n",
    "\n",
    "# 시간대 컬럼만 추출\n",
    "pop_cols = [col for col in df.columns if col.startswith(\"202412\")]\n",
    "\n",
    "# long 형식 stream 저장\n",
    "print(\"생활인구 long 형식 stream 저장 시작\")\n",
    "with open(\"./시각화용파일/kepler_생활인구_시간별.csv\", \"w\", encoding=\"utf-8-sig\") as f:\n",
    "    f.write(\"grid_id,datetime,생활인구,geometry\\n\")  # 헤더\n",
    "\n",
    "    for i in tqdm(range(len(df)), desc=\"Row 저장\"):\n",
    "        row = df.iloc[i]\n",
    "        for col in pop_cols:\n",
    "            try:\n",
    "                dt = datetime.strptime(col, \"%Y%m%d_%H\")\n",
    "                val = row[col]\n",
    "                if pd.notnull(val):\n",
    "                    line = f\"{row['grid_id']},{dt.strftime('%Y-%m-%d %H:%M:%S')},{int(val)},{row['geometry']}\\n\"\n",
    "                    f.write(line)\n",
    "            except:\n",
    "                continue\n",
    "\n",
    "print(\"kepler_생활인구_시간별.csv 저장 완료 (long format)\")"
   ]
  },
  {
   "cell_type": "code",
   "execution_count": null,
   "id": "db678509-ac9a-470a-bcdb-d01264155691",
   "metadata": {},
   "outputs": [],
   "source": [
    "import pandas as pd\n",
    "import shapely.wkt\n",
    "from datetime import datetime\n",
    "from tqdm import tqdm\n",
    "\n",
    "# 원본 CSV 로드\n",
    "df = pd.read_csv(\"./서울시격자_202412.csv\")\n",
    "df[\"geometry_obj\"] = df[\"geometry\"].apply(shapely.wkt.loads)\n",
    "\n",
    "# 하반기 대상 컬럼만 추출 (2024년 7~12월)\n",
    "target_months = [\"202407\", \"202408\", \"202409\", \"202410\", \"202411\", \"202412\"]\n",
    "pop_cols = [col for col in df.columns if any(col.startswith(month) for month in target_months)]\n",
    "\n",
    "# stream 방식으로 long format 저장\n",
    "print(\"2024 하반기 생활인구 long 형식 stream 저장 시작\")\n",
    "with open(\"./시각화용파일/kepler_생활인구_2024하반기.csv\", \"w\", encoding=\"utf-8-sig\") as f:\n",
    "    f.write(\"grid_id,datetime,생활인구,geometry\\n\")  # 헤더\n",
    "\n",
    "    for i in tqdm(range(len(df)), desc=\"Row 저장\"):\n",
    "        row = df.iloc[i]\n",
    "        for col in pop_cols:\n",
    "            try:\n",
    "                dt = datetime.strptime(col, \"%Y%m%d_%H\")\n",
    "                val = row[col]\n",
    "                if pd.notnull(val):\n",
    "                    line = f\"{row['grid_id']},{dt.strftime('%Y-%m-%d %H:%M:%S')},{int(val)},{row['geometry']}\\n\"\n",
    "                    f.write(line)\n",
    "            except:\n",
    "                continue\n",
    "\n",
    "print(\"kepler_생활인구_2024하반기.csv 저장 완료\")"
   ]
  },
  {
   "cell_type": "code",
   "execution_count": null,
   "id": "ea055280-bb6b-447c-8a9e-aae8de97f8ff",
   "metadata": {},
   "outputs": [],
   "source": [
    "import pandas as pd\n",
    "import shapely.wkt\n",
    "from datetime import datetime\n",
    "from tqdm import tqdm\n",
    "\n",
    "# 원본 CSV 로드\n",
    "df = pd.read_csv(\"./서울시격자_202412.csv\")\n",
    "df[\"geometry_obj\"] = df[\"geometry\"].apply(shapely.wkt.loads)\n",
    "\n",
    "# 2024년 4분기 컬럼만 추출\n",
    "target_months = [\"202410\", \"202411\", \"202412\"]\n",
    "pop_cols = [col for col in df.columns if any(col.startswith(month) for month in target_months)]\n",
    "\n",
    "# stream 방식으로 long format 저장\n",
    "print(\"2024 4분기 생활인구 stream 저장 시작\")\n",
    "with open(\"./시각화용파일/kepler_생활인구_2024Q4.csv\", \"w\", encoding=\"utf-8-sig\") as f:\n",
    "    f.write(\"grid_id,datetime,생활인구,geometry\\n\")  # 헤더\n",
    "\n",
    "    for i in tqdm(range(len(df)), desc=\"Row 저장\"):\n",
    "        row = df.iloc[i]\n",
    "        for col in pop_cols:\n",
    "            try:\n",
    "                dt = datetime.strptime(col, \"%Y%m%d_%H\")\n",
    "                val = row[col]\n",
    "                if pd.notnull(val):\n",
    "                    line = f\"{row['grid_id']},{dt.strftime('%Y-%m-%d %H:%M:%S')},{int(val)},{row['geometry']}\\n\"\n",
    "                    f.write(line)\n",
    "            except:\n",
    "                continue\n",
    "\n",
    "print(\"kepler_생활인구_2024Q4.csv 저장 완료\")"
   ]
  },
  {
   "cell_type": "code",
   "execution_count": null,
   "id": "4144fb31-5980-47af-83de-8ad6d5dc40da",
   "metadata": {},
   "outputs": [],
   "source": [
    "import pandas as pd\n",
    "import shapely.wkt\n",
    "from datetime import datetime\n",
    "from tqdm import tqdm\n",
    "\n",
    "# CSV 로드\n",
    "df = pd.read_csv(\"./서울시격자_202412.csv\")\n",
    "df[\"geometry_obj\"] = df[\"geometry\"].apply(shapely.wkt.loads)\n",
    "\n",
    "# 202412만 필터링\n",
    "pop_cols = [col for col in df.columns if col.startswith(\"202412\")]\n",
    "\n",
    "# stream 저장\n",
    "print(\"2024년 12월 생활인구 저장 시작\")\n",
    "with open(\"./시각화용파일/kepler_생활인구_202412.csv\", \"w\", encoding=\"utf-8-sig\") as f:\n",
    "    f.write(\"grid_id,datetime,생활인구,geometry\\n\")  # 헤더\n",
    "\n",
    "    for i in tqdm(range(len(df)), desc=\"Row 저장\"):\n",
    "        row = df.iloc[i]\n",
    "        for col in pop_cols:\n",
    "            try:\n",
    "                dt = datetime.strptime(col, \"%Y%m%d_%H\")\n",
    "                val = row[col]\n",
    "                if pd.notnull(val):\n",
    "                    f.write(f\"{row['grid_id']},{dt.strftime('%Y-%m-%d %H:%M:%S')},{int(val)},{row['geometry']}\\n\")\n",
    "            except:\n",
    "                continue\n",
    "\n",
    "print(\"kepler_생활인구_202412.csv 저장 완료\")"
   ]
  },
  {
   "cell_type": "code",
   "execution_count": null,
   "id": "0ce27c3d-5f2d-49a9-9eba-d68531e36fe5",
   "metadata": {},
   "outputs": [],
   "source": [
    "import pandas as pd\n",
    "import ast  # 문자열 리스트 safely eval\n",
    "from tqdm import tqdm\n",
    "\n",
    "df = pd.read_csv(\"./서울시격자_202412_보간완료.csv\")\n",
    "\n",
    "facility_cols = [\n",
    "    \"서울형공립키즈카페_정보\",\n",
    "    \"인증제키즈카페_정보\",\n",
    "    \"일반키즈카페_정보\",\n",
    "    \"유치원_초등학교_정보\",\n",
    "    \"어린이집_정보\",\n",
    "    \"지역아동센터_정보\",\n",
    "    \"키움센터_정보\",\n",
    "    \"유흥시설_정보\",\n",
    "    \"대중교통_정보\",\n",
    "]\n",
    "\n",
    "records = []\n",
    "\n",
    "for col in tqdm(facility_cols, desc=\"시설 포인트 추출\"):\n",
    "    category = col.replace(\"_정보\", \"\")\n",
    "    for raw in df[col].dropna().unique():\n",
    "        try:\n",
    "            facility_list = ast.literal_eval(raw)\n",
    "            for item in facility_list:\n",
    "                lat = float(item.get(\"위도\", None))\n",
    "                lon = float(item.get(\"경도\", None))\n",
    "                if lat and lon:\n",
    "                    records.append({\n",
    "                        \"category\": category,\n",
    "                        \"custom_category\": category,\n",
    "                        \"lat\": round(lat, 6),\n",
    "                        \"lon\": round(lon, 6)\n",
    "                    })\n",
    "        except Exception as e:\n",
    "            continue  # malformed JSON-like string, just skip\n",
    "\n",
    "df_facility = pd.DataFrame(records)\n",
    "df_facility.to_csv(\"./시각화용파일/kepler_시설정보_포인트.csv\", index=False, encoding=\"utf-8-sig\")\n",
    "print(f\"저장 완료! 시설 수: {len(df_facility)}개\")"
   ]
  },
  {
   "cell_type": "code",
   "execution_count": null,
   "id": "d6ede3fa-e024-4c00-831d-ec9c5e8d876f",
   "metadata": {},
   "outputs": [],
   "source": [
    "import pandas as pd\n",
    "import shapely.wkt\n",
    "from datetime import datetime\n",
    "from tqdm import tqdm\n",
    "\n",
    "# 원본 CSV 로드\n",
    "df = pd.read_csv(\"./서울시격자_202412_보간완료.csv\")\n",
    "\n",
    "# geometry 파싱\n",
    "df[\"geometry_obj\"] = df[\"geometry\"].apply(shapely.wkt.loads)\n",
    "\n",
    "# 2024-12-01 ~ 2024-12-03 기간만 추출\n",
    "target_days = [f\"202412{str(day).zfill(2)}\" for day in range(1, 4)]\n",
    "pop_cols = [col for col in df.columns if any(col.startswith(day) for day in target_days)]\n",
    "\n",
    "# stream 방식 long format 저장\n",
    "print(\"2024년 12월 1~3일 생활인구 저장 시작...\")\n",
    "with open(\"./시각화용파일/kepler_생활인구_202412_3일치.csv\", \"w\", encoding=\"utf-8-sig\") as f:\n",
    "    f.write(\"grid_id,datetime,생활인구,geometry\\n\")\n",
    "\n",
    "    for i in tqdm(range(len(df)), desc=\"Row 저장\"):\n",
    "        row = df.iloc[i]\n",
    "        for col in pop_cols:\n",
    "            try:\n",
    "                dt = datetime.strptime(col, \"%Y%m%d_%H\")\n",
    "                val = row[col]\n",
    "                if pd.notnull(val):\n",
    "                    wkt_geom = f'\"{row[\"geometry\"]}\"'  # WKT 따옴표 처리\n",
    "                    f.write(f\"{row['grid_id']},{dt.strftime('%Y-%m-%d %H:%M:%S')},{int(val)},{wkt_geom}\\n\")\n",
    "            except:\n",
    "                continue\n",
    "\n",
    "print(\"kepler_생활인구_202412_3일치.csv 저장 완료\")"
   ]
  }
 ],
 "metadata": {
  "kernelspec": {
   "display_name": "Python [conda env:base] *",
   "language": "python",
   "name": "conda-base-py"
  },
  "language_info": {
   "codemirror_mode": {
    "name": "ipython",
    "version": 3
   },
   "file_extension": ".py",
   "mimetype": "text/x-python",
   "name": "python",
   "nbconvert_exporter": "python",
   "pygments_lexer": "ipython3",
   "version": "3.12.7"
  }
 },
 "nbformat": 4,
 "nbformat_minor": 5
}
